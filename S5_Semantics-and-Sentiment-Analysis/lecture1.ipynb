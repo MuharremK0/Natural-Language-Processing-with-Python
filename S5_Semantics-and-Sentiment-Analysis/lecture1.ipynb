{
 "cells": [
  {
   "cell_type": "code",
   "execution_count": 1,
   "id": "initial_id",
   "metadata": {
    "collapsed": true,
    "ExecuteTime": {
     "end_time": "2024-08-09T08:26:39.409236500Z",
     "start_time": "2024-08-09T08:26:39.388765400Z"
    }
   },
   "outputs": [],
   "source": [
    "# JUST QUICK REMINDER : Two Possible Approaches:\n",
    "#   -> CBOW\n",
    "#   -> Skip-gram"
   ]
  },
  {
   "cell_type": "code",
   "execution_count": 2,
   "outputs": [],
   "source": [
    "import spacy"
   ],
   "metadata": {
    "collapsed": false,
    "ExecuteTime": {
     "end_time": "2024-08-09T08:27:02.514735700Z",
     "start_time": "2024-08-09T08:27:00.401248100Z"
    }
   },
   "id": "1621244a76eb2d4d"
  },
  {
   "cell_type": "code",
   "execution_count": 3,
   "outputs": [],
   "source": [
    "nlp = spacy.load('en_core_web_lg')"
   ],
   "metadata": {
    "collapsed": false,
    "ExecuteTime": {
     "end_time": "2024-08-09T08:27:20.731767300Z",
     "start_time": "2024-08-09T08:27:17.068084Z"
    }
   },
   "id": "457a7f1f0f85df0d"
  },
  {
   "cell_type": "code",
   "execution_count": 4,
   "outputs": [
    {
     "data": {
      "text/plain": "array([  1.2746  ,   0.46242 ,  -1.1829  ,  -5.2661  ,  -2.7128  ,\n         1.8521  ,  -0.94273 ,   2.1865  ,   6.503   ,   0.6704  ,\n         1.5361  ,   2.5992  ,  -0.36233 ,   4.3965  ,  -6.5644  ,\n         1.6141  ,  -1.2897  ,   2.1184  ,  -0.63654 ,  -3.4572  ,\n        -4.3771  ,   4.2074  ,  -3.6411  ,  -0.97214 ,   1.3253  ,\n        -2.3125  ,  -3.6531  ,  -2.8398  ,   2.7913  ,  -1.53    ,\n        -2.9984  ,  -2.6357  ,   0.50615 ,  -2.6925  ,   4.3401  ,\n        -5.6017  ,   0.045691,   4.3832  ,  -0.19535 ,  -1.0751  ,\n         0.32172 ,   2.4395  ,   4.6638  ,   3.4471  ,  -3.3847  ,\n        -1.8238  ,   0.70212 ,   0.58557 ,   5.0032  ,  -3.1072  ,\n         1.2364  ,   7.4595  ,   0.057368,   1.0111  ,  -1.0827  ,\n         0.69113 ,   2.8009  ,  -3.4383  ,  -1.0599  ,  -2.2627  ,\n        -5.149   ,  -5.0636  ,   3.1405  ,   1.0793  ,  -0.72892 ,\n        -3.9939  ,  -0.69551 ,  -0.55767 ,   3.2555  ,  -2.9449  ,\n         4.7114  ,   1.6388  ,   1.3828  ,   1.4255  ,  -3.2334  ,\n        -2.274   ,  -1.8136  ,   2.2966  ,   2.5462  ,   1.0722  ,\n        -0.73447 ,   1.2148  ,  -0.9196  ,  -0.065012,   2.088   ,\n         0.57002 ,   3.5746  ,   1.7192  ,  -8.335   ,   0.71079 ,\n         0.91314 ,  -5.0107  ,   1.899   ,  -4.4658  ,   4.7993  ,\n        -0.39899 ,  -2.673   ,  -2.9354  ,   4.304   ,   1.4336  ,\n         3.7121  ,   0.34882 ,   4.6512  ,  -4.5731  ,  -4.5665  ,\n         1.5988  ,  -0.50383 ,   0.95857 ,   0.68728 ,  -0.39976 ,\n        -3.1922  ,   4.4363  ,  -0.69479 ,  -1.9528  ,   4.9376  ,\n         2.7259  ,   2.2485  ,   5.5734  ,   2.5842  ,   4.7836  ,\n        -1.0274  ,   2.2703  ,  -2.0696  ,  -1.0642  ,  -4.932   ,\n        -2.274   ,   4.1409  ,   0.73313 ,   2.1889  ,  -0.098888,\n         1.6472  ,  -2.3985  ,   2.5911  ,   3.6026  ,   1.885   ,\n         5.7822  ,  -1.4481  ,   1.8914  , -10.044   ,  -5.7452  ,\n        -4.3224  ,  -3.854   ,   2.3084  ,  -0.84018 ,  -0.40526 ,\n         4.7741  ,  -2.3271  ,   7.064   ,   0.95753 ,  -2.356   ,\n         0.83953 ,   0.40004 ,   0.33743 ,   0.8376  ,   3.9285  ,\n         0.05955 ,   2.4422  ,   4.3492  ,   3.9861  ,   2.1043  ,\n        -1.0197  ,  -0.61752 ,  -0.42999 ,  -0.1014  ,  -5.9571  ,\n        -0.53818 ,  -1.7797  ,   1.7446  ,   2.3934  ,  -0.50263 ,\n        -1.6222  ,  -0.37372 ,  -6.8938  ,   0.55018 ,  -2.267   ,\n         0.64912 ,   3.1525  ,  -2.2541  ,  -4.0384  ,   3.206   ,\n         0.14962 ,  -2.6662  ,   0.18167 ,   5.0028  ,   2.1521  ,\n         0.92419 ,   5.4163  ,  -2.2408  ,   1.6585  ,  -5.1625  ,\n         5.029   ,   0.1026  ,  -0.44542 ,   2.0557  ,   3.7778  ,\n         3.8679  ,  -2.7135  ,   5.3242  ,  -3.2916  ,   5.6421  ,\n         5.0466  ,   1.6072  ,  -1.3206  ,   4.2044  ,  -0.33793 ,\n        -3.1139  ,   2.8841  ,  -3.1565  ,  -2.9832  ,  -0.23235 ,\n         2.3259  ,   3.5477  ,  -2.1299  ,  -1.8344  ,   2.7271  ,\n         1.5568  ,   5.6865  ,   0.9412  ,  -2.6412  ,  -5.3254  ,\n         1.3494  ,  -0.47159 ,   2.4979  ,  -1.5568  ,  -1.6911  ,\n        -2.1842  ,   6.0319  ,   0.022573,   2.3824  ,  -1.1002  ,\n         0.90216 ,  -1.9113  ,   1.5527  ,   5.7413  ,  -3.1956  ,\n         0.68655 ,  -1.6068  ,   1.7404  ,  -3.2142  ,   6.4783  ,\n         1.7548  ,  -2.9795  ,   0.97631 ,  -0.018354,  -0.6379  ,\n         0.80559 ,   3.1923  ,   3.3335  ,   4.3068  ,  -1.0819  ,\n        -1.3839  ,  -4.7626  ,  -4.6637  ,  -1.2201  ,  -3.2741  ,\n         1.5204  ,   0.78119 ,   8.7339  ,   1.6009  ,  -0.79332 ,\n         5.8416  ,  -1.485   ,   1.5978  ,   2.9746  ,  -0.30759 ,\n        -1.8023  ,  -4.8344  ,   1.2817  ,  -2.5469  ,   2.6517  ,\n         1.4881  ,   2.1952  ,  -0.12652 ,   1.2223  ,   0.44763 ,\n        -3.1445  ,  -2.2051  ,  -4.1785  ,  -3.6539  ,   5.1929  ,\n         0.78457 ,  -1.2312  ,   5.5624  ,  -1.8462  ,   6.1262  ,\n        -1.6653  ,  -2.7557  ,  -0.066465,  -3.6362  ,   5.2005  ,\n        -1.2865  ,   2.8855  ,   6.1219  ,   1.7824  ,   1.4264  ,\n        10.628   ,  -0.36028 ,   1.9268  ,  -7.835   ,   0.57865 ],\n      dtype=float32)"
     },
     "execution_count": 4,
     "metadata": {},
     "output_type": "execute_result"
    }
   ],
   "source": [
    "nlp(u'lion').vector"
   ],
   "metadata": {
    "collapsed": false,
    "ExecuteTime": {
     "end_time": "2024-08-09T08:27:45.355267900Z",
     "start_time": "2024-08-09T08:27:45.230596800Z"
    }
   },
   "id": "deafc891e770429e"
  },
  {
   "cell_type": "code",
   "execution_count": 5,
   "outputs": [
    {
     "data": {
      "text/plain": "(300,)"
     },
     "execution_count": 5,
     "metadata": {},
     "output_type": "execute_result"
    }
   ],
   "source": [
    "nlp(u'The quick brown fox jumped').vector.shape"
   ],
   "metadata": {
    "collapsed": false,
    "ExecuteTime": {
     "end_time": "2024-08-09T08:28:58.468323600Z",
     "start_time": "2024-08-09T08:28:58.409168700Z"
    }
   },
   "id": "57063d4ef466d969"
  },
  {
   "cell_type": "code",
   "execution_count": 6,
   "outputs": [
    {
     "data": {
      "text/plain": "(300,)"
     },
     "execution_count": 6,
     "metadata": {},
     "output_type": "execute_result"
    }
   ],
   "source": [
    "nlp(u'fox').vector.shape"
   ],
   "metadata": {
    "collapsed": false,
    "ExecuteTime": {
     "end_time": "2024-08-09T08:29:07.143106100Z",
     "start_time": "2024-08-09T08:29:07.088221700Z"
    }
   },
   "id": "415778dd1bf3bec6"
  },
  {
   "cell_type": "code",
   "execution_count": 7,
   "outputs": [],
   "source": [
    "tokens = nlp(u'lion cat pet')"
   ],
   "metadata": {
    "collapsed": false,
    "ExecuteTime": {
     "end_time": "2024-08-09T08:30:37.739328300Z",
     "start_time": "2024-08-09T08:30:37.626015200Z"
    }
   },
   "id": "6864fbbbe43532e0"
  },
  {
   "cell_type": "code",
   "execution_count": 9,
   "outputs": [],
   "source": [
    "def similarity(tokens):\n",
    "    for token1 in tokens:\n",
    "        for token2 in tokens:\n",
    "            print(token1.text,token2.text,token1.similarity(token2))"
   ],
   "metadata": {
    "collapsed": false,
    "ExecuteTime": {
     "end_time": "2024-08-09T08:33:27.188480300Z",
     "start_time": "2024-08-09T08:33:27.102709400Z"
    }
   },
   "id": "6a4153c322394c40"
  },
  {
   "cell_type": "code",
   "execution_count": 10,
   "outputs": [
    {
     "name": "stdout",
     "output_type": "stream",
     "text": [
      "lion lion 1.0\n",
      "lion cat 0.3854507803916931\n",
      "lion pet 0.20031584799289703\n",
      "cat lion 0.3854507803916931\n",
      "cat cat 1.0\n",
      "cat pet 0.732966423034668\n",
      "pet lion 0.20031584799289703\n",
      "pet cat 0.732966423034668\n",
      "pet pet 1.0\n"
     ]
    }
   ],
   "source": [
    "similarity(tokens)"
   ],
   "metadata": {
    "collapsed": false,
    "ExecuteTime": {
     "end_time": "2024-08-09T08:33:35.740706500Z",
     "start_time": "2024-08-09T08:33:35.695512800Z"
    }
   },
   "id": "27238922459b3f32"
  },
  {
   "cell_type": "code",
   "execution_count": 11,
   "outputs": [
    {
     "name": "stdout",
     "output_type": "stream",
     "text": [
      "like like 1.0\n",
      "like love 0.5212638974189758\n",
      "like hate 0.5065140724182129\n",
      "love like 0.5212638974189758\n",
      "love love 1.0\n",
      "love hate 0.5708349943161011\n",
      "hate like 0.5065140724182129\n",
      "hate love 0.5708349943161011\n",
      "hate hate 1.0\n"
     ]
    }
   ],
   "source": [
    "tokens = nlp(u'like love hate')\n",
    "similarity(tokens)"
   ],
   "metadata": {
    "collapsed": false,
    "ExecuteTime": {
     "end_time": "2024-08-09T08:33:57.133403700Z",
     "start_time": "2024-08-09T08:33:57.031393900Z"
    }
   },
   "id": "32acedb3d584f4a7"
  },
  {
   "cell_type": "code",
   "execution_count": 12,
   "outputs": [
    {
     "data": {
      "text/plain": "(514157, 300)"
     },
     "execution_count": 12,
     "metadata": {},
     "output_type": "execute_result"
    }
   ],
   "source": [
    "nlp.vocab.vectors.shape"
   ],
   "metadata": {
    "collapsed": false,
    "ExecuteTime": {
     "end_time": "2024-08-09T08:35:39.885650300Z",
     "start_time": "2024-08-09T08:35:39.854616Z"
    }
   },
   "id": "ea5347f3b4741347"
  },
  {
   "cell_type": "code",
   "execution_count": 13,
   "outputs": [],
   "source": [
    "tokens = nlp(u\"dog cat nargle\")"
   ],
   "metadata": {
    "collapsed": false,
    "ExecuteTime": {
     "end_time": "2024-08-09T08:37:30.800715800Z",
     "start_time": "2024-08-09T08:37:30.706923Z"
    }
   },
   "id": "644c08199c7ec2b6"
  },
  {
   "cell_type": "code",
   "execution_count": 14,
   "outputs": [
    {
     "name": "stdout",
     "output_type": "stream",
     "text": [
      "dog True 75.254234 False\n",
      "cat True 63.188496 False\n",
      "nargle False 0.0 True\n"
     ]
    }
   ],
   "source": [
    "for token in tokens:\n",
    "    print(token.text,token.has_vector,token.vector_norm,token.is_oov)"
   ],
   "metadata": {
    "collapsed": false,
    "ExecuteTime": {
     "end_time": "2024-08-09T08:38:01.529325700Z",
     "start_time": "2024-08-09T08:38:01.405579700Z"
    }
   },
   "id": "e03c4b1b484d22b"
  },
  {
   "cell_type": "code",
   "execution_count": 15,
   "outputs": [],
   "source": [
    "from scipy import spatial\n",
    "\n",
    "cosine_similarity = lambda vec1,vec2: 1 - spatial.distance.cosine(vec1,vec2)"
   ],
   "metadata": {
    "collapsed": false,
    "ExecuteTime": {
     "end_time": "2024-08-09T08:44:41.009982700Z",
     "start_time": "2024-08-09T08:44:40.357530600Z"
    }
   },
   "id": "289d28fadb266733"
  },
  {
   "cell_type": "code",
   "execution_count": 16,
   "outputs": [],
   "source": [
    "king = nlp.vocab['king'].vector\n",
    "man = nlp.vocab['man'].vector\n",
    "woman = nlp.vocab['woman'].vector"
   ],
   "metadata": {
    "collapsed": false,
    "ExecuteTime": {
     "end_time": "2024-08-09T08:45:16.153986400Z",
     "start_time": "2024-08-09T08:45:16.102917200Z"
    }
   },
   "id": "506e0bec0424b46"
  },
  {
   "cell_type": "code",
   "execution_count": 17,
   "outputs": [],
   "source": [
    "# king - man + woman ---> NEW_VECTOR similar Queen, princess, highness"
   ],
   "metadata": {
    "collapsed": false,
    "ExecuteTime": {
     "end_time": "2024-08-09T08:45:43.385154900Z",
     "start_time": "2024-08-09T08:45:43.301380Z"
    }
   },
   "id": "609f1c6bf68f067f"
  },
  {
   "cell_type": "code",
   "execution_count": 18,
   "outputs": [],
   "source": [
    "new_vector = king-man+woman"
   ],
   "metadata": {
    "collapsed": false,
    "ExecuteTime": {
     "end_time": "2024-08-09T08:45:54.847722900Z",
     "start_time": "2024-08-09T08:45:54.720073300Z"
    }
   },
   "id": "60999167f7152e80"
  },
  {
   "cell_type": "code",
   "execution_count": 20,
   "outputs": [],
   "source": [
    "computed_similarities = []\n",
    "\n",
    "# FOR ALL WORDS IN MY VOCAB\n",
    "for word in nlp.vocab:\n",
    "    if word.has_vector:\n",
    "        if word.is_lower:\n",
    "            if word.is_alpha:\n",
    "                ac_similarity = cosine_similarity(new_vector,word.vector)\n",
    "                computed_similarities.append((word,ac_similarity))"
   ],
   "metadata": {
    "collapsed": false,
    "ExecuteTime": {
     "end_time": "2024-08-09T08:53:59.133379400Z",
     "start_time": "2024-08-09T08:53:59.053069Z"
    }
   },
   "id": "61278a0ead4e951f"
  },
  {
   "cell_type": "code",
   "execution_count": 22,
   "outputs": [],
   "source": [
    "computed_similarities = sorted(computed_similarities,key=lambda item:-item[1])"
   ],
   "metadata": {
    "collapsed": false,
    "ExecuteTime": {
     "end_time": "2024-08-09T08:56:00.613453400Z",
     "start_time": "2024-08-09T08:56:00.522712600Z"
    }
   },
   "id": "2c258334ac1770cb"
  },
  {
   "cell_type": "code",
   "execution_count": 25,
   "outputs": [
    {
     "name": "stdout",
     "output_type": "stream",
     "text": [
      "['king', 'and', 'that', 'where', 'she', 'they', 'woman', 'there', 'should', 'these']\n"
     ]
    }
   ],
   "source": [
    "print([t[0].text for t in computed_similarities[:10]])"
   ],
   "metadata": {
    "collapsed": false,
    "ExecuteTime": {
     "end_time": "2024-08-09T09:00:05.311090500Z",
     "start_time": "2024-08-09T09:00:05.284270600Z"
    }
   },
   "id": "2751a7a22025957c"
  },
  {
   "cell_type": "code",
   "execution_count": 26,
   "outputs": [],
   "source": [
    "# Sürüm farklılığından dolayı farklı outputlar aldık."
   ],
   "metadata": {
    "collapsed": false,
    "ExecuteTime": {
     "end_time": "2024-08-09T09:04:25.097310700Z",
     "start_time": "2024-08-09T09:04:24.952651200Z"
    }
   },
   "id": "75043e3b39f3a466"
  },
  {
   "cell_type": "code",
   "execution_count": null,
   "outputs": [],
   "source": [],
   "metadata": {
    "collapsed": false
   },
   "id": "7f1fba19745ee9e7"
  }
 ],
 "metadata": {
  "kernelspec": {
   "display_name": "Python 3",
   "language": "python",
   "name": "python3"
  },
  "language_info": {
   "codemirror_mode": {
    "name": "ipython",
    "version": 2
   },
   "file_extension": ".py",
   "mimetype": "text/x-python",
   "name": "python",
   "nbconvert_exporter": "python",
   "pygments_lexer": "ipython2",
   "version": "2.7.6"
  }
 },
 "nbformat": 4,
 "nbformat_minor": 5
}
