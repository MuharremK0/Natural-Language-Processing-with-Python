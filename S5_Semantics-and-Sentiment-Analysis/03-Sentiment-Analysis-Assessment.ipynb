{
 "cells": [
  {
   "cell_type": "markdown",
   "metadata": {
    "collapsed": true
   },
   "source": [
    "___\n",
    "\n",
    "<a href='http://www.pieriandata.com'> <img src='../Pierian_Data_Logo.png' /></a>\n",
    "___"
   ]
  },
  {
   "cell_type": "markdown",
   "metadata": {},
   "source": [
    "# Sentiment Analysis Assessment - Solution\n",
    "\n",
    "## Task #1: Perform vector arithmetic on your own words\n",
    "Write code that evaluates vector arithmetic on your own set of related words. The goal is to come as close to an expected word as possible. Please feel free to share success stories in the Q&A Forum for this section!"
   ]
  },
  {
   "cell_type": "code",
   "execution_count": 1,
   "metadata": {
    "ExecuteTime": {
     "end_time": "2024-08-09T14:09:58.723642100Z",
     "start_time": "2024-08-09T14:09:50.810401900Z"
    }
   },
   "outputs": [],
   "source": [
    "# Import spaCy and load the language library. Remember to use a larger model!\n",
    "import spacy\n",
    "nlp = spacy.load('en_core_web_lg')"
   ]
  },
  {
   "cell_type": "code",
   "execution_count": 2,
   "metadata": {
    "ExecuteTime": {
     "end_time": "2024-08-09T14:11:34.149741900Z",
     "start_time": "2024-08-09T14:11:34.123813500Z"
    }
   },
   "outputs": [],
   "source": [
    "# Choose the words you wish to compare, and obtain their vectors\n",
    "word1 = nlp.vocab['wolf'].vector\n",
    "word2 = nlp.vocab['dog'].vector\n",
    "word3 = nlp.vocab['cat'].vector"
   ]
  },
  {
   "cell_type": "code",
   "execution_count": 3,
   "metadata": {
    "ExecuteTime": {
     "end_time": "2024-08-09T14:12:54.698537600Z",
     "start_time": "2024-08-09T14:12:54.376053200Z"
    }
   },
   "outputs": [],
   "source": [
    "# Import spatial and define a cosine_similarity function\n",
    "from scipy import spatial\n",
    "cosine_sim = lambda x,y: 1 - spatial.distance.cosine(x,y)"
   ]
  },
  {
   "cell_type": "code",
   "execution_count": 4,
   "metadata": {
    "ExecuteTime": {
     "end_time": "2024-08-09T14:13:29.372499800Z",
     "start_time": "2024-08-09T14:13:29.349843Z"
    }
   },
   "outputs": [],
   "source": [
    "# Write an expression for vector arithmetic\n",
    "# For example: new_vector = word1 - word2 + word3\n",
    "new_vector = word1 - word2 + word3"
   ]
  },
  {
   "cell_type": "code",
   "execution_count": 5,
   "outputs": [
    {
     "data": {
      "text/plain": "array([ 1.52345014e+00,  2.92570019e+00,  1.32640028e+00, -6.94989920e+00,\n       -1.55550802e+00, -5.74400067e-01, -1.07689977e+00,  2.34990001e+00,\n        4.15322018e+00,  2.61046124e+00,  1.86250019e+00, -5.50450039e+00,\n       -6.99747503e-01,  6.69549990e+00, -1.98289871e-01, -2.05270028e+00,\n        2.17466497e+00,  1.27722001e+00,  2.25799990e+00, -1.29189992e+00,\n       -2.01929998e+00,  3.05430007e+00, -3.23040009e+00, -3.50010014e+00,\n       -4.86380100e-01, -3.33441019e+00, -2.25979972e+00, -5.81389952e+00,\n        1.57652998e+00,  5.20900011e-01, -5.43039989e+00, -6.51998043e+00,\n       -5.22720003e+00,  6.94099903e-01, -4.53494501e+00, -6.53299999e+00,\n        1.12717605e+00, -2.36640000e+00, -6.62000179e-02,  1.75947976e+00,\n        2.31818008e+00,  3.42560005e+00, -1.04250002e+00,  3.64149976e+00,\n        1.54879010e+00, -1.76848197e+00,  5.23399830e-01, -8.44001770e-02,\n        4.40353006e-01, -2.48010015e+00, -4.37854004e+00,  6.18859959e+00,\n        2.28250003e+00,  1.69199991e+00, -3.99690008e+00, -2.31609988e+00,\n       -8.92939568e-01,  1.58840013e+00,  1.58129990e+00, -5.25410032e+00,\n       -2.56317019e+00, -1.71589947e+00,  1.85395002e+00,  2.64300013e+00,\n       -3.11342025e+00,  1.89729595e+00, -1.50890005e+00,  1.38172007e+00,\n        4.78174019e+00, -3.18959999e+00,  1.81440020e+00,  2.05660009e+00,\n        6.33802032e+00, -1.13466799e+00, -1.59213996e+00, -6.95889950e+00,\n        1.13648999e+00, -5.59989989e-01,  3.55732203e+00,  8.09159875e-01,\n        5.24289989e+00, -1.87301993e+00,  3.57909977e-01,  3.14750004e+00,\n        5.13117981e+00, -4.52610016e+00,  5.21800041e-01,  1.22556019e+00,\n       -2.68400192e-01, -2.69130015e+00, -2.55765986e+00,  1.29457009e+00,\n        7.60300016e+00, -2.34929991e+00,  3.10219979e+00,  3.42315030e+00,\n       -2.67339993e+00,  1.33920002e+00,  4.39680010e-01, -3.50279951e+00,\n       -1.58487105e+00,  6.31829977e-01,  1.46749973e+00, -4.22350354e-02,\n       -7.39595032e+00, -1.36205602e+00,  4.13606071e+00,  7.52930021e+00,\n       -3.19140005e+00,  1.53970194e+00, -4.31882000e+00,  7.09795570e+00,\n        2.36879969e+00, -3.88290000e+00,  3.02160001e+00, -2.01669979e+00,\n        7.00060987e+00,  4.10170031e+00,  2.55189991e+00,  1.28649998e+00,\n        1.98650002e-01,  1.76510000e+00, -3.59309959e+00,  8.89849901e-01,\n       -2.53929996e+00,  7.39569902e-01,  1.27040005e+00, -1.10562992e+00,\n       -1.28341007e+00,  1.40929997e+00,  2.86686993e+00,  2.78100014e-01,\n       -4.46237993e+00,  7.69500017e-01, -2.85050011e+00, -1.06283998e+00,\n       -2.14310002e+00, -4.26239967e+00, -3.55219984e+00, -4.67710018e+00,\n       -2.72950029e+00,  1.56240010e+00, -1.20835996e+00, -2.58599520e-02,\n        7.35360026e-01,  1.70130002e+00, -2.32665014e+00,  5.75274992e+00,\n        3.47224975e+00, -9.00549948e-01,  2.49300003e-01,  1.81355000e+00,\n       -1.10877013e+00, -3.95130038e+00, -3.11669993e+00,  6.89790058e+00,\n        1.28599977e+00, -1.32584000e+00,  5.71840000e+00,  7.45036983e+00,\n        9.71070051e-01,  3.25235987e+00,  2.59960985e+00,  1.81839013e+00,\n       -8.03599930e+00, -2.56569982e+00,  1.34345996e+00, -1.88599825e-02,\n        2.78238988e+00,  1.29240012e+00, -1.98477018e+00,  4.33341217e+00,\n       -2.90329933e-01,  1.88940001e+00, -5.01408005e+00, -5.14879990e+00,\n        5.16090012e+00,  5.49670029e+00, -5.75333977e+00,  3.13580012e+00,\n        3.09920073e-01, -5.30729961e+00, -8.74559999e-01,  3.69646025e+00,\n        3.57411003e+00,  4.24699903e-01,  7.00683022e+00,  2.10840034e+00,\n        1.75835013e+00, -7.48652983e+00,  7.27179098e+00,  6.48799896e-01,\n       -3.45089006e+00, -2.07111979e+00,  5.61629772e-01,  4.36999798e-01,\n       -3.80340004e+00,  2.90880013e+00, -6.59060001e+00,  4.35349989e+00,\n        7.57068205e+00,  3.72312999e+00,  4.71259975e+00,  5.53610992e+00,\n       -7.14089930e-01,  4.57490015e+00,  3.18181992e+00, -1.98618996e+00,\n       -4.32420015e+00, -5.59619999e+00,  2.20070028e+00,  6.77001476e-03,\n       -3.11850023e+00, -2.26616979e-01,  1.01459980e+00, -2.62870002e+00,\n        2.28813004e+00,  2.13207006e+00,  4.82702255e-02,  8.98699999e-01,\n        1.15190014e-01, -1.15753984e+00,  3.24108028e+00,  2.93210030e+00,\n       -4.43580008e+00,  1.23729992e+00,  2.53477001e+00, -1.86895037e+00,\n        3.10200214e-01, -1.54670000e-01, -1.45762444e-01, -5.73940039e+00,\n        4.28648996e+00,  1.81700003e+00, -5.15394020e+00, -7.65161991e+00,\n        1.78579998e+00, -3.00964022e+00,  3.82993984e+00,  6.02719927e+00,\n       -1.71168995e+00,  4.42379999e+00, -1.87869978e+00,  4.28919029e+00,\n       -9.25699949e-01, -8.17980003e+00,  2.09130001e+00,  4.72299695e-01,\n        6.63220024e+00,  3.42716002e+00, -1.91679978e+00, -5.07880974e+00,\n       -1.03389978e+00,  2.52551031e+00,  2.52769995e+00,  8.28830004e-01,\n       -1.21500015e-01,  1.17870007e+01,  1.77809978e+00, -2.22430992e+00,\n        2.24019003e+00, -4.57130003e+00, -3.33940029e+00,  2.49339986e+00,\n       -2.84001994e+00,  2.41332006e+00, -6.11119986e+00,  2.60369897e-01,\n       -4.76190996e+00,  9.75339890e-01,  3.76923966e+00,  3.97483993e+00,\n       -1.33085001e+00,  1.55559993e+00,  2.99600053e+00, -6.70599937e-01,\n       -1.05089974e+00, -4.63080025e+00, -5.57100010e+00,  3.23854494e+00,\n       -8.14470005e+00, -8.85233021e+00,  5.13375998e+00,  6.02521992e+00,\n        5.58979988e+00, -3.01400065e-01, -3.64800096e-01, -2.94233990e+00,\n        7.00626945e+00,  2.42882013e+00,  2.54364014e+00,  2.38750029e+00,\n        8.14099979e+00,  9.14170027e-01, -4.99100208e-01,  5.02249956e+00,\n       -5.48900127e-01, -8.28799725e-01, -6.40950012e+00, -3.46043992e+00],\n      dtype=float32)"
     },
     "execution_count": 5,
     "metadata": {},
     "output_type": "execute_result"
    }
   ],
   "source": [
    "new_vector"
   ],
   "metadata": {
    "collapsed": false,
    "ExecuteTime": {
     "end_time": "2024-08-09T14:14:02.306166600Z",
     "start_time": "2024-08-09T14:14:02.270605200Z"
    }
   }
  },
  {
   "cell_type": "code",
   "execution_count": 6,
   "outputs": [
    {
     "data": {
      "text/plain": "(300,)"
     },
     "execution_count": 6,
     "metadata": {},
     "output_type": "execute_result"
    }
   ],
   "source": [
    "new_vector.shape"
   ],
   "metadata": {
    "collapsed": false,
    "ExecuteTime": {
     "end_time": "2024-08-09T14:14:17.362715400Z",
     "start_time": "2024-08-09T14:14:17.329617600Z"
    }
   }
  },
  {
   "cell_type": "code",
   "execution_count": 7,
   "metadata": {
    "ExecuteTime": {
     "end_time": "2024-08-09T14:15:52.063460600Z",
     "start_time": "2024-08-09T14:15:52.036960500Z"
    }
   },
   "outputs": [],
   "source": [
    "# List the top ten closest vectors in the vocabulary to the result of the expression above\n",
    "computed_sims = []\n",
    "\n",
    "for word in nlp.vocab:\n",
    "    if word.has_vector:\n",
    "        if word.is_lower:\n",
    "            if word.is_alpha:\n",
    "                sim = cosine_sim(new_vector,word.vector)\n",
    "                computed_sims.append((word,sim))"
   ]
  },
  {
   "cell_type": "code",
   "execution_count": 8,
   "outputs": [],
   "source": [
    "computed_sims = sorted(computed_sims,key=lambda item:-item[1])"
   ],
   "metadata": {
    "collapsed": false,
    "ExecuteTime": {
     "end_time": "2024-08-09T14:17:05.149903700Z",
     "start_time": "2024-08-09T14:17:05.114933500Z"
    }
   }
  },
  {
   "cell_type": "code",
   "execution_count": 9,
   "outputs": [
    {
     "data": {
      "text/plain": "['wolf', 'cat', 'i', 'nt', 'cos', 'dare', 'it', 'he', 'she', 'l']"
     },
     "execution_count": 9,
     "metadata": {},
     "output_type": "execute_result"
    }
   ],
   "source": [
    "[w[0].text for w in computed_sims[:10]]"
   ],
   "metadata": {
    "collapsed": false,
    "ExecuteTime": {
     "end_time": "2024-08-09T14:18:12.989853800Z",
     "start_time": "2024-08-09T14:18:12.975892700Z"
    }
   }
  },
  {
   "cell_type": "code",
   "execution_count": 10,
   "outputs": [],
   "source": [
    "# Sürüm farklılığından dolayı alakasız kelimeler ile eşleşti."
   ],
   "metadata": {
    "collapsed": false,
    "ExecuteTime": {
     "end_time": "2024-08-09T14:19:16.905527700Z",
     "start_time": "2024-08-09T14:19:16.855644800Z"
    }
   }
  },
  {
   "cell_type": "markdown",
   "metadata": {},
   "source": [
    "#### CHALLENGE: Write a function that takes in 3 strings, performs a-b+c arithmetic, and returns a top-ten result"
   ]
  },
  {
   "cell_type": "code",
   "execution_count": 11,
   "metadata": {
    "ExecuteTime": {
     "end_time": "2024-08-09T14:22:29.826581300Z",
     "start_time": "2024-08-09T14:22:29.820561900Z"
    }
   },
   "outputs": [],
   "source": [
    "def vector_math(a,b,c):\n",
    "    word1 = nlp.vocab[a].vector\n",
    "    word2 = nlp.vocab[b].vector\n",
    "    word3 = nlp.vocab[c].vector\n",
    "\n",
    "    new_vector = word1 - word2 + word3\n",
    "    \n",
    "    computed_sims = []\n",
    "\n",
    "    for word in nlp.vocab:\n",
    "        if word.has_vector:\n",
    "            if word.is_lower:\n",
    "                if word.is_alpha:\n",
    "                    sim = cosine_sim(new_vector,word.vector)\n",
    "                    computed_sims.append((word,sim))\n",
    "    \n",
    "    computed_sims = sorted(computed_sims,key=lambda item:-item[1])\n",
    "    \n",
    "    return [w[0].text for w in computed_sims[:10]]\n",
    "    \n",
    "    \n",
    "    \n",
    "    \n",
    "    \n",
    "    \n",
    "    \n",
    "    \n",
    "    "
   ]
  },
  {
   "cell_type": "code",
   "execution_count": 12,
   "metadata": {
    "ExecuteTime": {
     "end_time": "2024-08-09T14:22:30.987271100Z",
     "start_time": "2024-08-09T14:22:30.969438100Z"
    }
   },
   "outputs": [
    {
     "data": {
      "text/plain": "['king',\n 'and',\n 'that',\n 'where',\n 'she',\n 'they',\n 'woman',\n 'there',\n 'should',\n 'these']"
     },
     "execution_count": 12,
     "metadata": {},
     "output_type": "execute_result"
    }
   ],
   "source": [
    "# Test the function on known words:\n",
    "vector_math('king','man','woman')"
   ]
  },
  {
   "cell_type": "markdown",
   "metadata": {},
   "source": [
    "## Task #2: Perform VADER Sentiment Analysis on your own review\n",
    "Write code that returns a set of SentimentIntensityAnalyzer polarity scores based on your own written review."
   ]
  },
  {
   "cell_type": "code",
   "execution_count": 13,
   "metadata": {
    "ExecuteTime": {
     "end_time": "2024-08-09T14:23:30.859301Z",
     "start_time": "2024-08-09T14:23:29.651871700Z"
    }
   },
   "outputs": [],
   "source": [
    "# Import SentimentIntensityAnalyzer and create an sid object\n",
    "from nltk.sentiment.vader import SentimentIntensityAnalyzer\n",
    "\n",
    "sid = SentimentIntensityAnalyzer()"
   ]
  },
  {
   "cell_type": "code",
   "execution_count": 14,
   "metadata": {
    "ExecuteTime": {
     "end_time": "2024-08-09T14:24:01.868841900Z",
     "start_time": "2024-08-09T14:24:01.850514800Z"
    }
   },
   "outputs": [],
   "source": [
    "# Write a review as one continuous string (multiple sentences are ok)\n",
    "review = 'This movie was absolutely awful. The WORST movie I have ever seen!!!'"
   ]
  },
  {
   "cell_type": "code",
   "execution_count": 15,
   "metadata": {
    "ExecuteTime": {
     "end_time": "2024-08-09T14:24:05.773769800Z",
     "start_time": "2024-08-09T14:24:05.757781200Z"
    }
   },
   "outputs": [
    {
     "data": {
      "text/plain": "{'neg': 0.507, 'neu': 0.493, 'pos': 0.0, 'compound': -0.8825}"
     },
     "execution_count": 15,
     "metadata": {},
     "output_type": "execute_result"
    }
   ],
   "source": [
    "# Obtain the sid scores for your review\n",
    "sid.polarity_scores(review)"
   ]
  },
  {
   "cell_type": "markdown",
   "metadata": {},
   "source": [
    "### CHALLENGE: Write a function that takes in a review and returns a score of \"Positive\", \"Negative\" or \"Neutral\""
   ]
  },
  {
   "cell_type": "code",
   "execution_count": 16,
   "metadata": {
    "ExecuteTime": {
     "end_time": "2024-08-09T14:26:19.154643200Z",
     "start_time": "2024-08-09T14:26:19.146554600Z"
    }
   },
   "outputs": [],
   "source": [
    "def review_rating(string):\n",
    "    scores = sid.polarity_scores(string)\n",
    "    \n",
    "    if scores['compound'] == 0:\n",
    "        return \"Neutral\"\n",
    "    elif scores['compound'] > 0:\n",
    "        return \"Positive\"\n",
    "    else:\n",
    "        return \"Negative\"\n",
    "    \n",
    "    \n",
    "    \n",
    "    \n",
    "    "
   ]
  },
  {
   "cell_type": "code",
   "execution_count": 17,
   "metadata": {
    "ExecuteTime": {
     "end_time": "2024-08-09T14:26:22.497474100Z",
     "start_time": "2024-08-09T14:26:22.483760700Z"
    }
   },
   "outputs": [
    {
     "data": {
      "text/plain": "'Negative'"
     },
     "execution_count": 17,
     "metadata": {},
     "output_type": "execute_result"
    }
   ],
   "source": [
    "# Test the function on your review above:\n",
    "review_rating(review)"
   ]
  },
  {
   "cell_type": "markdown",
   "metadata": {},
   "source": [
    "## Great job!"
   ]
  }
 ],
 "metadata": {
  "kernelspec": {
   "display_name": "Python 3",
   "language": "python",
   "name": "python3"
  },
  "language_info": {
   "codemirror_mode": {
    "name": "ipython",
    "version": 3
   },
   "file_extension": ".py",
   "mimetype": "text/x-python",
   "name": "python",
   "nbconvert_exporter": "python",
   "pygments_lexer": "ipython3",
   "version": "3.6.7"
  }
 },
 "nbformat": 4,
 "nbformat_minor": 2
}
