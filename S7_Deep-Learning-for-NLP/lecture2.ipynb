{
 "cells": [
  {
   "cell_type": "code",
   "execution_count": 1,
   "id": "initial_id",
   "metadata": {
    "collapsed": true,
    "ExecuteTime": {
     "end_time": "2024-08-12T08:45:44.960584600Z",
     "start_time": "2024-08-12T08:45:44.937130400Z"
    }
   },
   "outputs": [],
   "source": [
    "def read_file(filepath):\n",
    "    with open(filepath) as f:\n",
    "        str_text = f.read()\n",
    "    return str_text"
   ]
  },
  {
   "cell_type": "code",
   "execution_count": 3,
   "outputs": [],
   "source": [
    "# read_file('./moby_dick_four_chapters.txt')"
   ],
   "metadata": {
    "collapsed": false,
    "ExecuteTime": {
     "end_time": "2024-08-12T08:47:09.630079100Z",
     "start_time": "2024-08-12T08:47:09.572320Z"
    }
   },
   "id": "2ddd9fb0df7033f6"
  },
  {
   "cell_type": "code",
   "execution_count": 7,
   "outputs": [],
   "source": [
    "# read_file('./melville-moby_dick.txt')"
   ],
   "metadata": {
    "collapsed": false,
    "ExecuteTime": {
     "end_time": "2024-08-12T08:50:10.114231300Z",
     "start_time": "2024-08-12T08:50:10.053296900Z"
    }
   },
   "id": "9afcbcdc121f51c9"
  },
  {
   "cell_type": "code",
   "execution_count": 4,
   "outputs": [],
   "source": [
    "import spacy"
   ],
   "metadata": {
    "collapsed": false,
    "ExecuteTime": {
     "end_time": "2024-08-12T08:47:41.452927700Z",
     "start_time": "2024-08-12T08:47:39.195921100Z"
    }
   },
   "id": "746db5b0d4c3c0b1"
  },
  {
   "cell_type": "code",
   "execution_count": 6,
   "outputs": [],
   "source": [
    "nlp = spacy.load('en_core_web_sm',disable=['parser','tagger','ner'])"
   ],
   "metadata": {
    "collapsed": false,
    "ExecuteTime": {
     "end_time": "2024-08-12T08:48:49.038239400Z",
     "start_time": "2024-08-12T08:48:48.357986600Z"
    }
   },
   "id": "fdef17df81d33d51"
  },
  {
   "cell_type": "code",
   "execution_count": 8,
   "outputs": [],
   "source": [
    "nlp.max_length = 1198623"
   ],
   "metadata": {
    "collapsed": false,
    "ExecuteTime": {
     "end_time": "2024-08-12T08:50:22.807499900Z",
     "start_time": "2024-08-12T08:50:22.775587800Z"
    }
   },
   "id": "f6058d3ba5b420d"
  },
  {
   "cell_type": "code",
   "execution_count": 9,
   "outputs": [],
   "source": [
    "def separate_punc(doc_text):\n",
    "    return [token.text.lower() for token in nlp(doc_text) if token.text not in '\\n\\n \\n\\n\\n!\"-#$%&()--.*+,-/:;<=>?@[\\\\]^_`{|}~\\t\\n ']"
   ],
   "metadata": {
    "collapsed": false,
    "ExecuteTime": {
     "end_time": "2024-08-12T08:56:23.473300600Z",
     "start_time": "2024-08-12T08:56:23.371625Z"
    }
   },
   "id": "c313a1ef75fbd544"
  },
  {
   "cell_type": "code",
   "execution_count": 10,
   "outputs": [],
   "source": [
    "d = read_file('./moby_dick_four_chapters.txt')"
   ],
   "metadata": {
    "collapsed": false,
    "ExecuteTime": {
     "end_time": "2024-08-12T08:57:43.279818600Z",
     "start_time": "2024-08-12T08:57:43.248764200Z"
    }
   },
   "id": "ca656ef393a0bfa5"
  },
  {
   "cell_type": "code",
   "execution_count": 11,
   "outputs": [
    {
     "name": "stderr",
     "output_type": "stream",
     "text": [
      "C:\\Users\\PC\\anaconda3\\lib\\site-packages\\spacy\\pipeline\\lemmatizer.py:211: UserWarning: [W108] The rule-based lemmatizer did not find POS annotation for one or more tokens. Check that your pipeline includes components that assign token.pos, typically 'tagger'+'attribute_ruler' or 'morphologizer'.\n",
      "  warnings.warn(Warnings.W108)\n"
     ]
    }
   ],
   "source": [
    "tokens = separate_punc(d)"
   ],
   "metadata": {
    "collapsed": false,
    "ExecuteTime": {
     "end_time": "2024-08-12T08:57:51.703479500Z",
     "start_time": "2024-08-12T08:57:50.718459800Z"
    }
   },
   "id": "81b0d68b6fe75691"
  },
  {
   "cell_type": "code",
   "execution_count": 13,
   "outputs": [
    {
     "data": {
      "text/plain": "11338"
     },
     "execution_count": 13,
     "metadata": {},
     "output_type": "execute_result"
    }
   ],
   "source": [
    "len(tokens)"
   ],
   "metadata": {
    "collapsed": false,
    "ExecuteTime": {
     "end_time": "2024-08-12T08:58:12.805146300Z",
     "start_time": "2024-08-12T08:58:12.748058200Z"
    }
   },
   "id": "375cf76f3a979fd0"
  },
  {
   "cell_type": "code",
   "execution_count": 14,
   "outputs": [],
   "source": [
    "# 25 words ---> network predict #26"
   ],
   "metadata": {
    "collapsed": false,
    "ExecuteTime": {
     "end_time": "2024-08-12T09:00:43.047439900Z",
     "start_time": "2024-08-12T09:00:42.979647400Z"
    }
   },
   "id": "9a10f6bd96f551cb"
  },
  {
   "cell_type": "code",
   "execution_count": 15,
   "outputs": [],
   "source": [
    "train_len = 25 + 1\n",
    "\n",
    "text_sequences = []\n",
    "\n",
    "for i in range(train_len,len(tokens)):\n",
    "    seq = tokens[i-train_len:i]\n",
    "    \n",
    "    text_sequences.append(seq)"
   ],
   "metadata": {
    "collapsed": false,
    "ExecuteTime": {
     "end_time": "2024-08-12T09:04:14.303952300Z",
     "start_time": "2024-08-12T09:04:14.237665100Z"
    }
   },
   "id": "c9124bef47f38cfd"
  },
  {
   "cell_type": "code",
   "execution_count": 16,
   "outputs": [
    {
     "data": {
      "text/plain": "list"
     },
     "execution_count": 16,
     "metadata": {},
     "output_type": "execute_result"
    }
   ],
   "source": [
    "type(text_sequences)"
   ],
   "metadata": {
    "collapsed": false,
    "ExecuteTime": {
     "end_time": "2024-08-12T09:04:19.176836300Z",
     "start_time": "2024-08-12T09:04:19.085518400Z"
    }
   },
   "id": "92227c0940cef92"
  },
  {
   "cell_type": "code",
   "execution_count": 17,
   "outputs": [
    {
     "data": {
      "text/plain": "'call me ishmael some years ago never mind how long precisely having little or no money in my purse and nothing particular to interest me on'"
     },
     "execution_count": 17,
     "metadata": {},
     "output_type": "execute_result"
    }
   ],
   "source": [
    "' '.join(text_sequences[0])"
   ],
   "metadata": {
    "collapsed": false,
    "ExecuteTime": {
     "end_time": "2024-08-12T09:04:30.005668600Z",
     "start_time": "2024-08-12T09:04:29.895609100Z"
    }
   },
   "id": "f1fc9fd6087335b7"
  },
  {
   "cell_type": "code",
   "execution_count": 18,
   "outputs": [
    {
     "data": {
      "text/plain": "'me ishmael some years ago never mind how long precisely having little or no money in my purse and nothing particular to interest me on shore'"
     },
     "execution_count": 18,
     "metadata": {},
     "output_type": "execute_result"
    }
   ],
   "source": [
    "' '.join(text_sequences[1])"
   ],
   "metadata": {
    "collapsed": false,
    "ExecuteTime": {
     "end_time": "2024-08-12T09:04:41.229932400Z",
     "start_time": "2024-08-12T09:04:41.141074400Z"
    }
   },
   "id": "708a5455cbfd44c5"
  },
  {
   "cell_type": "code",
   "execution_count": 19,
   "outputs": [
    {
     "data": {
      "text/plain": "'ishmael some years ago never mind how long precisely having little or no money in my purse and nothing particular to interest me on shore i'"
     },
     "execution_count": 19,
     "metadata": {},
     "output_type": "execute_result"
    }
   ],
   "source": [
    "' '.join(text_sequences[2])"
   ],
   "metadata": {
    "collapsed": false,
    "ExecuteTime": {
     "end_time": "2024-08-12T09:04:55.137722100Z",
     "start_time": "2024-08-12T09:04:55.051498500Z"
    }
   },
   "id": "3f3c6890fa6c3f16"
  },
  {
   "cell_type": "code",
   "execution_count": 20,
   "outputs": [
    {
     "name": "stdout",
     "output_type": "stream",
     "text": [
      "WARNING:tensorflow:From C:\\Users\\PC\\anaconda3\\lib\\site-packages\\keras\\src\\losses.py:2976: The name tf.losses.sparse_softmax_cross_entropy is deprecated. Please use tf.compat.v1.losses.sparse_softmax_cross_entropy instead.\n"
     ]
    }
   ],
   "source": [
    "from keras.preprocessing.text import Tokenizer"
   ],
   "metadata": {
    "collapsed": false,
    "ExecuteTime": {
     "end_time": "2024-08-12T09:08:47.494796Z",
     "start_time": "2024-08-12T09:08:37.699733400Z"
    }
   },
   "id": "e1de79ed3389084"
  },
  {
   "cell_type": "code",
   "execution_count": 21,
   "outputs": [],
   "source": [
    "tokenizer = Tokenizer()\n",
    "tokenizer.fit_on_texts(text_sequences)"
   ],
   "metadata": {
    "collapsed": false,
    "ExecuteTime": {
     "end_time": "2024-08-12T09:09:00.602317800Z",
     "start_time": "2024-08-12T09:09:00.417115900Z"
    }
   },
   "id": "91d2406b555b9d41"
  },
  {
   "cell_type": "code",
   "execution_count": 22,
   "outputs": [],
   "source": [
    "sequences = tokenizer.texts_to_sequences(text_sequences)"
   ],
   "metadata": {
    "collapsed": false,
    "ExecuteTime": {
     "end_time": "2024-08-12T09:09:20.010031Z",
     "start_time": "2024-08-12T09:09:19.904215200Z"
    }
   },
   "id": "8528c32d6e0bff22"
  },
  {
   "cell_type": "code",
   "execution_count": 23,
   "outputs": [
    {
     "data": {
      "text/plain": "[956,\n 14,\n 263,\n 51,\n 261,\n 408,\n 87,\n 219,\n 129,\n 111,\n 954,\n 260,\n 50,\n 43,\n 38,\n 314,\n 7,\n 23,\n 546,\n 3,\n 150,\n 259,\n 6,\n 2713,\n 14,\n 24]"
     },
     "execution_count": 23,
     "metadata": {},
     "output_type": "execute_result"
    }
   ],
   "source": [
    "sequences[0]"
   ],
   "metadata": {
    "collapsed": false,
    "ExecuteTime": {
     "end_time": "2024-08-12T09:09:33.738982600Z",
     "start_time": "2024-08-12T09:09:33.714127200Z"
    }
   },
   "id": "e96ca8177d72fed3"
  },
  {
   "cell_type": "code",
   "execution_count": 24,
   "outputs": [
    {
     "data": {
      "text/plain": "[14,\n 263,\n 51,\n 261,\n 408,\n 87,\n 219,\n 129,\n 111,\n 954,\n 260,\n 50,\n 43,\n 38,\n 314,\n 7,\n 23,\n 546,\n 3,\n 150,\n 259,\n 6,\n 2713,\n 14,\n 24,\n 957]"
     },
     "execution_count": 24,
     "metadata": {},
     "output_type": "execute_result"
    }
   ],
   "source": [
    "sequences[1]"
   ],
   "metadata": {
    "collapsed": false,
    "ExecuteTime": {
     "end_time": "2024-08-12T09:09:57.724824900Z",
     "start_time": "2024-08-12T09:09:57.696161100Z"
    }
   },
   "id": "d0309daabb7053f7"
  },
  {
   "cell_type": "code",
   "execution_count": 25,
   "outputs": [],
   "source": [
    "# Sayıların herbiri aslında her kelime için ayrı bir ID oluşturuyor."
   ],
   "metadata": {
    "collapsed": false,
    "ExecuteTime": {
     "end_time": "2024-08-12T09:10:58.361483200Z",
     "start_time": "2024-08-12T09:10:58.340956400Z"
    }
   },
   "id": "28fa1736745078a7"
  },
  {
   "cell_type": "code",
   "execution_count": 27,
   "outputs": [
    {
     "name": "stdout",
     "output_type": "stream",
     "text": [
      "956 : call\n",
      "14 : me\n",
      "263 : ishmael\n",
      "51 : some\n",
      "261 : years\n",
      "408 : ago\n",
      "87 : never\n",
      "219 : mind\n",
      "129 : how\n",
      "111 : long\n",
      "954 : precisely\n",
      "260 : having\n",
      "50 : little\n",
      "43 : or\n",
      "38 : no\n",
      "314 : money\n",
      "7 : in\n",
      "23 : my\n",
      "546 : purse\n",
      "3 : and\n",
      "150 : nothing\n",
      "259 : particular\n",
      "6 : to\n",
      "2713 : interest\n",
      "14 : me\n",
      "24 : on\n"
     ]
    }
   ],
   "source": [
    "for i in sequences[0]:\n",
    "    print(f\"{i} : {tokenizer.index_word[i]}\")"
   ],
   "metadata": {
    "collapsed": false,
    "ExecuteTime": {
     "end_time": "2024-08-12T09:12:37.945705100Z",
     "start_time": "2024-08-12T09:12:37.882255600Z"
    }
   },
   "id": "40d624ac89b5701a"
  },
  {
   "cell_type": "code",
   "execution_count": 28,
   "outputs": [
    {
     "data": {
      "text/plain": "OrderedDict([('call', 27),\n             ('me', 2471),\n             ('ishmael', 133),\n             ('some', 758),\n             ('years', 135),\n             ('ago', 84),\n             ('never', 449),\n             ('mind', 164),\n             ('how', 321),\n             ('long', 374),\n             ('precisely', 37),\n             ('having', 142),\n             ('little', 767),\n             ('or', 950),\n             ('no', 1003),\n             ('money', 120),\n             ('in', 5647),\n             ('my', 1786),\n             ('purse', 71),\n             ('and', 9646),\n             ('nothing', 281),\n             ('particular', 152),\n             ('to', 6497),\n             ('interest', 24),\n             ('on', 1716),\n             ('shore', 26),\n             ('i', 7150),\n             ('thought', 676),\n             ('would', 702),\n             ('sail', 104),\n             ('about', 1014),\n             ('a', 10377),\n             ('see', 416),\n             ('the', 15540),\n             ('watery', 26),\n             ('part', 234),\n             ('of', 8287),\n             ('world', 234),\n             ('it', 4238),\n             ('is', 1950),\n             ('way', 390),\n             ('have', 806),\n             ('driving', 26),\n             ('off', 416),\n             ('spleen', 26),\n             ('regulating', 26),\n             ('circulation', 26),\n             ('whenever', 130),\n             ('find', 78),\n             ('myself', 416),\n             ('growing', 26),\n             ('grim', 26),\n             ('mouth', 130),\n             ('damp', 78),\n             ('drizzly', 26),\n             ('november', 26),\n             ('soul', 78),\n             ('involuntarily', 52),\n             ('pausing', 52),\n             ('before', 364),\n             ('coffin', 104),\n             ('warehouses', 52),\n             ('bringing', 26),\n             ('up', 1237),\n             ('rear', 26),\n             ('every', 182),\n             ('funeral', 26),\n             ('meet', 26),\n             ('especially', 104),\n             ('hypos', 26),\n             ('get', 364),\n             ('such', 572),\n             ('an', 806),\n             ('upper', 26),\n             ('hand', 312),\n             ('that', 3770),\n             ('requires', 52),\n             ('strong', 78),\n             ('moral', 26),\n             ('principle', 26),\n             ('prevent', 26),\n             ('from', 1508),\n             ('deliberately', 26),\n             ('stepping', 26),\n             ('into', 988),\n             ('street', 104),\n             ('methodically', 26),\n             ('knocking', 26),\n             ('people', 52),\n             (\"'s\", 1691),\n             ('hats', 26),\n             ('then', 832),\n             ('account', 78),\n             ('high', 130),\n             ('time', 520),\n             ('sea', 546),\n             ('as', 2366),\n             ('soon', 234),\n             ('can', 338),\n             ('this', 2158),\n             ('substitute', 26),\n             ('for', 1820),\n             ('pistol', 26),\n             ('ball', 26),\n             ('with', 2392),\n             ('philosophical', 26),\n             ('flourish', 26),\n             ('cato', 26),\n             ('throws', 26),\n             ('himself', 338),\n             ('upon', 780),\n             ('his', 3139),\n             ('sword', 78),\n             ('quietly', 78),\n             ('take', 260),\n             ('ship', 182),\n             ('there', 1456),\n             ('surprising', 26),\n             ('if', 728),\n             ('they', 728),\n             ('but', 2652),\n             ('knew', 130),\n             ('almost', 286),\n             ('all', 1872),\n             ('men', 130),\n             ('their', 390),\n             ('degree', 78),\n             ('other', 494),\n             ('cherish', 26),\n             ('very', 494),\n             ('nearly', 52),\n             ('same', 312),\n             ('feelings', 26),\n             ('towards', 260),\n             ('ocean', 52),\n             ('now', 1040),\n             ('your', 442),\n             ('insular', 26),\n             ('city', 104),\n             ('manhattoes', 26),\n             ('belted', 26),\n             ('round', 364),\n             ('by', 962),\n             ('wharves', 26),\n             ('indian', 52),\n             ('isles', 26),\n             ('coral', 26),\n             ('reefs', 26),\n             ('commerce', 26),\n             ('surrounds', 26),\n             ('her', 156),\n             ('surf', 26),\n             ('right', 156),\n             ('left', 78),\n             ('streets', 208),\n             ('you', 2158),\n             ('waterward', 52),\n             ('its', 156),\n             ('extreme', 26),\n             ('downtown', 26),\n             ('battery', 52),\n             ('where', 364),\n             ('noble', 52),\n             ('mole', 26),\n             ('washed', 52),\n             ('waves', 26),\n             ('cooled', 26),\n             ('breezes', 26),\n             ('which', 572),\n             ('few', 104),\n             ('hours', 130),\n             ('previous', 104),\n             ('were', 962),\n             ('out', 956),\n             ('sight', 104),\n             ('land', 208),\n             ('look', 156),\n             ('at', 2184),\n             ('crowds', 52),\n             ('water', 234),\n             ('gazers', 26),\n             ('circumambulate', 26),\n             ('dreamy', 26),\n             ('sabbath', 52),\n             ('afternoon', 52),\n             ('go', 494),\n             ('corlears', 26),\n             ('hook', 26),\n             ('coenties', 26),\n             ('slip', 26),\n             ('thence', 52),\n             ('whitehall', 26),\n             ('northward', 26),\n             ('what', 1118),\n             ('do', 702),\n             ('see?--posted', 26),\n             ('like', 732),\n             ('silent', 52),\n             ('sentinels', 26),\n             ('around', 78),\n             ('town', 156),\n             ('stand', 182),\n             ('thousands', 52),\n             ('mortal', 26),\n             ('fixed', 78),\n             ('reveries', 52),\n             ('leaning', 52),\n             ('against', 234),\n             ('spiles', 26),\n             ('seated', 52),\n             ('pier', 26),\n             ('heads', 338),\n             ('looking', 312),\n             ('over', 702),\n             ('bulwarks', 52),\n             ('ships', 78),\n             ('china', 26),\n             ('aloft', 52),\n             ('rigging', 26),\n             ('striving', 26),\n             ('still', 364),\n             ('better', 208),\n             ('seaward', 26),\n             ('peep', 26),\n             ('these', 494),\n             ('are', 416),\n             ('landsmen', 26),\n             ('week', 52),\n             ('days', 104),\n             ('pent', 26),\n             ('lath', 26),\n             ('plaster', 52),\n             ('tied', 26),\n             ('counters', 26),\n             ('nailed', 26),\n             ('benches', 26),\n             ('clinched', 26),\n             ('desks', 26),\n             ('green', 130),\n             ('fields', 26),\n             ('gone', 52),\n             ('here', 598),\n             ('come', 338),\n             ('more', 494),\n             ('pacing', 26),\n             ('straight', 104),\n             ('seemingly', 26),\n             ('bound', 52),\n             ('dive', 26),\n             ('strange', 182),\n             ('will', 260),\n             ('content', 52),\n             ('them', 442),\n             ('extremest', 26),\n             ('limit', 26),\n             ('loitering', 26),\n             ('under', 260),\n             ('shady', 26),\n             ('lee', 26),\n             ('yonder', 52),\n             ('not', 1534),\n             ('suffice', 26),\n             ('must', 442),\n             ('just', 390),\n             ('nigh', 104),\n             ('possibly', 26),\n             ('without', 182),\n             ('falling', 52),\n             ('miles', 78),\n             ('leagues', 26),\n             ('inlanders', 26),\n             ('lanes', 26),\n             ('alleys', 26),\n             ('avenues', 26),\n             ('north', 52),\n             ('east', 26),\n             ('south', 156),\n             ('west', 26),\n             ('yet', 416),\n             ('unite', 26),\n             ('tell', 442),\n             ('does', 156),\n             ('magnetic', 26),\n             ('virtue', 26),\n             ('needles', 26),\n             ('compasses', 26),\n             ('those', 234),\n             ('attract', 26),\n             ('thither', 26),\n             ('once', 208),\n             ('say', 286),\n             ('country', 78),\n             ('lakes', 26),\n             ('any', 364),\n             ('path', 26),\n             ('please', 52),\n             ('ten', 52),\n             ('one', 1300),\n             ('carries', 26),\n             ('down', 468),\n             ('dale', 26),\n             ('leaves', 52),\n             ('pool', 26),\n             ('stream', 78),\n             ('magic', 52),\n             ('let', 156),\n             ('most', 468),\n             ('absent', 26),\n             ('minded', 26),\n             ('be', 1716),\n             ('plunged', 52),\n             ('deepest', 26),\n             ('man', 572),\n             ('legs', 104),\n             ('set', 156),\n             ('feet', 182),\n             ('going', 260),\n             ('he', 3247),\n             ('infallibly', 26),\n             ('lead', 78),\n             ('region', 26),\n             ('should', 286),\n             ('ever', 338),\n             ('athirst', 26),\n             ('great', 376),\n             ('american', 78),\n             ('desert', 26),\n             ('try', 104),\n             ('experiment', 26),\n             ('caravan', 26),\n             ('happen', 26),\n             ('supplied', 26),\n             ('metaphysical', 52),\n             ('professor', 26),\n             ('yes', 104),\n             ('knows', 26),\n             ('meditation', 26),\n             ('wedded', 26),\n             ('artist', 78),\n             ('desires', 26),\n             ('paint', 26),\n             ('dreamiest', 26),\n             ('shadiest', 26),\n             ('quietest', 26),\n             ('enchanting', 26),\n             ('bit', 130),\n             ('romantic', 26),\n             ('landscape', 26),\n             ('valley', 26),\n             ('saco', 26),\n             ('chief', 52),\n             ('element', 26),\n             ('employs', 26),\n             ('trees', 26),\n             ('each', 78),\n             ('hollow', 26),\n             ('trunk', 52),\n             ('hermit', 26),\n             ('crucifix', 26),\n             ('within', 130),\n             ('sleeps', 26),\n             ('meadow', 52),\n             ('sleep', 416),\n             ('cattle', 26),\n             ('cottage', 26),\n             ('goes', 78),\n             ('sleepy', 26),\n             ('smoke', 52),\n             ('deep', 78),\n             ('distant', 78),\n             ('woodlands', 26),\n             ('winds', 78),\n             ('mazy', 26),\n             ('reaching', 52),\n             ('overlapping', 26),\n             ('spurs', 26),\n             ('mountains', 26),\n             ('bathed', 26),\n             ('hill', 52),\n             ('side', 286),\n             ('blue', 78),\n             ('though', 494),\n             ('picture', 130),\n             ('lies', 26),\n             ('thus', 52),\n             ('tranced', 26),\n             ('pine', 52),\n             ('tree', 26),\n             ('shakes', 26),\n             ('sighs', 52),\n             ('shepherd', 52),\n             ('head', 598),\n             ('vain', 26),\n             ('unless', 104),\n             ('eye', 26),\n             ('him', 1092),\n             ('visit', 26),\n             ('prairies', 26),\n             ('june', 52),\n             ('when', 650),\n             ('scores', 52),\n             ('wade', 26),\n             ('knee', 26),\n             ('among', 78),\n             ('tiger', 26),\n             ('lilies', 26),\n             ('charm', 26),\n             ('wanting?--water', 26),\n             ('drop', 26),\n             ('niagara', 26),\n             ('cataract', 26),\n             ('sand', 26),\n             ('travel', 26),\n             ('thousand', 52),\n             ('why', 286),\n             ('did', 572),\n             ('poor', 104),\n             ('poet', 26),\n             ('tennessee', 26),\n             ('suddenly', 78),\n             ('receiving', 26),\n             ('two', 338),\n             ('handfuls', 26),\n             ('silver', 26),\n             ('deliberate', 26),\n             ('whether', 182),\n             ('buy', 26),\n             ('coat', 104),\n             ('sadly', 52),\n             ('needed', 26),\n             ('invest', 26),\n             ('pedestrian', 26),\n             ('trip', 26),\n             ('rockaway', 26),\n             ('beach', 26),\n             ('robust', 52),\n             ('healthy', 52),\n             ('boy', 52),\n             ('crazy', 52),\n             ('first', 494),\n             ('voyage', 208),\n             ('passenger', 104),\n             ('yourself', 156),\n             ('feel', 78),\n             ('mystical', 26),\n             ('vibration', 26),\n             ('told', 130),\n             ('old', 754),\n             ('persians', 26),\n             ('hold', 52),\n             ('holy', 52),\n             ('greeks', 26),\n             ('give', 208),\n             ('separate', 26),\n             ('deity', 26),\n             ('own', 286),\n             ('brother', 52),\n             ('jove', 26),\n             ('surely', 26),\n             ('meaning', 78),\n             ('deeper', 26),\n             ('story', 130),\n             ('narcissus', 26),\n             ('who', 416),\n             ('because', 182),\n             ('could', 650),\n             ('grasp', 26),\n             ('tormenting', 26),\n             ('mild', 26),\n             ('image', 156),\n             ('saw', 156),\n             ('fountain', 26),\n             ('was', 2886),\n             ('drowned', 26),\n             ('we', 286),\n             ('ourselves', 52),\n             ('rivers', 26),\n             ('oceans', 26),\n             ('ungraspable', 26),\n             ('phantom', 78),\n             ('life', 78),\n             ('key', 26),\n             ('am', 156),\n             ('habit', 26),\n             ('begin', 52),\n             ('grow', 52),\n             ('hazy', 26),\n             ('eyes', 182),\n             ('conscious', 26),\n             ('lungs', 26),\n             ('mean', 130),\n             ('inferred', 52),\n             ('needs', 52),\n             ('rag', 26),\n             ('something', 312),\n             ('besides', 156),\n             ('passengers', 78),\n             ('sick', 26),\n             ('quarrelsome', 26),\n             (\"don't\", 52),\n             ('nights', 26),\n             ('enjoy', 26),\n             ('themselves', 52),\n             ('much', 442),\n             ('general', 26),\n             ('thing;--no', 26),\n             ('nor', 78),\n             ('salt', 26),\n             ('commodore', 52),\n             ('captain', 52),\n             ('cook', 52),\n             ('abandon', 26),\n             ('glory', 52),\n             ('distinction', 26),\n             ('offices', 26),\n             ('abominate', 26),\n             ('honourable', 26),\n             ('respectable', 26),\n             ('toils', 26),\n             ('trials', 26),\n             ('tribulations', 26),\n             ('kind', 78),\n             ('whatsoever', 52),\n             ('quite', 78),\n             ('care', 78),\n             ('taking', 104),\n             ('barques', 26),\n             ('brigs', 26),\n             ('schooners', 26),\n             ('cook,--though', 26),\n             ('confess', 52),\n             ('considerable', 26),\n             ('being', 390),\n             ('sort', 494),\n             ('officer', 52),\n             ('board', 78),\n             ('somehow', 78),\n             ('fancied', 26),\n             ('broiling', 26),\n             ('fowls;--though', 26),\n             ('broiled', 78),\n             ('judiciously', 26),\n             ('buttered', 26),\n             ('judgmatically', 26),\n             ('salted', 26),\n             ('peppered', 26),\n             ('speak', 130),\n             ('respectfully', 52),\n             ('reverentially', 26),\n             ('fowl', 26),\n             ('than', 390),\n             ('idolatrous', 26),\n             ('dotings', 26),\n             ('egyptians', 26),\n             ('ibis', 26),\n             ('roasted', 26),\n             ('river', 26),\n             ('horse', 52),\n             ('mummies', 26),\n             ('creatures', 26),\n             ('huge', 52),\n             ('bake', 26),\n             ('houses', 52),\n             ('pyramids', 26),\n             ('simple', 26),\n             ('sailor', 156),\n             ('mast', 78),\n             ('plumb', 26),\n             ('forecastle', 52),\n             ('royal', 26),\n             ('true', 104),\n             ('rather', 208),\n             ('order', 130),\n             ('make', 260),\n             ('jump', 52),\n             ('spar', 52),\n             ('grasshopper', 26),\n             ('may', 312),\n             ('thing', 104),\n             ('unpleasant', 26),\n             ('enough', 338),\n             ('touches', 26),\n             ('sense', 78),\n             ('honour', 26),\n             ('particularly', 52),\n             ('established', 26),\n             ('family', 26),\n             ('van', 26),\n             ('rensselaers', 26),\n             ('randolphs', 26),\n             ('hardicanutes', 26),\n             ('putting', 52),\n             ('tar', 52),\n             ('pot', 26),\n             ('been', 468),\n             ('lording', 26),\n             ('schoolmaster', 52),\n             ('making', 130),\n             ('tallest', 26),\n             ('boys', 52),\n             ('awe', 26),\n             ('transition', 52),\n             ('keen', 26),\n             ('assure', 26),\n             ('decoction', 26),\n             ('seneca', 26),\n             ('stoics', 26),\n             ('enable', 26),\n             ('grin', 52),\n             ('bear', 52),\n             ('even', 130),\n             ('wears', 26),\n             ('hunks', 52),\n             ('orders', 26),\n             ('broom', 26),\n             ('sweep', 52),\n             ('decks', 26),\n             ('indignity', 26),\n             ('amount', 26),\n             ('weighed', 52),\n             ('scales', 26),\n             ('new', 286),\n             ('testament', 26),\n             ('think', 182),\n             ('archangel', 26),\n             ('gabriel', 26),\n             ('thinks', 182),\n             ('anything', 52),\n             ('less', 52),\n             ('promptly', 26),\n             ('obey', 26),\n             ('instance', 26),\n             ('ai', 104),\n             (\"n't\", 624),\n             ('slave', 26),\n             ('well', 208),\n             ('however', 208),\n             ('captains', 26),\n             ('thump', 52),\n             ('punch', 26),\n             ('satisfaction', 26),\n             ('knowing', 78),\n             ('everybody', 26),\n             ('else', 208),\n             ('served', 26),\n             ('either', 78),\n             ('physical', 26),\n             ('point', 52),\n             ('view', 52),\n             ('so', 1066),\n             ('universal', 26),\n             ('passed', 78),\n             ('hands', 78),\n             ('rub', 26),\n             ('shoulder', 26),\n             ('blades', 26),\n             ('again', 286),\n             ('always', 104),\n             ('paying', 78),\n             ('trouble', 26),\n             ('whereas', 26),\n             ('pay', 78),\n             ('single', 52),\n             ('penny', 78),\n             ('heard', 208),\n             ('contrary', 26),\n             ('difference', 52),\n             ('between', 234),\n             ('paid', 26),\n             ('act', 52),\n             ('perhaps', 130),\n             ('uncomfortable', 52),\n             ('infliction', 26),\n             ('orchard', 26),\n             ('thieves', 26),\n             ('entailed', 26),\n             ('us', 104),\n             ('paid,--what', 26),\n             ('compare', 52),\n             ('urbane', 26),\n             ('activity', 26),\n             ('receives', 26),\n             ('really', 104),\n             ('marvellous', 104),\n             ('considering', 26),\n             ('earnestly', 26),\n             ('believe', 26),\n             ('root', 26),\n             ('earthly', 52),\n             ('ills', 26),\n             ('monied', 26),\n             ('enter', 52),\n             ('heaven', 104),\n             ('ah', 26),\n             ('cheerfully', 26),\n             ('consign', 26),\n             ('perdition', 26),\n             ('finally', 26),\n             ('wholesome', 26),\n             ('exercise', 26),\n             ('pure', 26),\n             ('air', 104),\n             ('fore', 26),\n             ('castle', 26),\n             ('deck', 52),\n             ('far', 104),\n             ('prevalent', 26),\n             ('astern', 26),\n             ('violate', 26),\n             ('pythagorean', 26),\n             ('maxim', 26),\n             ('quarter', 52),\n             ('gets', 26),\n             ('atmosphere', 26),\n             ('second', 104),\n             ('sailors', 78),\n             ('breathes', 26),\n             ('commonalty', 26),\n             ('leaders', 52),\n             ('many', 104),\n             ('things', 130),\n             ('suspect', 26),\n             ('wherefore', 26),\n             ('after', 234),\n             ('repeatedly', 26),\n             ('smelt', 52),\n             ('merchant', 26),\n             ('whaling', 234),\n             ('invisible', 26),\n             ('police', 26),\n             ('fates', 52),\n             ('has', 104),\n             ('constant', 26),\n             ('surveillance', 26),\n             ('secretly', 26),\n             ('dogs', 26),\n             ('influences', 26),\n             ('unaccountable', 104),\n             ('answer', 130),\n             ('doubtless', 52),\n             ('formed', 52),\n             ('grand', 104),\n             ('programme', 26),\n             ('providence', 26),\n             ('drawn', 26),\n             ('came', 286),\n             ('brief', 26),\n             ('interlude', 26),\n             ('solo', 26),\n             ('extensive', 26),\n             ('performances', 26),\n             ('bill', 26),\n             ('run', 52),\n             ('contested', 26),\n             ('election', 26),\n             ('presidency', 26),\n             ('united', 26),\n             ('states', 26),\n             ('bloody', 26),\n             ('battle', 26),\n             ('affghanistan', 26),\n             ('exactly', 78),\n             ('stage', 52),\n             ('managers', 26),\n             ('put', 208),\n             ('shabby', 52),\n             ('others', 52),\n             ('magnificent', 26),\n             ('parts', 130),\n             ('tragedies', 26),\n             ('short', 78),\n             ('easy', 78),\n             ('genteel', 26),\n             ('comedies', 26),\n             ('jolly', 104),\n             ('farces', 26),\n             ('recall', 26),\n             ('circumstances', 52),\n             ('springs', 26),\n             ('motives', 52),\n             ('cunningly', 26),\n             ('presented', 26),\n             ('various', 52),\n             ('disguises', 26),\n             ('induced', 26),\n             ('performing', 26),\n             ('cajoling', 26),\n             ('delusion', 26),\n             ('choice', 26),\n             ('resulting', 26),\n             ('unbiased', 26),\n             ('freewill', 26),\n             ('discriminating', 26),\n             ('judgment', 26),\n             ('overwhelming', 26),\n             ('idea', 182),\n             ('whale', 260),\n             ('portentous', 78),\n             ('mysterious', 52),\n             ('monster', 26),\n             ('roused', 26),\n             ('curiosity', 52),\n             ('wild', 130),\n             ('seas', 156),\n             ('rolled', 156),\n             ('island', 78),\n             ('bulk', 26),\n             ('undeliverable', 26),\n             ('nameless', 78),\n             ('perils', 26),\n             ('attending', 26),\n             ('marvels', 26),\n             ('patagonian', 26),\n             ('sights', 26),\n             ('sounds', 78),\n             ('helped', 26),\n             ('sway', 26),\n             ('wish', 26),\n             ('inducements', 26),\n             ('tormented', 52),\n             ('everlasting', 52),\n             ('itch', 26),\n             ('remote', 26),\n             ('love', 26),\n             ('forbidden', 26),\n             ('barbarous', 26),\n             ('coasts', 26),\n             ('ignoring', 26),\n             ('good', 442),\n             ('quick', 26),\n             ('perceive', 26),\n             ('horror', 26),\n             ('social', 26),\n             ('since', 78),\n             ('friendly', 26),\n             ('terms', 26),\n             ('inmates', 26),\n             ('place', 390),\n             ('lodges', 26),\n             ('reason', 130),\n             ('welcome', 26),\n             ('flood', 26),\n             ('gates', 26),\n             ('wonder', 52),\n             ('swung', 26),\n             ('open', 104),\n             ('conceits', 26),\n             ('swayed', 26),\n             ('purpose', 52),\n             ('floated', 52),\n             ('inmost', 26),\n             ('endless', 26),\n             ('processions', 26),\n             ('mid', 26),\n             ('hooded', 26),\n             ('snow', 78),\n             ('stuffed', 52),\n             ('shirt', 104),\n             ('carpet', 26),\n             ('bag', 182),\n             ('tucked', 26),\n             ('arm', 286),\n             ('started', 26),\n             ('cape', 104),\n             ('horn', 52),\n             ('pacific', 26),\n             ('quitting', 26),\n             ('manhatto', 26),\n             ('duly', 26),\n             ('arrived', 52),\n             ('bedford', 104),\n             ('saturday', 78),\n             ('night', 624),\n             ('december', 26),\n             ('disappointed', 26),\n             ('learning', 26),\n             ('packet', 26),\n             ('nantucket', 182),\n             ('had', 858),\n             ('already', 26),\n             ('sailed', 26),\n             ('offer', 52),\n             ('till', 156),\n             ('following', 52),\n             ('monday', 26),\n             ('young', 130),\n             ('candidates', 26),\n             ('pains', 26),\n             ('penalties', 26),\n             ('stop', 208),\n             ('embark', 52),\n             ('related', 26),\n             ('doing', 26),\n             ('made', 338),\n             ('craft', 130),\n             ('fine', 104),\n             ('boisterous', 26),\n             ('everything', 26),\n             ('connected', 26),\n             ('famous', 26),\n             ('amazingly', 26),\n             ('pleased', 52),\n             ('late', 182),\n             ('gradually', 26),\n             ('monopolising', 26),\n             ('business', 130),\n             ('matter', 78),\n             ('behind', 26),\n             ('original', 52),\n             ('tyre', 26),\n             ('carthage;--the', 26),\n             ('dead', 130),\n             ('stranded', 52),\n             ('aboriginal', 26),\n             ('whalemen', 26),\n             ('red', 78),\n             ('sally', 26),\n             ('canoes', 26),\n             ('chase', 26),\n             ('leviathan', 52),\n             ('too', 364),\n             ('adventurous', 26),\n             ('sloop', 26),\n             ('forth', 26),\n             ('partly', 78),\n             ('laden', 26),\n             ('imported', 26),\n             ('cobblestones', 26),\n             ('throw', 26),\n             ('whales', 52),\n             ('discover', 26),\n             ('risk', 26),\n             ('harpoon', 135),\n             ('bowsprit', 26),\n             ('day', 156),\n             ('another', 130),\n             ('ere', 78),\n             ('destined', 26),\n             ('port', 26),\n             ('became', 78),\n             ('concernment', 26),\n             ('eat', 26),\n             ('meanwhile', 78),\n             ('dubious', 26),\n             ('nay', 52),\n             ('dark', 208),\n             ('dismal', 52),\n             ('bitingly', 26),\n             ('cold', 182),\n             ('cheerless', 26),\n             ('anxious', 26),\n             ('grapnels', 26),\n             ('sounded', 26),\n             ('pocket', 78),\n             ('only', 364),\n             ('brought', 26),\n             ('pieces', 26),\n             ('silver,--so', 26),\n             ('wherever', 52),\n             ('said', 494),\n             ('stood', 260),\n             ('middle', 130),\n             ('dreary', 52),\n             ('shouldering', 26),\n             ('comparing', 26),\n             ('gloom', 26),\n             ('darkness', 78),\n             ('wisdom', 26),\n             ('conclude', 26),\n             ('lodge', 26),\n             ('dear', 26),\n             ('sure', 130),\n             ('inquire', 26),\n             ('price', 26),\n             ('halting', 26),\n             ('steps', 26),\n             ('paced', 26),\n             ('sign', 156),\n             ('crossed', 52),\n             ('harpoons\"--but', 26),\n             ('looked', 156),\n             ('expensive', 52),\n             ('further', 104),\n             ('bright', 52),\n             ('windows', 52),\n             ('fish', 78),\n             ('inn', 78),\n             ('fervent', 26),\n             ('rays', 26),\n             ('seemed', 416),\n             ('melted', 26),\n             ('packed', 52),\n             ('ice', 104),\n             ('house', 286),\n             ('everywhere', 26),\n             ('congealed', 26),\n             ('frost', 104),\n             ('lay', 234),\n             ('inches', 52),\n             ('thick', 52),\n             ...])"
     },
     "execution_count": 28,
     "metadata": {},
     "output_type": "execute_result"
    }
   ],
   "source": [
    "tokenizer.word_counts"
   ],
   "metadata": {
    "collapsed": false,
    "ExecuteTime": {
     "end_time": "2024-08-12T09:13:20.142729Z",
     "start_time": "2024-08-12T09:13:20.090227800Z"
    }
   },
   "id": "f0ac5406095a9f69"
  },
  {
   "cell_type": "code",
   "execution_count": 29,
   "outputs": [],
   "source": [
    "vocabulary_size = len(tokenizer.word_counts)"
   ],
   "metadata": {
    "collapsed": false,
    "ExecuteTime": {
     "end_time": "2024-08-12T09:14:12.297268900Z",
     "start_time": "2024-08-12T09:14:12.187848Z"
    }
   },
   "id": "a25e2841c0f34aca"
  },
  {
   "cell_type": "code",
   "execution_count": 30,
   "outputs": [
    {
     "data": {
      "text/plain": "2718"
     },
     "execution_count": 30,
     "metadata": {},
     "output_type": "execute_result"
    }
   ],
   "source": [
    "vocabulary_size"
   ],
   "metadata": {
    "collapsed": false,
    "ExecuteTime": {
     "end_time": "2024-08-12T09:14:14.041356500Z",
     "start_time": "2024-08-12T09:14:13.923479400Z"
    }
   },
   "id": "d81a6577c5a5277b"
  },
  {
   "cell_type": "code",
   "execution_count": 31,
   "outputs": [
    {
     "data": {
      "text/plain": "list"
     },
     "execution_count": 31,
     "metadata": {},
     "output_type": "execute_result"
    }
   ],
   "source": [
    "type(sequences)"
   ],
   "metadata": {
    "collapsed": false,
    "ExecuteTime": {
     "end_time": "2024-08-12T09:15:00.876560900Z",
     "start_time": "2024-08-12T09:15:00.829100100Z"
    }
   },
   "id": "4d670a9851e057e9"
  },
  {
   "cell_type": "code",
   "execution_count": 32,
   "outputs": [],
   "source": [
    "import numpy as np"
   ],
   "metadata": {
    "collapsed": false,
    "ExecuteTime": {
     "end_time": "2024-08-12T09:15:05.148814400Z",
     "start_time": "2024-08-12T09:15:05.035931400Z"
    }
   },
   "id": "4424c7c5090a6536"
  },
  {
   "cell_type": "code",
   "execution_count": 33,
   "outputs": [],
   "source": [
    "sequences = np.array(sequences)"
   ],
   "metadata": {
    "collapsed": false,
    "ExecuteTime": {
     "end_time": "2024-08-12T09:15:14.695161200Z",
     "start_time": "2024-08-12T09:15:14.620334200Z"
    }
   },
   "id": "9f129a7b5ca83d63"
  },
  {
   "cell_type": "code",
   "execution_count": 34,
   "outputs": [
    {
     "data": {
      "text/plain": "array([[ 956,   14,  263, ..., 2713,   14,   24],\n       [  14,  263,   51, ...,   14,   24,  957],\n       [ 263,   51,  261, ...,   24,  957,    5],\n       ...,\n       [ 952,   12,  166, ...,  262,   53,    2],\n       [  12,  166, 2712, ...,   53,    2, 2718],\n       [ 166, 2712,    3, ...,    2, 2718,   26]])"
     },
     "execution_count": 34,
     "metadata": {},
     "output_type": "execute_result"
    }
   ],
   "source": [
    "sequences"
   ],
   "metadata": {
    "collapsed": false,
    "ExecuteTime": {
     "end_time": "2024-08-12T09:15:16.700420500Z",
     "start_time": "2024-08-12T09:15:16.590852900Z"
    }
   },
   "id": "bc8a6ea5b91a362f"
  },
  {
   "cell_type": "code",
   "execution_count": 35,
   "outputs": [],
   "source": [
    "from keras.utils import to_categorical"
   ],
   "metadata": {
    "collapsed": false,
    "ExecuteTime": {
     "end_time": "2024-08-12T10:01:59.107240Z",
     "start_time": "2024-08-12T10:01:59.020228900Z"
    }
   },
   "id": "417adcc60a4a50d7"
  },
  {
   "cell_type": "code",
   "execution_count": 38,
   "outputs": [],
   "source": [
    "X= sequences[:,:-1]"
   ],
   "metadata": {
    "collapsed": false,
    "ExecuteTime": {
     "end_time": "2024-08-12T10:03:09.913017Z",
     "start_time": "2024-08-12T10:03:09.886239400Z"
    }
   },
   "id": "32129daa98e4a7ec"
  },
  {
   "cell_type": "code",
   "execution_count": 39,
   "outputs": [],
   "source": [
    "y = sequences[:,-1]"
   ],
   "metadata": {
    "collapsed": false,
    "ExecuteTime": {
     "end_time": "2024-08-12T10:03:13.929188700Z",
     "start_time": "2024-08-12T10:03:13.833409Z"
    }
   },
   "id": "df0b07d46b28fd6"
  },
  {
   "cell_type": "code",
   "execution_count": 40,
   "outputs": [],
   "source": [
    "y = to_categorical(y,num_classes=vocabulary_size+1)"
   ],
   "metadata": {
    "collapsed": false,
    "ExecuteTime": {
     "end_time": "2024-08-12T10:04:20.194846900Z",
     "start_time": "2024-08-12T10:04:20.155868400Z"
    }
   },
   "id": "c3c52edbfa370c60"
  },
  {
   "cell_type": "code",
   "execution_count": 41,
   "outputs": [],
   "source": [
    "seq_len = X.shape[1]"
   ],
   "metadata": {
    "collapsed": false,
    "ExecuteTime": {
     "end_time": "2024-08-12T10:05:03.603521700Z",
     "start_time": "2024-08-12T10:05:03.473248300Z"
    }
   },
   "id": "28c868316f1e6a25"
  },
  {
   "cell_type": "code",
   "execution_count": 42,
   "outputs": [
    {
     "data": {
      "text/plain": "(11312, 25)"
     },
     "execution_count": 42,
     "metadata": {},
     "output_type": "execute_result"
    }
   ],
   "source": [
    "X.shape"
   ],
   "metadata": {
    "collapsed": false,
    "ExecuteTime": {
     "end_time": "2024-08-12T10:05:05.449176300Z",
     "start_time": "2024-08-12T10:05:05.400078300Z"
    }
   },
   "id": "97ca346726111cee"
  },
  {
   "cell_type": "code",
   "execution_count": 43,
   "outputs": [],
   "source": [
    "from keras.models import Sequential\n",
    "from keras.layers import Dense,LSTM,Embedding"
   ],
   "metadata": {
    "collapsed": false,
    "ExecuteTime": {
     "end_time": "2024-08-12T10:06:08.540863700Z",
     "start_time": "2024-08-12T10:06:08.399984300Z"
    }
   },
   "id": "642523552260706d"
  },
  {
   "cell_type": "code",
   "execution_count": 44,
   "outputs": [],
   "source": [
    "def create_model(vocabulary_size,seq_len):\n",
    "    model = Sequential()\n",
    "    model.add(Embedding(vocabulary_size,seq_len,input_length=seq_len))\n",
    "    model.add(LSTM(seq_len*2,return_sequences=True))\n",
    "    model.add(LSTM(seq_len*2))\n",
    "    model.add(Dense(seq_len*2,activation='relu'))\n",
    "    \n",
    "    model.add(Dense(vocabulary_size,activation='softmax'))\n",
    "    \n",
    "    model.compile(loss='categorical_crossentropy',optimizer='adam',metrics=['accuracy'])\n",
    "    \n",
    "    model.summary()\n",
    "    \n",
    "    return model"
   ],
   "metadata": {
    "collapsed": false,
    "ExecuteTime": {
     "end_time": "2024-08-12T10:19:55.857513Z",
     "start_time": "2024-08-12T10:19:55.783979700Z"
    }
   },
   "id": "b7cc435b3d06fbd4"
  },
  {
   "cell_type": "code",
   "execution_count": 45,
   "outputs": [
    {
     "name": "stdout",
     "output_type": "stream",
     "text": [
      "WARNING:tensorflow:From C:\\Users\\PC\\anaconda3\\lib\\site-packages\\keras\\src\\backend.py:873: The name tf.get_default_graph is deprecated. Please use tf.compat.v1.get_default_graph instead.\n",
      "WARNING:tensorflow:From C:\\Users\\PC\\anaconda3\\lib\\site-packages\\keras\\src\\optimizers\\__init__.py:309: The name tf.train.Optimizer is deprecated. Please use tf.compat.v1.train.Optimizer instead.\n",
      "\n",
      "Model: \"sequential\"\n",
      "_________________________________________________________________\n",
      " Layer (type)                Output Shape              Param #   \n",
      "=================================================================\n",
      " embedding (Embedding)       (None, 25, 25)            67975     \n",
      "                                                                 \n",
      " lstm (LSTM)                 (None, 25, 50)            15200     \n",
      "                                                                 \n",
      " lstm_1 (LSTM)               (None, 50)                20200     \n",
      "                                                                 \n",
      " dense (Dense)               (None, 50)                2550      \n",
      "                                                                 \n",
      " dense_1 (Dense)             (None, 2719)              138669    \n",
      "                                                                 \n",
      "=================================================================\n",
      "Total params: 244594 (955.45 KB)\n",
      "Trainable params: 244594 (955.45 KB)\n",
      "Non-trainable params: 0 (0.00 Byte)\n",
      "_________________________________________________________________\n"
     ]
    }
   ],
   "source": [
    "model = create_model(vocabulary_size+1,seq_len)"
   ],
   "metadata": {
    "collapsed": false,
    "ExecuteTime": {
     "end_time": "2024-08-12T10:20:11.615249300Z",
     "start_time": "2024-08-12T10:20:09.760579300Z"
    }
   },
   "id": "2992aab68ded169a"
  },
  {
   "cell_type": "code",
   "execution_count": 46,
   "outputs": [],
   "source": [
    "from pickle import dump,load"
   ],
   "metadata": {
    "collapsed": false,
    "ExecuteTime": {
     "end_time": "2024-08-12T10:22:46.676657600Z",
     "start_time": "2024-08-12T10:22:46.625172100Z"
    }
   },
   "id": "7a1833595c85bd14"
  },
  {
   "cell_type": "code",
   "execution_count": 47,
   "outputs": [
    {
     "name": "stdout",
     "output_type": "stream",
     "text": [
      "Epoch 1/2\n",
      "WARNING:tensorflow:From C:\\Users\\PC\\anaconda3\\lib\\site-packages\\keras\\src\\utils\\tf_utils.py:492: The name tf.ragged.RaggedTensorValue is deprecated. Please use tf.compat.v1.ragged.RaggedTensorValue instead.\n",
      "WARNING:tensorflow:From C:\\Users\\PC\\anaconda3\\lib\\site-packages\\keras\\src\\engine\\base_layer_utils.py:384: The name tf.executing_eagerly_outside_functions is deprecated. Please use tf.compat.v1.executing_eagerly_outside_functions instead.\n",
      "89/89 [==============================] - 7s 29ms/step - loss: 7.0023 - accuracy: 0.0337\n",
      "Epoch 2/2\n",
      "89/89 [==============================] - 3s 33ms/step - loss: 6.3745 - accuracy: 0.0529\n"
     ]
    },
    {
     "data": {
      "text/plain": "<keras.src.callbacks.History at 0x1559413a910>"
     },
     "execution_count": 47,
     "metadata": {},
     "output_type": "execute_result"
    }
   ],
   "source": [
    "model.fit(X,y,batch_size=128,epochs=2,verbose=1)"
   ],
   "metadata": {
    "collapsed": false,
    "ExecuteTime": {
     "end_time": "2024-08-12T10:23:12.989149800Z",
     "start_time": "2024-08-12T10:23:02.756388100Z"
    }
   },
   "id": "146226cd83466346"
  },
  {
   "cell_type": "code",
   "execution_count": 48,
   "outputs": [
    {
     "name": "stderr",
     "output_type": "stream",
     "text": [
      "C:\\Users\\PC\\anaconda3\\lib\\site-packages\\keras\\src\\engine\\training.py:3103: UserWarning: You are saving your model as an HDF5 file via `model.save()`. This file format is considered legacy. We recommend using instead the native Keras format, e.g. `model.save('my_model.keras')`.\n",
      "  saving_api.save_model(\n"
     ]
    }
   ],
   "source": [
    "model.save('my_mobydick_model.h5')"
   ],
   "metadata": {
    "collapsed": false,
    "ExecuteTime": {
     "end_time": "2024-08-12T10:24:52.327222600Z",
     "start_time": "2024-08-12T10:24:52.098208600Z"
    }
   },
   "id": "e1984d6b87478f58"
  },
  {
   "cell_type": "code",
   "execution_count": 49,
   "outputs": [],
   "source": [
    "dump(tokenizer,open('my_simpletokenizer','wb'))"
   ],
   "metadata": {
    "collapsed": false,
    "ExecuteTime": {
     "end_time": "2024-08-12T10:28:44.692088500Z",
     "start_time": "2024-08-12T10:28:44.542383900Z"
    }
   },
   "id": "50fb8b6677a0856b"
  },
  {
   "cell_type": "code",
   "execution_count": 50,
   "outputs": [],
   "source": [
    "from keras.preprocessing.sequence import pad_sequences"
   ],
   "metadata": {
    "collapsed": false,
    "ExecuteTime": {
     "end_time": "2024-08-12T10:34:28.155413700Z",
     "start_time": "2024-08-12T10:34:28.138399400Z"
    }
   },
   "id": "e23ad70a5d368f88"
  },
  {
   "cell_type": "code",
   "execution_count": 51,
   "outputs": [],
   "source": [
    "def generate_text(model,tokenizer,seq_len,seed_text,num_gen_words):\n",
    "    \n",
    "    output_text = []\n",
    "    \n",
    "    input_text = seed_text\n",
    "    \n",
    "    for i in range(num_gen_words):\n",
    "        \n",
    "        encoded_text = tokenizer.texts_to_sequences([input_text])[0]\n",
    "        \n",
    "        pad_encoded = pad_sequences([encoded_text],maxlen=seq_len,truncating='pre')\n",
    "        \n",
    "        pred_word_ind = model.predict(pad_encoded,verbose=0)[0].argmax()\n",
    "        \n",
    "        pred_word = tokenizer.index_word[pred_word_ind]\n",
    "        \n",
    "        input_text += ' '+pred_word\n",
    "        \n",
    "        output_text.append(pred_word)\n",
    "        \n",
    "    return ' '.join(output_text)"
   ],
   "metadata": {
    "collapsed": false,
    "ExecuteTime": {
     "end_time": "2024-08-12T10:44:05.572720700Z",
     "start_time": "2024-08-12T10:44:05.523105400Z"
    }
   },
   "id": "17462afa7370a1c0"
  },
  {
   "cell_type": "code",
   "execution_count": 52,
   "outputs": [
    {
     "data": {
      "text/plain": "['call',\n 'me',\n 'ishmael',\n 'some',\n 'years',\n 'ago',\n 'never',\n 'mind',\n 'how',\n 'long',\n 'precisely',\n 'having',\n 'little',\n 'or',\n 'no',\n 'money',\n 'in',\n 'my',\n 'purse',\n 'and',\n 'nothing',\n 'particular',\n 'to',\n 'interest',\n 'me',\n 'on']"
     },
     "execution_count": 52,
     "metadata": {},
     "output_type": "execute_result"
    }
   ],
   "source": [
    "text_sequences[0]"
   ],
   "metadata": {
    "collapsed": false,
    "ExecuteTime": {
     "end_time": "2024-08-12T10:44:32.766706Z",
     "start_time": "2024-08-12T10:44:32.560903800Z"
    }
   },
   "id": "d0a19c313ecf8e12"
  },
  {
   "cell_type": "code",
   "execution_count": 53,
   "outputs": [],
   "source": [
    "import random\n",
    "random.seed(101)\n",
    "random_pick = random.randint(0,len(text_sequences))"
   ],
   "metadata": {
    "collapsed": false,
    "ExecuteTime": {
     "end_time": "2024-08-12T10:45:36.641978300Z",
     "start_time": "2024-08-12T10:45:36.561160100Z"
    }
   },
   "id": "450037e9415ced30"
  },
  {
   "cell_type": "code",
   "execution_count": 54,
   "outputs": [],
   "source": [
    "random_seed_text = text_sequences[random_pick]"
   ],
   "metadata": {
    "collapsed": false,
    "ExecuteTime": {
     "end_time": "2024-08-12T10:45:50.122771300Z",
     "start_time": "2024-08-12T10:45:49.947439Z"
    }
   },
   "id": "ecb53e137188f88a"
  },
  {
   "cell_type": "code",
   "execution_count": 55,
   "outputs": [
    {
     "data": {
      "text/plain": "['thought',\n 'i',\n 'to',\n 'myself',\n 'the',\n 'man',\n \"'s\",\n 'a',\n 'human',\n 'being',\n 'just',\n 'as',\n 'i',\n 'am',\n 'he',\n 'has',\n 'just',\n 'as',\n 'much',\n 'reason',\n 'to',\n 'fear',\n 'me',\n 'as',\n 'i',\n 'have']"
     },
     "execution_count": 55,
     "metadata": {},
     "output_type": "execute_result"
    }
   ],
   "source": [
    "random_seed_text"
   ],
   "metadata": {
    "collapsed": false,
    "ExecuteTime": {
     "end_time": "2024-08-12T10:45:52.656879800Z",
     "start_time": "2024-08-12T10:45:52.507270400Z"
    }
   },
   "id": "dabd92ee5e3c3f22"
  },
  {
   "cell_type": "code",
   "execution_count": 56,
   "outputs": [],
   "source": [
    "seed_text = ' '.join(random_seed_text)"
   ],
   "metadata": {
    "collapsed": false,
    "ExecuteTime": {
     "end_time": "2024-08-12T10:46:38.739796Z",
     "start_time": "2024-08-12T10:46:38.706309200Z"
    }
   },
   "id": "5daf47593cf26318"
  },
  {
   "cell_type": "code",
   "execution_count": 57,
   "outputs": [
    {
     "data": {
      "text/plain": "\"thought i to myself the man 's a human being just as i am he has just as much reason to fear me as i have\""
     },
     "execution_count": 57,
     "metadata": {},
     "output_type": "execute_result"
    }
   ],
   "source": [
    "seed_text"
   ],
   "metadata": {
    "collapsed": false,
    "ExecuteTime": {
     "end_time": "2024-08-12T10:46:40.219765500Z",
     "start_time": "2024-08-12T10:46:40.134403400Z"
    }
   },
   "id": "aad6205d859f163b"
  },
  {
   "cell_type": "code",
   "execution_count": 58,
   "outputs": [
    {
     "data": {
      "text/plain": "'the the the the the the the the the the the the the the the the the the the the the the the the the'"
     },
     "execution_count": 58,
     "metadata": {},
     "output_type": "execute_result"
    }
   ],
   "source": [
    "generate_text(model,tokenizer,seq_len,seed_text=seed_text,num_gen_words=25)"
   ],
   "metadata": {
    "collapsed": false,
    "ExecuteTime": {
     "end_time": "2024-08-12T10:48:12.571922Z",
     "start_time": "2024-08-12T10:48:10.537163Z"
    }
   },
   "id": "5f62f5c944b0ff47"
  },
  {
   "cell_type": "code",
   "execution_count": 59,
   "outputs": [],
   "source": [
    "# Çok fazla eğitmediğimiz için çok kötü bir sonuç verdi."
   ],
   "metadata": {
    "collapsed": false,
    "ExecuteTime": {
     "end_time": "2024-08-12T10:49:50.077046700Z",
     "start_time": "2024-08-12T10:49:50.040981400Z"
    }
   },
   "id": "3cab4efd0a1c041e"
  },
  {
   "cell_type": "code",
   "execution_count": 76,
   "outputs": [],
   "source": [
    "from keras.models import load_model"
   ],
   "metadata": {
    "collapsed": false,
    "ExecuteTime": {
     "end_time": "2024-08-12T11:00:19.145543100Z",
     "start_time": "2024-08-12T11:00:19.046715100Z"
    }
   },
   "id": "8a8c926b3222e680"
  },
  {
   "cell_type": "code",
   "execution_count": 77,
   "outputs": [],
   "source": [
    "model = load_model('epochBIG.h5')"
   ],
   "metadata": {
    "collapsed": false,
    "ExecuteTime": {
     "end_time": "2024-08-12T11:00:20.710393300Z",
     "start_time": "2024-08-12T11:00:19.911607Z"
    }
   },
   "id": "f6fca6d25995ccb1"
  },
  {
   "cell_type": "code",
   "execution_count": 85,
   "outputs": [],
   "source": [
    "tokenizer = load(open('epochBIG','rb'))"
   ],
   "metadata": {
    "collapsed": false,
    "ExecuteTime": {
     "end_time": "2024-08-12T11:11:20.243569500Z",
     "start_time": "2024-08-12T11:11:20.208671Z"
    }
   },
   "id": "318114c597384a8b"
  },
  {
   "cell_type": "code",
   "execution_count": 86,
   "outputs": [
    {
     "data": {
      "text/plain": "\"to be seen there was no bad olfactories my own letter was cheerily listening over his hearers who 's more can go have a wearing\""
     },
     "execution_count": 86,
     "metadata": {},
     "output_type": "execute_result"
    }
   ],
   "source": [
    "generate_text(model,tokenizer,seq_len,seed_text,25)"
   ],
   "metadata": {
    "collapsed": false,
    "ExecuteTime": {
     "end_time": "2024-08-12T11:11:54.340117800Z",
     "start_time": "2024-08-12T11:11:51.600500700Z"
    }
   },
   "id": "f094dff310d1820a"
  }
 ],
 "metadata": {
  "kernelspec": {
   "display_name": "Python 3",
   "language": "python",
   "name": "python3"
  },
  "language_info": {
   "codemirror_mode": {
    "name": "ipython",
    "version": 2
   },
   "file_extension": ".py",
   "mimetype": "text/x-python",
   "name": "python",
   "nbconvert_exporter": "python",
   "pygments_lexer": "ipython2",
   "version": "2.7.6"
  }
 },
 "nbformat": 4,
 "nbformat_minor": 5
}
