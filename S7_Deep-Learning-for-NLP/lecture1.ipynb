{
 "cells": [
  {
   "cell_type": "code",
   "execution_count": 1,
   "id": "initial_id",
   "metadata": {
    "collapsed": true,
    "ExecuteTime": {
     "end_time": "2024-08-12T07:20:44.060151500Z",
     "start_time": "2024-08-12T07:20:43.965414500Z"
    }
   },
   "outputs": [],
   "source": [
    "import numpy as np"
   ]
  },
  {
   "cell_type": "code",
   "execution_count": 2,
   "outputs": [],
   "source": [
    "from sklearn.datasets import load_iris"
   ],
   "metadata": {
    "collapsed": false,
    "ExecuteTime": {
     "end_time": "2024-08-12T07:22:24.146103400Z",
     "start_time": "2024-08-12T07:22:17.439492400Z"
    }
   },
   "id": "3edd1377011e6c66"
  },
  {
   "cell_type": "code",
   "execution_count": 3,
   "outputs": [],
   "source": [
    "iris = load_iris()"
   ],
   "metadata": {
    "collapsed": false,
    "ExecuteTime": {
     "end_time": "2024-08-12T07:22:24.912054Z",
     "start_time": "2024-08-12T07:22:24.864182900Z"
    }
   },
   "id": "aed1681f688a1bf8"
  },
  {
   "cell_type": "code",
   "execution_count": 4,
   "outputs": [
    {
     "data": {
      "text/plain": "sklearn.utils.Bunch"
     },
     "execution_count": 4,
     "metadata": {},
     "output_type": "execute_result"
    }
   ],
   "source": [
    "type(iris)"
   ],
   "metadata": {
    "collapsed": false,
    "ExecuteTime": {
     "end_time": "2024-08-12T07:22:32.808253100Z",
     "start_time": "2024-08-12T07:22:32.773346400Z"
    }
   },
   "id": "323cb3edff3f288c"
  },
  {
   "cell_type": "code",
   "execution_count": 5,
   "outputs": [
    {
     "name": "stdout",
     "output_type": "stream",
     "text": [
      ".. _iris_dataset:\n",
      "\n",
      "Iris plants dataset\n",
      "--------------------\n",
      "\n",
      "**Data Set Characteristics:**\n",
      "\n",
      "    :Number of Instances: 150 (50 in each of three classes)\n",
      "    :Number of Attributes: 4 numeric, predictive attributes and the class\n",
      "    :Attribute Information:\n",
      "        - sepal length in cm\n",
      "        - sepal width in cm\n",
      "        - petal length in cm\n",
      "        - petal width in cm\n",
      "        - class:\n",
      "                - Iris-Setosa\n",
      "                - Iris-Versicolour\n",
      "                - Iris-Virginica\n",
      "                \n",
      "    :Summary Statistics:\n",
      "\n",
      "    ============== ==== ==== ======= ===== ====================\n",
      "                    Min  Max   Mean    SD   Class Correlation\n",
      "    ============== ==== ==== ======= ===== ====================\n",
      "    sepal length:   4.3  7.9   5.84   0.83    0.7826\n",
      "    sepal width:    2.0  4.4   3.05   0.43   -0.4194\n",
      "    petal length:   1.0  6.9   3.76   1.76    0.9490  (high!)\n",
      "    petal width:    0.1  2.5   1.20   0.76    0.9565  (high!)\n",
      "    ============== ==== ==== ======= ===== ====================\n",
      "\n",
      "    :Missing Attribute Values: None\n",
      "    :Class Distribution: 33.3% for each of 3 classes.\n",
      "    :Creator: R.A. Fisher\n",
      "    :Donor: Michael Marshall (MARSHALL%PLU@io.arc.nasa.gov)\n",
      "    :Date: July, 1988\n",
      "\n",
      "The famous Iris database, first used by Sir R.A. Fisher. The dataset is taken\n",
      "from Fisher's paper. Note that it's the same as in R, but not as in the UCI\n",
      "Machine Learning Repository, which has two wrong data points.\n",
      "\n",
      "This is perhaps the best known database to be found in the\n",
      "pattern recognition literature.  Fisher's paper is a classic in the field and\n",
      "is referenced frequently to this day.  (See Duda & Hart, for example.)  The\n",
      "data set contains 3 classes of 50 instances each, where each class refers to a\n",
      "type of iris plant.  One class is linearly separable from the other 2; the\n",
      "latter are NOT linearly separable from each other.\n",
      "\n",
      ".. topic:: References\n",
      "\n",
      "   - Fisher, R.A. \"The use of multiple measurements in taxonomic problems\"\n",
      "     Annual Eugenics, 7, Part II, 179-188 (1936); also in \"Contributions to\n",
      "     Mathematical Statistics\" (John Wiley, NY, 1950).\n",
      "   - Duda, R.O., & Hart, P.E. (1973) Pattern Classification and Scene Analysis.\n",
      "     (Q327.D83) John Wiley & Sons.  ISBN 0-471-22361-1.  See page 218.\n",
      "   - Dasarathy, B.V. (1980) \"Nosing Around the Neighborhood: A New System\n",
      "     Structure and Classification Rule for Recognition in Partially Exposed\n",
      "     Environments\".  IEEE Transactions on Pattern Analysis and Machine\n",
      "     Intelligence, Vol. PAMI-2, No. 1, 67-71.\n",
      "   - Gates, G.W. (1972) \"The Reduced Nearest Neighbor Rule\".  IEEE Transactions\n",
      "     on Information Theory, May 1972, 431-433.\n",
      "   - See also: 1988 MLC Proceedings, 54-64.  Cheeseman et al\"s AUTOCLASS II\n",
      "     conceptual clustering system finds 3 classes in the data.\n",
      "   - Many, many more ...\n"
     ]
    }
   ],
   "source": [
    "print(iris.DESCR)"
   ],
   "metadata": {
    "collapsed": false,
    "ExecuteTime": {
     "end_time": "2024-08-12T07:22:52.243087200Z",
     "start_time": "2024-08-12T07:22:52.165601100Z"
    }
   },
   "id": "247359018985d1f1"
  },
  {
   "cell_type": "code",
   "execution_count": 6,
   "outputs": [],
   "source": [
    "X = iris.data"
   ],
   "metadata": {
    "collapsed": false,
    "ExecuteTime": {
     "end_time": "2024-08-12T07:23:52.584510800Z",
     "start_time": "2024-08-12T07:23:52.547610Z"
    }
   },
   "id": "7febcbdd2325266a"
  },
  {
   "cell_type": "code",
   "execution_count": 7,
   "outputs": [
    {
     "data": {
      "text/plain": "array([[5.1, 3.5, 1.4, 0.2],\n       [4.9, 3. , 1.4, 0.2],\n       [4.7, 3.2, 1.3, 0.2],\n       [4.6, 3.1, 1.5, 0.2],\n       [5. , 3.6, 1.4, 0.2],\n       [5.4, 3.9, 1.7, 0.4],\n       [4.6, 3.4, 1.4, 0.3],\n       [5. , 3.4, 1.5, 0.2],\n       [4.4, 2.9, 1.4, 0.2],\n       [4.9, 3.1, 1.5, 0.1],\n       [5.4, 3.7, 1.5, 0.2],\n       [4.8, 3.4, 1.6, 0.2],\n       [4.8, 3. , 1.4, 0.1],\n       [4.3, 3. , 1.1, 0.1],\n       [5.8, 4. , 1.2, 0.2],\n       [5.7, 4.4, 1.5, 0.4],\n       [5.4, 3.9, 1.3, 0.4],\n       [5.1, 3.5, 1.4, 0.3],\n       [5.7, 3.8, 1.7, 0.3],\n       [5.1, 3.8, 1.5, 0.3],\n       [5.4, 3.4, 1.7, 0.2],\n       [5.1, 3.7, 1.5, 0.4],\n       [4.6, 3.6, 1. , 0.2],\n       [5.1, 3.3, 1.7, 0.5],\n       [4.8, 3.4, 1.9, 0.2],\n       [5. , 3. , 1.6, 0.2],\n       [5. , 3.4, 1.6, 0.4],\n       [5.2, 3.5, 1.5, 0.2],\n       [5.2, 3.4, 1.4, 0.2],\n       [4.7, 3.2, 1.6, 0.2],\n       [4.8, 3.1, 1.6, 0.2],\n       [5.4, 3.4, 1.5, 0.4],\n       [5.2, 4.1, 1.5, 0.1],\n       [5.5, 4.2, 1.4, 0.2],\n       [4.9, 3.1, 1.5, 0.2],\n       [5. , 3.2, 1.2, 0.2],\n       [5.5, 3.5, 1.3, 0.2],\n       [4.9, 3.6, 1.4, 0.1],\n       [4.4, 3. , 1.3, 0.2],\n       [5.1, 3.4, 1.5, 0.2],\n       [5. , 3.5, 1.3, 0.3],\n       [4.5, 2.3, 1.3, 0.3],\n       [4.4, 3.2, 1.3, 0.2],\n       [5. , 3.5, 1.6, 0.6],\n       [5.1, 3.8, 1.9, 0.4],\n       [4.8, 3. , 1.4, 0.3],\n       [5.1, 3.8, 1.6, 0.2],\n       [4.6, 3.2, 1.4, 0.2],\n       [5.3, 3.7, 1.5, 0.2],\n       [5. , 3.3, 1.4, 0.2],\n       [7. , 3.2, 4.7, 1.4],\n       [6.4, 3.2, 4.5, 1.5],\n       [6.9, 3.1, 4.9, 1.5],\n       [5.5, 2.3, 4. , 1.3],\n       [6.5, 2.8, 4.6, 1.5],\n       [5.7, 2.8, 4.5, 1.3],\n       [6.3, 3.3, 4.7, 1.6],\n       [4.9, 2.4, 3.3, 1. ],\n       [6.6, 2.9, 4.6, 1.3],\n       [5.2, 2.7, 3.9, 1.4],\n       [5. , 2. , 3.5, 1. ],\n       [5.9, 3. , 4.2, 1.5],\n       [6. , 2.2, 4. , 1. ],\n       [6.1, 2.9, 4.7, 1.4],\n       [5.6, 2.9, 3.6, 1.3],\n       [6.7, 3.1, 4.4, 1.4],\n       [5.6, 3. , 4.5, 1.5],\n       [5.8, 2.7, 4.1, 1. ],\n       [6.2, 2.2, 4.5, 1.5],\n       [5.6, 2.5, 3.9, 1.1],\n       [5.9, 3.2, 4.8, 1.8],\n       [6.1, 2.8, 4. , 1.3],\n       [6.3, 2.5, 4.9, 1.5],\n       [6.1, 2.8, 4.7, 1.2],\n       [6.4, 2.9, 4.3, 1.3],\n       [6.6, 3. , 4.4, 1.4],\n       [6.8, 2.8, 4.8, 1.4],\n       [6.7, 3. , 5. , 1.7],\n       [6. , 2.9, 4.5, 1.5],\n       [5.7, 2.6, 3.5, 1. ],\n       [5.5, 2.4, 3.8, 1.1],\n       [5.5, 2.4, 3.7, 1. ],\n       [5.8, 2.7, 3.9, 1.2],\n       [6. , 2.7, 5.1, 1.6],\n       [5.4, 3. , 4.5, 1.5],\n       [6. , 3.4, 4.5, 1.6],\n       [6.7, 3.1, 4.7, 1.5],\n       [6.3, 2.3, 4.4, 1.3],\n       [5.6, 3. , 4.1, 1.3],\n       [5.5, 2.5, 4. , 1.3],\n       [5.5, 2.6, 4.4, 1.2],\n       [6.1, 3. , 4.6, 1.4],\n       [5.8, 2.6, 4. , 1.2],\n       [5. , 2.3, 3.3, 1. ],\n       [5.6, 2.7, 4.2, 1.3],\n       [5.7, 3. , 4.2, 1.2],\n       [5.7, 2.9, 4.2, 1.3],\n       [6.2, 2.9, 4.3, 1.3],\n       [5.1, 2.5, 3. , 1.1],\n       [5.7, 2.8, 4.1, 1.3],\n       [6.3, 3.3, 6. , 2.5],\n       [5.8, 2.7, 5.1, 1.9],\n       [7.1, 3. , 5.9, 2.1],\n       [6.3, 2.9, 5.6, 1.8],\n       [6.5, 3. , 5.8, 2.2],\n       [7.6, 3. , 6.6, 2.1],\n       [4.9, 2.5, 4.5, 1.7],\n       [7.3, 2.9, 6.3, 1.8],\n       [6.7, 2.5, 5.8, 1.8],\n       [7.2, 3.6, 6.1, 2.5],\n       [6.5, 3.2, 5.1, 2. ],\n       [6.4, 2.7, 5.3, 1.9],\n       [6.8, 3. , 5.5, 2.1],\n       [5.7, 2.5, 5. , 2. ],\n       [5.8, 2.8, 5.1, 2.4],\n       [6.4, 3.2, 5.3, 2.3],\n       [6.5, 3. , 5.5, 1.8],\n       [7.7, 3.8, 6.7, 2.2],\n       [7.7, 2.6, 6.9, 2.3],\n       [6. , 2.2, 5. , 1.5],\n       [6.9, 3.2, 5.7, 2.3],\n       [5.6, 2.8, 4.9, 2. ],\n       [7.7, 2.8, 6.7, 2. ],\n       [6.3, 2.7, 4.9, 1.8],\n       [6.7, 3.3, 5.7, 2.1],\n       [7.2, 3.2, 6. , 1.8],\n       [6.2, 2.8, 4.8, 1.8],\n       [6.1, 3. , 4.9, 1.8],\n       [6.4, 2.8, 5.6, 2.1],\n       [7.2, 3. , 5.8, 1.6],\n       [7.4, 2.8, 6.1, 1.9],\n       [7.9, 3.8, 6.4, 2. ],\n       [6.4, 2.8, 5.6, 2.2],\n       [6.3, 2.8, 5.1, 1.5],\n       [6.1, 2.6, 5.6, 1.4],\n       [7.7, 3. , 6.1, 2.3],\n       [6.3, 3.4, 5.6, 2.4],\n       [6.4, 3.1, 5.5, 1.8],\n       [6. , 3. , 4.8, 1.8],\n       [6.9, 3.1, 5.4, 2.1],\n       [6.7, 3.1, 5.6, 2.4],\n       [6.9, 3.1, 5.1, 2.3],\n       [5.8, 2.7, 5.1, 1.9],\n       [6.8, 3.2, 5.9, 2.3],\n       [6.7, 3.3, 5.7, 2.5],\n       [6.7, 3. , 5.2, 2.3],\n       [6.3, 2.5, 5. , 1.9],\n       [6.5, 3. , 5.2, 2. ],\n       [6.2, 3.4, 5.4, 2.3],\n       [5.9, 3. , 5.1, 1.8]])"
     },
     "execution_count": 7,
     "metadata": {},
     "output_type": "execute_result"
    }
   ],
   "source": [
    "X"
   ],
   "metadata": {
    "collapsed": false,
    "ExecuteTime": {
     "end_time": "2024-08-12T07:23:57.558034700Z",
     "start_time": "2024-08-12T07:23:57.466280500Z"
    }
   },
   "id": "4fc7b5e45cb7205f"
  },
  {
   "cell_type": "code",
   "execution_count": 8,
   "outputs": [],
   "source": [
    "y = iris.target"
   ],
   "metadata": {
    "collapsed": false,
    "ExecuteTime": {
     "end_time": "2024-08-12T07:24:11.548971500Z",
     "start_time": "2024-08-12T07:24:11.500183400Z"
    }
   },
   "id": "a923bc9814ca8880"
  },
  {
   "cell_type": "code",
   "execution_count": 9,
   "outputs": [
    {
     "data": {
      "text/plain": "array([0, 0, 0, 0, 0, 0, 0, 0, 0, 0, 0, 0, 0, 0, 0, 0, 0, 0, 0, 0, 0, 0,\n       0, 0, 0, 0, 0, 0, 0, 0, 0, 0, 0, 0, 0, 0, 0, 0, 0, 0, 0, 0, 0, 0,\n       0, 0, 0, 0, 0, 0, 1, 1, 1, 1, 1, 1, 1, 1, 1, 1, 1, 1, 1, 1, 1, 1,\n       1, 1, 1, 1, 1, 1, 1, 1, 1, 1, 1, 1, 1, 1, 1, 1, 1, 1, 1, 1, 1, 1,\n       1, 1, 1, 1, 1, 1, 1, 1, 1, 1, 1, 1, 2, 2, 2, 2, 2, 2, 2, 2, 2, 2,\n       2, 2, 2, 2, 2, 2, 2, 2, 2, 2, 2, 2, 2, 2, 2, 2, 2, 2, 2, 2, 2, 2,\n       2, 2, 2, 2, 2, 2, 2, 2, 2, 2, 2, 2, 2, 2, 2, 2, 2, 2])"
     },
     "execution_count": 9,
     "metadata": {},
     "output_type": "execute_result"
    }
   ],
   "source": [
    "y"
   ],
   "metadata": {
    "collapsed": false,
    "ExecuteTime": {
     "end_time": "2024-08-12T07:24:12.613841500Z",
     "start_time": "2024-08-12T07:24:12.562325200Z"
    }
   },
   "id": "7beb319820d86c73"
  },
  {
   "cell_type": "code",
   "execution_count": 10,
   "outputs": [
    {
     "data": {
      "text/plain": "'\\nclass 0 ---> [1,0,0]\\nclass 1 ---> [0,1,0]\\nclass 2 ---> [0,0,1]\\n'"
     },
     "execution_count": 10,
     "metadata": {},
     "output_type": "execute_result"
    }
   ],
   "source": [
    "'''\n",
    "class 0 ---> [1,0,0]\n",
    "class 1 ---> [0,1,0]\n",
    "class 2 ---> [0,0,1]\n",
    "'''"
   ],
   "metadata": {
    "collapsed": false,
    "ExecuteTime": {
     "end_time": "2024-08-12T07:26:02.259150500Z",
     "start_time": "2024-08-12T07:26:02.130495900Z"
    }
   },
   "id": "d65107a2d427100f"
  },
  {
   "cell_type": "code",
   "execution_count": 11,
   "outputs": [
    {
     "name": "stdout",
     "output_type": "stream",
     "text": [
      "WARNING:tensorflow:From C:\\Users\\PC\\anaconda3\\lib\\site-packages\\keras\\src\\losses.py:2976: The name tf.losses.sparse_softmax_cross_entropy is deprecated. Please use tf.compat.v1.losses.sparse_softmax_cross_entropy instead.\n"
     ]
    }
   ],
   "source": [
    "from keras.utils import to_categorical"
   ],
   "metadata": {
    "collapsed": false,
    "ExecuteTime": {
     "end_time": "2024-08-12T07:26:27.630498500Z",
     "start_time": "2024-08-12T07:26:13.119141400Z"
    }
   },
   "id": "67b7d83beee504ae"
  },
  {
   "cell_type": "code",
   "execution_count": 12,
   "outputs": [],
   "source": [
    "y = to_categorical(y)"
   ],
   "metadata": {
    "collapsed": false,
    "ExecuteTime": {
     "end_time": "2024-08-12T07:26:37.171942Z",
     "start_time": "2024-08-12T07:26:37.136517600Z"
    }
   },
   "id": "d2c01d110c5f073"
  },
  {
   "cell_type": "code",
   "execution_count": 13,
   "outputs": [
    {
     "data": {
      "text/plain": "(150, 3)"
     },
     "execution_count": 13,
     "metadata": {},
     "output_type": "execute_result"
    }
   ],
   "source": [
    "y.shape"
   ],
   "metadata": {
    "collapsed": false,
    "ExecuteTime": {
     "end_time": "2024-08-12T07:26:40.137436500Z",
     "start_time": "2024-08-12T07:26:40.082583500Z"
    }
   },
   "id": "9c0fe0b9415e9c27"
  },
  {
   "cell_type": "code",
   "execution_count": 14,
   "outputs": [],
   "source": [
    "from sklearn.model_selection import train_test_split"
   ],
   "metadata": {
    "collapsed": false,
    "ExecuteTime": {
     "end_time": "2024-08-12T07:27:19.609996200Z",
     "start_time": "2024-08-12T07:27:19.518791400Z"
    }
   },
   "id": "46b638f08e34509b"
  },
  {
   "cell_type": "code",
   "execution_count": 15,
   "outputs": [],
   "source": [
    "X_train,X_test,y_train,y_test = train_test_split(X,y,test_size=0.33,random_state=42)"
   ],
   "metadata": {
    "collapsed": false,
    "ExecuteTime": {
     "end_time": "2024-08-12T07:27:49.044142900Z",
     "start_time": "2024-08-12T07:27:48.988888400Z"
    }
   },
   "id": "37900b6fa28bbf21"
  },
  {
   "cell_type": "code",
   "execution_count": 17,
   "outputs": [],
   "source": [
    "from sklearn.preprocessing import MinMaxScaler"
   ],
   "metadata": {
    "collapsed": false,
    "ExecuteTime": {
     "end_time": "2024-08-12T07:28:40.203744900Z",
     "start_time": "2024-08-12T07:28:40.169373900Z"
    }
   },
   "id": "668582da9292cb6f"
  },
  {
   "cell_type": "code",
   "execution_count": 18,
   "outputs": [
    {
     "data": {
      "text/plain": "array([0.25, 0.5 , 0.75, 1.  ])"
     },
     "execution_count": 18,
     "metadata": {},
     "output_type": "execute_result"
    }
   ],
   "source": [
    "# Just Example\n",
    "np.array([5,10,15,20])/20"
   ],
   "metadata": {
    "collapsed": false,
    "ExecuteTime": {
     "end_time": "2024-08-12T07:29:35.814408200Z",
     "start_time": "2024-08-12T07:29:35.792463800Z"
    }
   },
   "id": "72f10b8eedb39670"
  },
  {
   "cell_type": "code",
   "execution_count": 20,
   "outputs": [],
   "source": [
    "scaler_object = MinMaxScaler()"
   ],
   "metadata": {
    "collapsed": false,
    "ExecuteTime": {
     "end_time": "2024-08-12T07:29:55.910758500Z",
     "start_time": "2024-08-12T07:29:55.886341100Z"
    }
   },
   "id": "95481cfa562f1996"
  },
  {
   "cell_type": "code",
   "execution_count": 21,
   "outputs": [
    {
     "data": {
      "text/plain": "MinMaxScaler()"
     },
     "execution_count": 21,
     "metadata": {},
     "output_type": "execute_result"
    }
   ],
   "source": [
    "scaler_object.fit(X_train)"
   ],
   "metadata": {
    "collapsed": false,
    "ExecuteTime": {
     "end_time": "2024-08-12T07:30:37.475648400Z",
     "start_time": "2024-08-12T07:30:37.444728300Z"
    }
   },
   "id": "43716546550f55df"
  },
  {
   "cell_type": "code",
   "execution_count": 22,
   "outputs": [],
   "source": [
    "scaled_X_train = scaler_object.transform(X_train)"
   ],
   "metadata": {
    "collapsed": false,
    "ExecuteTime": {
     "end_time": "2024-08-12T07:30:49.439245900Z",
     "start_time": "2024-08-12T07:30:49.408327600Z"
    }
   },
   "id": "c2ff8ef735564908"
  },
  {
   "cell_type": "code",
   "execution_count": 23,
   "outputs": [],
   "source": [
    "scaled_X_test = scaler_object.transform(X_test)"
   ],
   "metadata": {
    "collapsed": false,
    "ExecuteTime": {
     "end_time": "2024-08-12T07:31:02.360836400Z",
     "start_time": "2024-08-12T07:31:02.316952100Z"
    }
   },
   "id": "4adcb404a00e6880"
  },
  {
   "cell_type": "code",
   "execution_count": 24,
   "outputs": [],
   "source": [
    "from keras.models import Sequential\n",
    "from keras.layers import Dense"
   ],
   "metadata": {
    "collapsed": false,
    "ExecuteTime": {
     "end_time": "2024-08-12T07:35:37.721401600Z",
     "start_time": "2024-08-12T07:35:37.676521500Z"
    }
   },
   "id": "21a35e92c5ac3c6b"
  },
  {
   "cell_type": "code",
   "execution_count": 25,
   "outputs": [
    {
     "name": "stdout",
     "output_type": "stream",
     "text": [
      "WARNING:tensorflow:From C:\\Users\\PC\\anaconda3\\lib\\site-packages\\keras\\src\\backend.py:873: The name tf.get_default_graph is deprecated. Please use tf.compat.v1.get_default_graph instead.\n",
      "WARNING:tensorflow:From C:\\Users\\PC\\anaconda3\\lib\\site-packages\\keras\\src\\optimizers\\__init__.py:309: The name tf.train.Optimizer is deprecated. Please use tf.compat.v1.train.Optimizer instead.\n"
     ]
    }
   ],
   "source": [
    "model = Sequential()\n",
    "model.add(Dense(8,input_dim=4,activation='relu'))\n",
    "model.add(Dense(8,input_dim=4,activation='relu'))\n",
    "model.add(Dense(3,activation='softmax')) # [0.2,0.3,0.5]\n",
    "model.compile(loss='categorical_crossentropy',optimizer='adam',metrics=['accuracy'])"
   ],
   "metadata": {
    "collapsed": false,
    "ExecuteTime": {
     "end_time": "2024-08-12T07:37:22.629697100Z",
     "start_time": "2024-08-12T07:37:21.870824900Z"
    }
   },
   "id": "e5038067bf890006"
  },
  {
   "cell_type": "code",
   "execution_count": 26,
   "outputs": [
    {
     "name": "stdout",
     "output_type": "stream",
     "text": [
      "Model: \"sequential\"\n",
      "_________________________________________________________________\n",
      " Layer (type)                Output Shape              Param #   \n",
      "=================================================================\n",
      " dense (Dense)               (None, 8)                 40        \n",
      "                                                                 \n",
      " dense_1 (Dense)             (None, 8)                 72        \n",
      "                                                                 \n",
      " dense_2 (Dense)             (None, 3)                 27        \n",
      "                                                                 \n",
      "=================================================================\n",
      "Total params: 139 (556.00 Byte)\n",
      "Trainable params: 139 (556.00 Byte)\n",
      "Non-trainable params: 0 (0.00 Byte)\n",
      "_________________________________________________________________\n"
     ]
    }
   ],
   "source": [
    "model.summary()"
   ],
   "metadata": {
    "collapsed": false,
    "ExecuteTime": {
     "end_time": "2024-08-12T07:37:54.166832200Z",
     "start_time": "2024-08-12T07:37:54.083227900Z"
    }
   },
   "id": "e844a57129cb0e78"
  },
  {
   "cell_type": "code",
   "execution_count": 27,
   "outputs": [
    {
     "name": "stdout",
     "output_type": "stream",
     "text": [
      "Epoch 1/150\n",
      "WARNING:tensorflow:From C:\\Users\\PC\\anaconda3\\lib\\site-packages\\keras\\src\\utils\\tf_utils.py:492: The name tf.ragged.RaggedTensorValue is deprecated. Please use tf.compat.v1.ragged.RaggedTensorValue instead.\n",
      "WARNING:tensorflow:From C:\\Users\\PC\\anaconda3\\lib\\site-packages\\keras\\src\\engine\\base_layer_utils.py:384: The name tf.executing_eagerly_outside_functions is deprecated. Please use tf.compat.v1.executing_eagerly_outside_functions instead.\n",
      "4/4 - 2s - loss: 1.0803 - accuracy: 0.3500 - 2s/epoch - 506ms/step\n",
      "Epoch 2/150\n",
      "4/4 - 0s - loss: 1.0752 - accuracy: 0.4500 - 14ms/epoch - 3ms/step\n",
      "Epoch 3/150\n",
      "4/4 - 0s - loss: 1.0708 - accuracy: 0.5600 - 17ms/epoch - 4ms/step\n",
      "Epoch 4/150\n",
      "4/4 - 0s - loss: 1.0670 - accuracy: 0.5800 - 17ms/epoch - 4ms/step\n",
      "Epoch 5/150\n",
      "4/4 - 0s - loss: 1.0637 - accuracy: 0.6200 - 18ms/epoch - 4ms/step\n",
      "Epoch 6/150\n",
      "4/4 - 0s - loss: 1.0602 - accuracy: 0.6500 - 18ms/epoch - 4ms/step\n",
      "Epoch 7/150\n",
      "4/4 - 0s - loss: 1.0571 - accuracy: 0.6500 - 34ms/epoch - 8ms/step\n",
      "Epoch 8/150\n",
      "4/4 - 0s - loss: 1.0542 - accuracy: 0.6500 - 29ms/epoch - 7ms/step\n",
      "Epoch 9/150\n",
      "4/4 - 0s - loss: 1.0518 - accuracy: 0.6400 - 45ms/epoch - 11ms/step\n",
      "Epoch 10/150\n",
      "4/4 - 0s - loss: 1.0493 - accuracy: 0.6400 - 34ms/epoch - 8ms/step\n",
      "Epoch 11/150\n",
      "4/4 - 0s - loss: 1.0471 - accuracy: 0.6400 - 40ms/epoch - 10ms/step\n",
      "Epoch 12/150\n",
      "4/4 - 0s - loss: 1.0446 - accuracy: 0.6400 - 41ms/epoch - 10ms/step\n",
      "Epoch 13/150\n",
      "4/4 - 0s - loss: 1.0419 - accuracy: 0.6400 - 71ms/epoch - 18ms/step\n",
      "Epoch 14/150\n",
      "4/4 - 0s - loss: 1.0394 - accuracy: 0.6600 - 29ms/epoch - 7ms/step\n",
      "Epoch 15/150\n",
      "4/4 - 0s - loss: 1.0366 - accuracy: 0.6600 - 36ms/epoch - 9ms/step\n",
      "Epoch 16/150\n",
      "4/4 - 0s - loss: 1.0340 - accuracy: 0.6700 - 41ms/epoch - 10ms/step\n",
      "Epoch 17/150\n",
      "4/4 - 0s - loss: 1.0313 - accuracy: 0.6800 - 31ms/epoch - 8ms/step\n",
      "Epoch 18/150\n",
      "4/4 - 0s - loss: 1.0283 - accuracy: 0.6700 - 32ms/epoch - 8ms/step\n",
      "Epoch 19/150\n",
      "4/4 - 0s - loss: 1.0252 - accuracy: 0.6600 - 30ms/epoch - 8ms/step\n",
      "Epoch 20/150\n",
      "4/4 - 0s - loss: 1.0220 - accuracy: 0.6600 - 29ms/epoch - 7ms/step\n",
      "Epoch 21/150\n",
      "4/4 - 0s - loss: 1.0187 - accuracy: 0.6600 - 32ms/epoch - 8ms/step\n",
      "Epoch 22/150\n",
      "4/4 - 0s - loss: 1.0152 - accuracy: 0.6500 - 31ms/epoch - 8ms/step\n",
      "Epoch 23/150\n",
      "4/4 - 0s - loss: 1.0118 - accuracy: 0.6500 - 31ms/epoch - 8ms/step\n",
      "Epoch 24/150\n",
      "4/4 - 0s - loss: 1.0081 - accuracy: 0.6500 - 36ms/epoch - 9ms/step\n",
      "Epoch 25/150\n",
      "4/4 - 0s - loss: 1.0044 - accuracy: 0.6500 - 39ms/epoch - 10ms/step\n",
      "Epoch 26/150\n",
      "4/4 - 0s - loss: 1.0005 - accuracy: 0.6500 - 45ms/epoch - 11ms/step\n",
      "Epoch 27/150\n",
      "4/4 - 0s - loss: 0.9965 - accuracy: 0.6500 - 36ms/epoch - 9ms/step\n",
      "Epoch 28/150\n",
      "4/4 - 0s - loss: 0.9923 - accuracy: 0.6500 - 30ms/epoch - 7ms/step\n",
      "Epoch 29/150\n",
      "4/4 - 0s - loss: 0.9882 - accuracy: 0.6500 - 18ms/epoch - 4ms/step\n",
      "Epoch 30/150\n",
      "4/4 - 0s - loss: 0.9837 - accuracy: 0.6500 - 19ms/epoch - 5ms/step\n",
      "Epoch 31/150\n",
      "4/4 - 0s - loss: 0.9793 - accuracy: 0.6500 - 18ms/epoch - 4ms/step\n",
      "Epoch 32/150\n",
      "4/4 - 0s - loss: 0.9748 - accuracy: 0.6500 - 21ms/epoch - 5ms/step\n",
      "Epoch 33/150\n",
      "4/4 - 0s - loss: 0.9701 - accuracy: 0.6500 - 18ms/epoch - 5ms/step\n",
      "Epoch 34/150\n",
      "4/4 - 0s - loss: 0.9654 - accuracy: 0.6500 - 18ms/epoch - 5ms/step\n",
      "Epoch 35/150\n",
      "4/4 - 0s - loss: 0.9605 - accuracy: 0.6500 - 16ms/epoch - 4ms/step\n",
      "Epoch 36/150\n",
      "4/4 - 0s - loss: 0.9552 - accuracy: 0.6500 - 12ms/epoch - 3ms/step\n",
      "Epoch 37/150\n",
      "4/4 - 0s - loss: 0.9500 - accuracy: 0.6500 - 19ms/epoch - 5ms/step\n",
      "Epoch 38/150\n",
      "4/4 - 0s - loss: 0.9446 - accuracy: 0.6500 - 20ms/epoch - 5ms/step\n",
      "Epoch 39/150\n",
      "4/4 - 0s - loss: 0.9389 - accuracy: 0.6500 - 19ms/epoch - 5ms/step\n",
      "Epoch 40/150\n",
      "4/4 - 0s - loss: 0.9332 - accuracy: 0.6500 - 19ms/epoch - 5ms/step\n",
      "Epoch 41/150\n",
      "4/4 - 0s - loss: 0.9275 - accuracy: 0.6500 - 19ms/epoch - 5ms/step\n",
      "Epoch 42/150\n",
      "4/4 - 0s - loss: 0.9216 - accuracy: 0.6500 - 21ms/epoch - 5ms/step\n",
      "Epoch 43/150\n",
      "4/4 - 0s - loss: 0.9156 - accuracy: 0.6500 - 13ms/epoch - 3ms/step\n",
      "Epoch 44/150\n",
      "4/4 - 0s - loss: 0.9096 - accuracy: 0.6500 - 20ms/epoch - 5ms/step\n",
      "Epoch 45/150\n",
      "4/4 - 0s - loss: 0.9035 - accuracy: 0.6500 - 20ms/epoch - 5ms/step\n",
      "Epoch 46/150\n",
      "4/4 - 0s - loss: 0.8972 - accuracy: 0.6500 - 26ms/epoch - 7ms/step\n",
      "Epoch 47/150\n",
      "4/4 - 0s - loss: 0.8906 - accuracy: 0.6500 - 21ms/epoch - 5ms/step\n",
      "Epoch 48/150\n",
      "4/4 - 0s - loss: 0.8842 - accuracy: 0.6500 - 24ms/epoch - 6ms/step\n",
      "Epoch 49/150\n",
      "4/4 - 0s - loss: 0.8778 - accuracy: 0.6500 - 13ms/epoch - 3ms/step\n",
      "Epoch 50/150\n",
      "4/4 - 0s - loss: 0.8711 - accuracy: 0.6500 - 22ms/epoch - 6ms/step\n",
      "Epoch 51/150\n",
      "4/4 - 0s - loss: 0.8646 - accuracy: 0.6500 - 20ms/epoch - 5ms/step\n",
      "Epoch 52/150\n",
      "4/4 - 0s - loss: 0.8580 - accuracy: 0.6500 - 19ms/epoch - 5ms/step\n",
      "Epoch 53/150\n",
      "4/4 - 0s - loss: 0.8511 - accuracy: 0.6500 - 14ms/epoch - 4ms/step\n",
      "Epoch 54/150\n",
      "4/4 - 0s - loss: 0.8440 - accuracy: 0.6500 - 25ms/epoch - 6ms/step\n",
      "Epoch 55/150\n",
      "4/4 - 0s - loss: 0.8371 - accuracy: 0.6500 - 17ms/epoch - 4ms/step\n",
      "Epoch 56/150\n",
      "4/4 - 0s - loss: 0.8302 - accuracy: 0.6500 - 21ms/epoch - 5ms/step\n",
      "Epoch 57/150\n",
      "4/4 - 0s - loss: 0.8232 - accuracy: 0.6500 - 15ms/epoch - 4ms/step\n",
      "Epoch 58/150\n",
      "4/4 - 0s - loss: 0.8168 - accuracy: 0.6500 - 16ms/epoch - 4ms/step\n",
      "Epoch 59/150\n",
      "4/4 - 0s - loss: 0.8102 - accuracy: 0.6500 - 16ms/epoch - 4ms/step\n",
      "Epoch 60/150\n",
      "4/4 - 0s - loss: 0.8033 - accuracy: 0.6500 - 13ms/epoch - 3ms/step\n",
      "Epoch 61/150\n",
      "4/4 - 0s - loss: 0.7962 - accuracy: 0.6500 - 21ms/epoch - 5ms/step\n",
      "Epoch 62/150\n",
      "4/4 - 0s - loss: 0.7891 - accuracy: 0.6500 - 16ms/epoch - 4ms/step\n",
      "Epoch 63/150\n",
      "4/4 - 0s - loss: 0.7822 - accuracy: 0.6500 - 18ms/epoch - 4ms/step\n",
      "Epoch 64/150\n",
      "4/4 - 0s - loss: 0.7756 - accuracy: 0.6500 - 18ms/epoch - 5ms/step\n",
      "Epoch 65/150\n",
      "4/4 - 0s - loss: 0.7686 - accuracy: 0.6500 - 19ms/epoch - 5ms/step\n",
      "Epoch 66/150\n",
      "4/4 - 0s - loss: 0.7615 - accuracy: 0.6500 - 16ms/epoch - 4ms/step\n",
      "Epoch 67/150\n",
      "4/4 - 0s - loss: 0.7549 - accuracy: 0.6500 - 18ms/epoch - 5ms/step\n",
      "Epoch 68/150\n",
      "4/4 - 0s - loss: 0.7485 - accuracy: 0.6500 - 19ms/epoch - 5ms/step\n",
      "Epoch 69/150\n",
      "4/4 - 0s - loss: 0.7420 - accuracy: 0.6500 - 17ms/epoch - 4ms/step\n",
      "Epoch 70/150\n",
      "4/4 - 0s - loss: 0.7350 - accuracy: 0.6500 - 33ms/epoch - 8ms/step\n",
      "Epoch 71/150\n",
      "4/4 - 0s - loss: 0.7282 - accuracy: 0.6500 - 25ms/epoch - 6ms/step\n",
      "Epoch 72/150\n",
      "4/4 - 0s - loss: 0.7215 - accuracy: 0.6500 - 22ms/epoch - 6ms/step\n",
      "Epoch 73/150\n",
      "4/4 - 0s - loss: 0.7150 - accuracy: 0.6500 - 17ms/epoch - 4ms/step\n",
      "Epoch 74/150\n",
      "4/4 - 0s - loss: 0.7085 - accuracy: 0.6500 - 16ms/epoch - 4ms/step\n",
      "Epoch 75/150\n",
      "4/4 - 0s - loss: 0.7020 - accuracy: 0.6500 - 19ms/epoch - 5ms/step\n",
      "Epoch 76/150\n",
      "4/4 - 0s - loss: 0.6956 - accuracy: 0.6500 - 12ms/epoch - 3ms/step\n",
      "Epoch 77/150\n",
      "4/4 - 0s - loss: 0.6892 - accuracy: 0.6500 - 15ms/epoch - 4ms/step\n",
      "Epoch 78/150\n",
      "4/4 - 0s - loss: 0.6828 - accuracy: 0.6500 - 17ms/epoch - 4ms/step\n",
      "Epoch 79/150\n",
      "4/4 - 0s - loss: 0.6765 - accuracy: 0.6500 - 22ms/epoch - 6ms/step\n",
      "Epoch 80/150\n",
      "4/4 - 0s - loss: 0.6703 - accuracy: 0.6500 - 17ms/epoch - 4ms/step\n",
      "Epoch 81/150\n",
      "4/4 - 0s - loss: 0.6641 - accuracy: 0.6500 - 14ms/epoch - 3ms/step\n",
      "Epoch 82/150\n",
      "4/4 - 0s - loss: 0.6581 - accuracy: 0.6500 - 22ms/epoch - 5ms/step\n",
      "Epoch 83/150\n",
      "4/4 - 0s - loss: 0.6522 - accuracy: 0.6500 - 17ms/epoch - 4ms/step\n",
      "Epoch 84/150\n",
      "4/4 - 0s - loss: 0.6466 - accuracy: 0.6500 - 21ms/epoch - 5ms/step\n",
      "Epoch 85/150\n",
      "4/4 - 0s - loss: 0.6411 - accuracy: 0.6500 - 14ms/epoch - 3ms/step\n",
      "Epoch 86/150\n",
      "4/4 - 0s - loss: 0.6358 - accuracy: 0.6500 - 14ms/epoch - 4ms/step\n",
      "Epoch 87/150\n",
      "4/4 - 0s - loss: 0.6306 - accuracy: 0.6500 - 20ms/epoch - 5ms/step\n",
      "Epoch 88/150\n",
      "4/4 - 0s - loss: 0.6256 - accuracy: 0.6500 - 15ms/epoch - 4ms/step\n",
      "Epoch 89/150\n",
      "4/4 - 0s - loss: 0.6206 - accuracy: 0.6500 - 23ms/epoch - 6ms/step\n",
      "Epoch 90/150\n",
      "4/4 - 0s - loss: 0.6156 - accuracy: 0.6500 - 17ms/epoch - 4ms/step\n",
      "Epoch 91/150\n",
      "4/4 - 0s - loss: 0.6109 - accuracy: 0.6500 - 16ms/epoch - 4ms/step\n",
      "Epoch 92/150\n",
      "4/4 - 0s - loss: 0.6064 - accuracy: 0.6500 - 20ms/epoch - 5ms/step\n",
      "Epoch 93/150\n",
      "4/4 - 0s - loss: 0.6019 - accuracy: 0.6500 - 15ms/epoch - 4ms/step\n",
      "Epoch 94/150\n",
      "4/4 - 0s - loss: 0.5977 - accuracy: 0.6500 - 19ms/epoch - 5ms/step\n",
      "Epoch 95/150\n",
      "4/4 - 0s - loss: 0.5936 - accuracy: 0.6500 - 17ms/epoch - 4ms/step\n",
      "Epoch 96/150\n",
      "4/4 - 0s - loss: 0.5894 - accuracy: 0.6500 - 19ms/epoch - 5ms/step\n",
      "Epoch 97/150\n",
      "4/4 - 0s - loss: 0.5858 - accuracy: 0.6500 - 14ms/epoch - 3ms/step\n",
      "Epoch 98/150\n",
      "4/4 - 0s - loss: 0.5822 - accuracy: 0.6500 - 12ms/epoch - 3ms/step\n",
      "Epoch 99/150\n",
      "4/4 - 0s - loss: 0.5782 - accuracy: 0.6500 - 21ms/epoch - 5ms/step\n",
      "Epoch 100/150\n",
      "4/4 - 0s - loss: 0.5746 - accuracy: 0.6500 - 13ms/epoch - 3ms/step\n",
      "Epoch 101/150\n",
      "4/4 - 0s - loss: 0.5711 - accuracy: 0.6500 - 23ms/epoch - 6ms/step\n",
      "Epoch 102/150\n",
      "4/4 - 0s - loss: 0.5683 - accuracy: 0.6500 - 15ms/epoch - 4ms/step\n",
      "Epoch 103/150\n",
      "4/4 - 0s - loss: 0.5647 - accuracy: 0.6500 - 18ms/epoch - 5ms/step\n",
      "Epoch 104/150\n",
      "4/4 - 0s - loss: 0.5614 - accuracy: 0.6500 - 15ms/epoch - 4ms/step\n",
      "Epoch 105/150\n",
      "4/4 - 0s - loss: 0.5582 - accuracy: 0.6500 - 16ms/epoch - 4ms/step\n",
      "Epoch 106/150\n",
      "4/4 - 0s - loss: 0.5551 - accuracy: 0.6500 - 16ms/epoch - 4ms/step\n",
      "Epoch 107/150\n",
      "4/4 - 0s - loss: 0.5520 - accuracy: 0.6500 - 18ms/epoch - 4ms/step\n",
      "Epoch 108/150\n",
      "4/4 - 0s - loss: 0.5494 - accuracy: 0.6500 - 19ms/epoch - 5ms/step\n",
      "Epoch 109/150\n",
      "4/4 - 0s - loss: 0.5464 - accuracy: 0.6500 - 20ms/epoch - 5ms/step\n",
      "Epoch 110/150\n",
      "4/4 - 0s - loss: 0.5436 - accuracy: 0.6500 - 17ms/epoch - 4ms/step\n",
      "Epoch 111/150\n",
      "4/4 - 0s - loss: 0.5410 - accuracy: 0.6500 - 21ms/epoch - 5ms/step\n",
      "Epoch 112/150\n",
      "4/4 - 0s - loss: 0.5382 - accuracy: 0.6500 - 17ms/epoch - 4ms/step\n",
      "Epoch 113/150\n",
      "4/4 - 0s - loss: 0.5358 - accuracy: 0.6500 - 21ms/epoch - 5ms/step\n",
      "Epoch 114/150\n",
      "4/4 - 0s - loss: 0.5333 - accuracy: 0.6500 - 17ms/epoch - 4ms/step\n",
      "Epoch 115/150\n",
      "4/4 - 0s - loss: 0.5313 - accuracy: 0.6500 - 18ms/epoch - 4ms/step\n",
      "Epoch 116/150\n",
      "4/4 - 0s - loss: 0.5285 - accuracy: 0.6500 - 19ms/epoch - 5ms/step\n",
      "Epoch 117/150\n",
      "4/4 - 0s - loss: 0.5262 - accuracy: 0.6500 - 20ms/epoch - 5ms/step\n",
      "Epoch 118/150\n",
      "4/4 - 0s - loss: 0.5238 - accuracy: 0.6500 - 16ms/epoch - 4ms/step\n",
      "Epoch 119/150\n",
      "4/4 - 0s - loss: 0.5217 - accuracy: 0.6500 - 20ms/epoch - 5ms/step\n",
      "Epoch 120/150\n",
      "4/4 - 0s - loss: 0.5195 - accuracy: 0.6500 - 19ms/epoch - 5ms/step\n",
      "Epoch 121/150\n",
      "4/4 - 0s - loss: 0.5174 - accuracy: 0.6700 - 14ms/epoch - 4ms/step\n",
      "Epoch 122/150\n",
      "4/4 - 0s - loss: 0.5153 - accuracy: 0.6700 - 20ms/epoch - 5ms/step\n",
      "Epoch 123/150\n",
      "4/4 - 0s - loss: 0.5133 - accuracy: 0.6800 - 16ms/epoch - 4ms/step\n",
      "Epoch 124/150\n",
      "4/4 - 0s - loss: 0.5114 - accuracy: 0.6800 - 21ms/epoch - 5ms/step\n",
      "Epoch 125/150\n",
      "4/4 - 0s - loss: 0.5094 - accuracy: 0.6800 - 22ms/epoch - 6ms/step\n",
      "Epoch 126/150\n",
      "4/4 - 0s - loss: 0.5077 - accuracy: 0.6700 - 23ms/epoch - 6ms/step\n",
      "Epoch 127/150\n",
      "4/4 - 0s - loss: 0.5063 - accuracy: 0.6500 - 18ms/epoch - 4ms/step\n",
      "Epoch 128/150\n",
      "4/4 - 0s - loss: 0.5042 - accuracy: 0.6500 - 20ms/epoch - 5ms/step\n",
      "Epoch 129/150\n",
      "4/4 - 0s - loss: 0.5028 - accuracy: 0.6500 - 16ms/epoch - 4ms/step\n",
      "Epoch 130/150\n",
      "4/4 - 0s - loss: 0.5010 - accuracy: 0.6500 - 18ms/epoch - 5ms/step\n",
      "Epoch 131/150\n",
      "4/4 - 0s - loss: 0.4996 - accuracy: 0.6500 - 21ms/epoch - 5ms/step\n",
      "Epoch 132/150\n",
      "4/4 - 0s - loss: 0.4978 - accuracy: 0.6500 - 14ms/epoch - 3ms/step\n",
      "Epoch 133/150\n",
      "4/4 - 0s - loss: 0.4962 - accuracy: 0.6500 - 18ms/epoch - 4ms/step\n",
      "Epoch 134/150\n",
      "4/4 - 0s - loss: 0.4946 - accuracy: 0.6500 - 13ms/epoch - 3ms/step\n",
      "Epoch 135/150\n",
      "4/4 - 0s - loss: 0.4928 - accuracy: 0.6700 - 21ms/epoch - 5ms/step\n",
      "Epoch 136/150\n",
      "4/4 - 0s - loss: 0.4913 - accuracy: 0.6800 - 20ms/epoch - 5ms/step\n",
      "Epoch 137/150\n",
      "4/4 - 0s - loss: 0.4899 - accuracy: 0.6800 - 15ms/epoch - 4ms/step\n",
      "Epoch 138/150\n",
      "4/4 - 0s - loss: 0.4884 - accuracy: 0.6800 - 17ms/epoch - 4ms/step\n",
      "Epoch 139/150\n",
      "4/4 - 0s - loss: 0.4872 - accuracy: 0.6800 - 13ms/epoch - 3ms/step\n",
      "Epoch 140/150\n",
      "4/4 - 0s - loss: 0.4856 - accuracy: 0.6800 - 20ms/epoch - 5ms/step\n",
      "Epoch 141/150\n",
      "4/4 - 0s - loss: 0.4843 - accuracy: 0.6800 - 17ms/epoch - 4ms/step\n",
      "Epoch 142/150\n",
      "4/4 - 0s - loss: 0.4829 - accuracy: 0.6800 - 20ms/epoch - 5ms/step\n",
      "Epoch 143/150\n",
      "4/4 - 0s - loss: 0.4817 - accuracy: 0.6800 - 19ms/epoch - 5ms/step\n",
      "Epoch 144/150\n",
      "4/4 - 0s - loss: 0.4802 - accuracy: 0.6800 - 17ms/epoch - 4ms/step\n",
      "Epoch 145/150\n",
      "4/4 - 0s - loss: 0.4790 - accuracy: 0.6800 - 21ms/epoch - 5ms/step\n",
      "Epoch 146/150\n",
      "4/4 - 0s - loss: 0.4780 - accuracy: 0.6800 - 14ms/epoch - 3ms/step\n",
      "Epoch 147/150\n",
      "4/4 - 0s - loss: 0.4769 - accuracy: 0.6800 - 13ms/epoch - 3ms/step\n",
      "Epoch 148/150\n",
      "4/4 - 0s - loss: 0.4759 - accuracy: 0.6800 - 22ms/epoch - 5ms/step\n",
      "Epoch 149/150\n",
      "4/4 - 0s - loss: 0.4749 - accuracy: 0.6800 - 16ms/epoch - 4ms/step\n",
      "Epoch 150/150\n",
      "4/4 - 0s - loss: 0.4738 - accuracy: 0.6800 - 18ms/epoch - 4ms/step\n"
     ]
    },
    {
     "data": {
      "text/plain": "<keras.src.callbacks.History at 0x230fe367d60>"
     },
     "execution_count": 27,
     "metadata": {},
     "output_type": "execute_result"
    }
   ],
   "source": [
    "model.fit(scaled_X_train,y_train,epochs=150,verbose=2)"
   ],
   "metadata": {
    "collapsed": false,
    "ExecuteTime": {
     "end_time": "2024-08-12T07:39:42.408550600Z",
     "start_time": "2024-08-12T07:39:36.081591700Z"
    }
   },
   "id": "f8624df786955b27"
  },
  {
   "cell_type": "code",
   "execution_count": 29,
   "outputs": [
    {
     "name": "stdout",
     "output_type": "stream",
     "text": [
      "2/2 [==============================] - 0s 4ms/step\n"
     ]
    }
   ],
   "source": [
    "predict_y = model.predict(scaled_X_test)\n",
    "predictions = np.argmax(predict_y,axis=1)"
   ],
   "metadata": {
    "collapsed": false,
    "ExecuteTime": {
     "end_time": "2024-08-12T07:44:34.923384600Z",
     "start_time": "2024-08-12T07:44:34.665073800Z"
    }
   },
   "id": "67c3a0e2c4a6b1b6"
  },
  {
   "cell_type": "code",
   "execution_count": 30,
   "outputs": [
    {
     "data": {
      "text/plain": "array([2, 0, 2, 2, 2, 0, 2, 2, 2, 2, 2, 0, 0, 0, 0, 2, 2, 2, 2, 2, 0, 2,\n       0, 2, 2, 2, 2, 2, 0, 0, 0, 0, 2, 0, 0, 2, 2, 0, 0, 0, 2, 2, 2, 0,\n       0, 2, 2, 2, 2, 2], dtype=int64)"
     },
     "execution_count": 30,
     "metadata": {},
     "output_type": "execute_result"
    }
   ],
   "source": [
    "predictions"
   ],
   "metadata": {
    "collapsed": false,
    "ExecuteTime": {
     "end_time": "2024-08-12T07:44:40.773168800Z",
     "start_time": "2024-08-12T07:44:40.743248200Z"
    }
   },
   "id": "c4adc71a8af11e46"
  },
  {
   "cell_type": "code",
   "execution_count": 31,
   "outputs": [],
   "source": [
    "from sklearn.metrics import classification_report,accuracy_score,confusion_matrix"
   ],
   "metadata": {
    "collapsed": false,
    "ExecuteTime": {
     "end_time": "2024-08-12T07:46:26.638504400Z",
     "start_time": "2024-08-12T07:46:26.616562900Z"
    }
   },
   "id": "1f53dd66ce29e419"
  },
  {
   "cell_type": "code",
   "execution_count": 32,
   "outputs": [
    {
     "data": {
      "text/plain": "array([[19,  0,  0],\n       [ 0,  0, 15],\n       [ 0,  0, 16]], dtype=int64)"
     },
     "execution_count": 32,
     "metadata": {},
     "output_type": "execute_result"
    }
   ],
   "source": [
    "confusion_matrix(y_test.argmax(axis=1),predictions)"
   ],
   "metadata": {
    "collapsed": false,
    "ExecuteTime": {
     "end_time": "2024-08-12T07:46:58.639522100Z",
     "start_time": "2024-08-12T07:46:58.578804Z"
    }
   },
   "id": "7922eccd98bf63a5"
  },
  {
   "cell_type": "code",
   "execution_count": 33,
   "outputs": [
    {
     "name": "stdout",
     "output_type": "stream",
     "text": [
      "              precision    recall  f1-score   support\n",
      "\n",
      "           0       1.00      1.00      1.00        19\n",
      "           1       0.00      0.00      0.00        15\n",
      "           2       0.52      1.00      0.68        16\n",
      "\n",
      "    accuracy                           0.70        50\n",
      "   macro avg       0.51      0.67      0.56        50\n",
      "weighted avg       0.55      0.70      0.60        50\n"
     ]
    },
    {
     "name": "stderr",
     "output_type": "stream",
     "text": [
      "C:\\Users\\PC\\anaconda3\\lib\\site-packages\\sklearn\\metrics\\_classification.py:1318: UndefinedMetricWarning: Precision and F-score are ill-defined and being set to 0.0 in labels with no predicted samples. Use `zero_division` parameter to control this behavior.\n",
      "  _warn_prf(average, modifier, msg_start, len(result))\n",
      "C:\\Users\\PC\\anaconda3\\lib\\site-packages\\sklearn\\metrics\\_classification.py:1318: UndefinedMetricWarning: Precision and F-score are ill-defined and being set to 0.0 in labels with no predicted samples. Use `zero_division` parameter to control this behavior.\n",
      "  _warn_prf(average, modifier, msg_start, len(result))\n",
      "C:\\Users\\PC\\anaconda3\\lib\\site-packages\\sklearn\\metrics\\_classification.py:1318: UndefinedMetricWarning: Precision and F-score are ill-defined and being set to 0.0 in labels with no predicted samples. Use `zero_division` parameter to control this behavior.\n",
      "  _warn_prf(average, modifier, msg_start, len(result))\n"
     ]
    }
   ],
   "source": [
    "print(classification_report(y_test.argmax(axis=1),predictions))"
   ],
   "metadata": {
    "collapsed": false,
    "ExecuteTime": {
     "end_time": "2024-08-12T07:47:15.461769600Z",
     "start_time": "2024-08-12T07:47:15.356856400Z"
    }
   },
   "id": "6635767addd877da"
  },
  {
   "cell_type": "code",
   "execution_count": 34,
   "outputs": [
    {
     "data": {
      "text/plain": "0.7"
     },
     "execution_count": 34,
     "metadata": {},
     "output_type": "execute_result"
    }
   ],
   "source": [
    "accuracy_score(y_test.argmax(axis=1),predictions)"
   ],
   "metadata": {
    "collapsed": false,
    "ExecuteTime": {
     "end_time": "2024-08-12T07:47:37.838627Z",
     "start_time": "2024-08-12T07:47:37.750615100Z"
    }
   },
   "id": "e1ade198a82230ee"
  },
  {
   "cell_type": "code",
   "execution_count": 35,
   "outputs": [
    {
     "name": "stderr",
     "output_type": "stream",
     "text": [
      "C:\\Users\\PC\\anaconda3\\lib\\site-packages\\keras\\src\\engine\\training.py:3103: UserWarning: You are saving your model as an HDF5 file via `model.save()`. This file format is considered legacy. We recommend using instead the native Keras format, e.g. `model.save('my_model.keras')`.\n",
      "  saving_api.save_model(\n"
     ]
    }
   ],
   "source": [
    "model.save('myfirstmodel.h5')"
   ],
   "metadata": {
    "collapsed": false,
    "ExecuteTime": {
     "end_time": "2024-08-12T07:48:15.868479200Z",
     "start_time": "2024-08-12T07:48:15.786616500Z"
    }
   },
   "id": "9f0205edb3d6577f"
  },
  {
   "cell_type": "code",
   "execution_count": 36,
   "outputs": [],
   "source": [
    "from keras.models import load_model"
   ],
   "metadata": {
    "collapsed": false,
    "ExecuteTime": {
     "end_time": "2024-08-12T07:48:31.717949700Z",
     "start_time": "2024-08-12T07:48:31.664549400Z"
    }
   },
   "id": "b4362ef7f1e9e37d"
  },
  {
   "cell_type": "code",
   "execution_count": 37,
   "outputs": [],
   "source": [
    "new_model = load_model('myfirstmodel.h5')"
   ],
   "metadata": {
    "collapsed": false,
    "ExecuteTime": {
     "end_time": "2024-08-12T07:48:52.415988800Z",
     "start_time": "2024-08-12T07:48:52.220732700Z"
    }
   },
   "id": "31f8c78c5132e5b5"
  }
 ],
 "metadata": {
  "kernelspec": {
   "display_name": "Python 3",
   "language": "python",
   "name": "python3"
  },
  "language_info": {
   "codemirror_mode": {
    "name": "ipython",
    "version": 2
   },
   "file_extension": ".py",
   "mimetype": "text/x-python",
   "name": "python",
   "nbconvert_exporter": "python",
   "pygments_lexer": "ipython2",
   "version": "2.7.6"
  }
 },
 "nbformat": 4,
 "nbformat_minor": 5
}
