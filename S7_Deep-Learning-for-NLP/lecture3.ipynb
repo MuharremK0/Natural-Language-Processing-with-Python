{
 "cells": [
  {
   "cell_type": "code",
   "execution_count": 130,
   "id": "initial_id",
   "metadata": {
    "collapsed": true,
    "ExecuteTime": {
     "end_time": "2024-08-13T14:00:19.368049600Z",
     "start_time": "2024-08-13T14:00:17.979298200Z"
    }
   },
   "outputs": [],
   "source": [
    "import pickle\n",
    "import numpy as np"
   ]
  },
  {
   "cell_type": "code",
   "execution_count": 131,
   "outputs": [],
   "source": [
    "with open('train_qa.txt','rb') as f:\n",
    "    train_data = pickle.load(f)"
   ],
   "metadata": {
    "collapsed": false,
    "ExecuteTime": {
     "end_time": "2024-08-13T14:00:19.368049600Z",
     "start_time": "2024-08-13T14:00:17.989274900Z"
    }
   },
   "id": "4119794a522541db"
  },
  {
   "cell_type": "code",
   "execution_count": 132,
   "outputs": [],
   "source": [
    "with open('test_qa.txt','rb') as f:\n",
    "    test_data = pickle.load(f)"
   ],
   "metadata": {
    "collapsed": false,
    "ExecuteTime": {
     "end_time": "2024-08-13T14:00:19.369041400Z",
     "start_time": "2024-08-13T14:00:18.065081100Z"
    }
   },
   "id": "93f56fa8767a90b2"
  },
  {
   "cell_type": "code",
   "execution_count": 133,
   "outputs": [
    {
     "data": {
      "text/plain": "list"
     },
     "execution_count": 133,
     "metadata": {},
     "output_type": "execute_result"
    }
   ],
   "source": [
    "type(test_data)"
   ],
   "metadata": {
    "collapsed": false,
    "ExecuteTime": {
     "end_time": "2024-08-13T14:00:19.369041400Z",
     "start_time": "2024-08-13T14:00:18.082026Z"
    }
   },
   "id": "e3347afb2977cd73"
  },
  {
   "cell_type": "code",
   "execution_count": 134,
   "outputs": [
    {
     "data": {
      "text/plain": "list"
     },
     "execution_count": 134,
     "metadata": {},
     "output_type": "execute_result"
    }
   ],
   "source": [
    "type(train_data)"
   ],
   "metadata": {
    "collapsed": false,
    "ExecuteTime": {
     "end_time": "2024-08-13T14:00:19.369041400Z",
     "start_time": "2024-08-13T14:00:18.098978500Z"
    }
   },
   "id": "1aeab7283f93e796"
  },
  {
   "cell_type": "code",
   "execution_count": 135,
   "outputs": [
    {
     "data": {
      "text/plain": "10000"
     },
     "execution_count": 135,
     "metadata": {},
     "output_type": "execute_result"
    }
   ],
   "source": [
    "len(train_data)"
   ],
   "metadata": {
    "collapsed": false,
    "ExecuteTime": {
     "end_time": "2024-08-13T14:00:19.370038200Z",
     "start_time": "2024-08-13T14:00:18.110948200Z"
    }
   },
   "id": "60f3ca92e3f08fbf"
  },
  {
   "cell_type": "code",
   "execution_count": 136,
   "outputs": [
    {
     "data": {
      "text/plain": "1000"
     },
     "execution_count": 136,
     "metadata": {},
     "output_type": "execute_result"
    }
   ],
   "source": [
    "len(test_data)"
   ],
   "metadata": {
    "collapsed": false,
    "ExecuteTime": {
     "end_time": "2024-08-13T14:00:19.370038200Z",
     "start_time": "2024-08-13T14:00:18.128898200Z"
    }
   },
   "id": "9e41146449a030c3"
  },
  {
   "cell_type": "code",
   "execution_count": 137,
   "outputs": [
    {
     "data": {
      "text/plain": "(['Mary',\n  'moved',\n  'to',\n  'the',\n  'bathroom',\n  '.',\n  'Sandra',\n  'journeyed',\n  'to',\n  'the',\n  'bedroom',\n  '.'],\n ['Is', 'Sandra', 'in', 'the', 'hallway', '?'],\n 'no')"
     },
     "execution_count": 137,
     "metadata": {},
     "output_type": "execute_result"
    }
   ],
   "source": [
    "train_data[0]"
   ],
   "metadata": {
    "collapsed": false,
    "ExecuteTime": {
     "end_time": "2024-08-13T14:00:19.370038200Z",
     "start_time": "2024-08-13T14:00:18.144857400Z"
    }
   },
   "id": "1bc7e600f915af89"
  },
  {
   "cell_type": "code",
   "execution_count": 138,
   "outputs": [
    {
     "data": {
      "text/plain": "'Mary moved to the bathroom . Sandra journeyed to the bedroom .'"
     },
     "execution_count": 138,
     "metadata": {},
     "output_type": "execute_result"
    }
   ],
   "source": [
    "' '.join(train_data[0][0])"
   ],
   "metadata": {
    "collapsed": false,
    "ExecuteTime": {
     "end_time": "2024-08-13T14:00:19.370038200Z",
     "start_time": "2024-08-13T14:00:18.160814200Z"
    }
   },
   "id": "47ceca15ba93c955"
  },
  {
   "cell_type": "code",
   "execution_count": 139,
   "outputs": [
    {
     "data": {
      "text/plain": "'Is Sandra in the hallway ?'"
     },
     "execution_count": 139,
     "metadata": {},
     "output_type": "execute_result"
    }
   ],
   "source": [
    "' '.join(train_data[0][1])"
   ],
   "metadata": {
    "collapsed": false,
    "ExecuteTime": {
     "end_time": "2024-08-13T14:00:19.371037600Z",
     "start_time": "2024-08-13T14:00:18.176772800Z"
    }
   },
   "id": "15d2580ad83ebdee"
  },
  {
   "cell_type": "code",
   "execution_count": 140,
   "outputs": [
    {
     "data": {
      "text/plain": "'no'"
     },
     "execution_count": 140,
     "metadata": {},
     "output_type": "execute_result"
    }
   ],
   "source": [
    "train_data[0][2]"
   ],
   "metadata": {
    "collapsed": false,
    "ExecuteTime": {
     "end_time": "2024-08-13T14:00:19.372033300Z",
     "start_time": "2024-08-13T14:00:18.193727100Z"
    }
   },
   "id": "c136c9ce7a9a2b37"
  },
  {
   "cell_type": "code",
   "execution_count": 141,
   "outputs": [],
   "source": [
    "all_data = test_data + train_data"
   ],
   "metadata": {
    "collapsed": false,
    "ExecuteTime": {
     "end_time": "2024-08-13T14:00:19.372033300Z",
     "start_time": "2024-08-13T14:00:18.208686500Z"
    }
   },
   "id": "d8f08195cbb1444e"
  },
  {
   "cell_type": "code",
   "execution_count": 142,
   "outputs": [
    {
     "data": {
      "text/plain": "11000"
     },
     "execution_count": 142,
     "metadata": {},
     "output_type": "execute_result"
    }
   ],
   "source": [
    "len(all_data)"
   ],
   "metadata": {
    "collapsed": false,
    "ExecuteTime": {
     "end_time": "2024-08-13T14:00:19.372998200Z",
     "start_time": "2024-08-13T14:00:18.224642800Z"
    }
   },
   "id": "fa4fe71d348be42f"
  },
  {
   "cell_type": "code",
   "execution_count": 143,
   "outputs": [
    {
     "data": {
      "text/plain": "{'.',\n 'Mary',\n 'Sandra',\n 'bathroom',\n 'bedroom',\n 'journeyed',\n 'moved',\n 'the',\n 'to'}"
     },
     "execution_count": 143,
     "metadata": {},
     "output_type": "execute_result"
    }
   ],
   "source": [
    "set(train_data[0][0])"
   ],
   "metadata": {
    "collapsed": false,
    "ExecuteTime": {
     "end_time": "2024-08-13T14:00:19.372998200Z",
     "start_time": "2024-08-13T14:00:18.242596500Z"
    }
   },
   "id": "c63fedac996cb4d8"
  },
  {
   "cell_type": "code",
   "execution_count": 144,
   "outputs": [],
   "source": [
    "vocab = set()\n",
    "\n",
    "for story,question,answer in all_data:\n",
    "    vocab = vocab.union(set(story))\n",
    "    vocab = vocab.union(set(question))"
   ],
   "metadata": {
    "collapsed": false,
    "ExecuteTime": {
     "end_time": "2024-08-13T14:00:19.372998200Z",
     "start_time": "2024-08-13T14:00:18.255595300Z"
    }
   },
   "id": "3fab458e5254677e"
  },
  {
   "cell_type": "code",
   "execution_count": 145,
   "outputs": [],
   "source": [
    "vocab.add('no')"
   ],
   "metadata": {
    "collapsed": false,
    "ExecuteTime": {
     "end_time": "2024-08-13T14:00:19.374013100Z",
     "start_time": "2024-08-13T14:00:18.333351300Z"
    }
   },
   "id": "c38d56c4e9445f26"
  },
  {
   "cell_type": "code",
   "execution_count": 146,
   "outputs": [],
   "source": [
    "vocab.add('yes')"
   ],
   "metadata": {
    "collapsed": false,
    "ExecuteTime": {
     "end_time": "2024-08-13T14:00:19.374013100Z",
     "start_time": "2024-08-13T14:00:18.349312900Z"
    }
   },
   "id": "651de3efbec48713"
  },
  {
   "cell_type": "code",
   "execution_count": 147,
   "outputs": [
    {
     "data": {
      "text/plain": "{'.',\n '?',\n 'Daniel',\n 'Is',\n 'John',\n 'Mary',\n 'Sandra',\n 'apple',\n 'back',\n 'bathroom',\n 'bedroom',\n 'discarded',\n 'down',\n 'dropped',\n 'football',\n 'garden',\n 'got',\n 'grabbed',\n 'hallway',\n 'in',\n 'journeyed',\n 'kitchen',\n 'left',\n 'milk',\n 'moved',\n 'no',\n 'office',\n 'picked',\n 'put',\n 'the',\n 'there',\n 'to',\n 'took',\n 'travelled',\n 'up',\n 'went',\n 'yes'}"
     },
     "execution_count": 147,
     "metadata": {},
     "output_type": "execute_result"
    }
   ],
   "source": [
    "vocab"
   ],
   "metadata": {
    "collapsed": false,
    "ExecuteTime": {
     "end_time": "2024-08-13T14:00:19.374995900Z",
     "start_time": "2024-08-13T14:00:18.367262900Z"
    }
   },
   "id": "794cbb8aa8143b16"
  },
  {
   "cell_type": "code",
   "execution_count": 148,
   "outputs": [],
   "source": [
    "vocab_len = len(vocab) + 1"
   ],
   "metadata": {
    "collapsed": false,
    "ExecuteTime": {
     "end_time": "2024-08-13T14:00:19.374995900Z",
     "start_time": "2024-08-13T14:00:18.382223400Z"
    }
   },
   "id": "32b84b20b8a5abf9"
  },
  {
   "cell_type": "code",
   "execution_count": 149,
   "outputs": [
    {
     "data": {
      "text/plain": "38"
     },
     "execution_count": 149,
     "metadata": {},
     "output_type": "execute_result"
    }
   ],
   "source": [
    "vocab_len"
   ],
   "metadata": {
    "collapsed": false,
    "ExecuteTime": {
     "end_time": "2024-08-13T14:00:19.374995900Z",
     "start_time": "2024-08-13T14:00:18.399266300Z"
    }
   },
   "id": "4d86816a102843e6"
  },
  {
   "cell_type": "code",
   "execution_count": 150,
   "outputs": [],
   "source": [
    "# LONGEST STORY\n",
    "all_stroy_lens = [len(data[0]) for data in all_data]"
   ],
   "metadata": {
    "collapsed": false,
    "ExecuteTime": {
     "end_time": "2024-08-13T14:00:19.374995900Z",
     "start_time": "2024-08-13T14:00:18.419214100Z"
    }
   },
   "id": "29b507b646a78b61"
  },
  {
   "cell_type": "code",
   "execution_count": 151,
   "outputs": [],
   "source": [
    "max_story_len = max(all_stroy_lens)"
   ],
   "metadata": {
    "collapsed": false,
    "ExecuteTime": {
     "end_time": "2024-08-13T14:00:19.374995900Z",
     "start_time": "2024-08-13T14:00:18.430184Z"
    }
   },
   "id": "bdf43abd1894adc5"
  },
  {
   "cell_type": "code",
   "execution_count": 152,
   "outputs": [],
   "source": [
    "max_question_len = max([len(data[1]) for data in all_data])"
   ],
   "metadata": {
    "collapsed": false,
    "ExecuteTime": {
     "end_time": "2024-08-13T14:00:19.375993200Z",
     "start_time": "2024-08-13T14:00:18.451130100Z"
    }
   },
   "id": "9c74b06e05aa1abf"
  },
  {
   "cell_type": "code",
   "execution_count": 153,
   "outputs": [
    {
     "data": {
      "text/plain": "6"
     },
     "execution_count": 153,
     "metadata": {},
     "output_type": "execute_result"
    }
   ],
   "source": [
    "max_question_len"
   ],
   "metadata": {
    "collapsed": false,
    "ExecuteTime": {
     "end_time": "2024-08-13T14:00:19.375993200Z",
     "start_time": "2024-08-13T14:00:18.463095600Z"
    }
   },
   "id": "b4cc48c950ea3eb0"
  },
  {
   "cell_type": "code",
   "execution_count": 154,
   "outputs": [],
   "source": [
    "from keras.preprocessing.sequence import pad_sequences\n",
    "from keras.preprocessing.text import Tokenizer"
   ],
   "metadata": {
    "collapsed": false,
    "ExecuteTime": {
     "end_time": "2024-08-13T14:00:19.375993200Z",
     "start_time": "2024-08-13T14:00:18.477060600Z"
    }
   },
   "id": "a251ec3c49e26355"
  },
  {
   "cell_type": "code",
   "execution_count": 155,
   "outputs": [],
   "source": [
    "tokenizer = Tokenizer(filters=[])\n",
    "tokenizer.fit_on_texts(vocab)"
   ],
   "metadata": {
    "collapsed": false,
    "ExecuteTime": {
     "end_time": "2024-08-13T14:00:19.376990800Z",
     "start_time": "2024-08-13T14:00:18.494013Z"
    }
   },
   "id": "27402c7958c464fa"
  },
  {
   "cell_type": "code",
   "execution_count": 156,
   "outputs": [
    {
     "data": {
      "text/plain": "{'picked': 1,\n 'moved': 2,\n 'kitchen': 3,\n 'left': 4,\n 'john': 5,\n 'travelled': 6,\n 'up': 7,\n 'yes': 8,\n 'no': 9,\n 'in': 10,\n '.': 11,\n 'mary': 12,\n 'the': 13,\n 'down': 14,\n 'grabbed': 15,\n 'dropped': 16,\n 'bathroom': 17,\n 'is': 18,\n 'journeyed': 19,\n 'went': 20,\n 'office': 21,\n 'sandra': 22,\n '?': 23,\n 'put': 24,\n 'daniel': 25,\n 'garden': 26,\n 'back': 27,\n 'milk': 28,\n 'took': 29,\n 'there': 30,\n 'apple': 31,\n 'got': 32,\n 'football': 33,\n 'hallway': 34,\n 'discarded': 35,\n 'bedroom': 36,\n 'to': 37}"
     },
     "execution_count": 156,
     "metadata": {},
     "output_type": "execute_result"
    }
   ],
   "source": [
    "tokenizer.word_index"
   ],
   "metadata": {
    "collapsed": false,
    "ExecuteTime": {
     "end_time": "2024-08-13T14:00:19.376990800Z",
     "start_time": "2024-08-13T14:00:18.511965400Z"
    }
   },
   "id": "60a33310a7548862"
  },
  {
   "cell_type": "code",
   "execution_count": 157,
   "outputs": [],
   "source": [
    "train_story_text = []\n",
    "train_question_text = []\n",
    "train_answers = []"
   ],
   "metadata": {
    "collapsed": false,
    "ExecuteTime": {
     "end_time": "2024-08-13T14:00:19.376990800Z",
     "start_time": "2024-08-13T14:00:18.532098800Z"
    }
   },
   "id": "d318dc893a10886c"
  },
  {
   "cell_type": "code",
   "execution_count": 158,
   "outputs": [],
   "source": [
    "for story,question,answer in train_data:\n",
    "    train_story_text.append(story)\n",
    "    train_question_text.append(question)\n",
    "    train_answers.append(answer)"
   ],
   "metadata": {
    "collapsed": false,
    "ExecuteTime": {
     "end_time": "2024-08-13T14:00:19.376990800Z",
     "start_time": "2024-08-13T14:00:18.540078400Z"
    }
   },
   "id": "c6d17b734b3cbbef"
  },
  {
   "cell_type": "code",
   "execution_count": 159,
   "outputs": [],
   "source": [
    "# train_story_text"
   ],
   "metadata": {
    "collapsed": false,
    "ExecuteTime": {
     "end_time": "2024-08-13T14:00:19.377987600Z",
     "start_time": "2024-08-13T14:00:18.556143300Z"
    }
   },
   "id": "af5d3f3ee9150ec8"
  },
  {
   "cell_type": "code",
   "execution_count": 160,
   "outputs": [],
   "source": [
    "train_story_seq = tokenizer.texts_to_sequences(train_story_text)"
   ],
   "metadata": {
    "collapsed": false,
    "ExecuteTime": {
     "end_time": "2024-08-13T14:00:19.378984900Z",
     "start_time": "2024-08-13T14:00:18.570106800Z"
    }
   },
   "id": "99ed10396a096d42"
  },
  {
   "cell_type": "code",
   "execution_count": 161,
   "outputs": [
    {
     "data": {
      "text/plain": "10000"
     },
     "execution_count": 161,
     "metadata": {},
     "output_type": "execute_result"
    }
   ],
   "source": [
    "len(train_story_seq)"
   ],
   "metadata": {
    "collapsed": false,
    "ExecuteTime": {
     "end_time": "2024-08-13T14:00:19.378984900Z",
     "start_time": "2024-08-13T14:00:19.099730700Z"
    }
   },
   "id": "9208a2815c158f1a"
  },
  {
   "cell_type": "code",
   "execution_count": 162,
   "outputs": [
    {
     "data": {
      "text/plain": "10000"
     },
     "execution_count": 162,
     "metadata": {},
     "output_type": "execute_result"
    }
   ],
   "source": [
    "len(train_story_text)"
   ],
   "metadata": {
    "collapsed": false,
    "ExecuteTime": {
     "end_time": "2024-08-13T14:00:19.379981900Z",
     "start_time": "2024-08-13T14:00:19.125661200Z"
    }
   },
   "id": "c283f3810dabfcfa"
  },
  {
   "cell_type": "code",
   "execution_count": 163,
   "outputs": [],
   "source": [
    "def vectorize_stories(data,word_index=tokenizer.word_index,max_story_len=max_story_len,max_question_len=max_question_len):\n",
    "    \n",
    "    # STORIES = X\n",
    "    X = []\n",
    "    # QUESTIONS Xq\n",
    "    Xq = []\n",
    "    # Y CORRECT ANSWER (yes/no)\n",
    "    Y = []\n",
    "    \n",
    "    for story,query,answer in data:\n",
    "        \n",
    "        # for each story [23,14,...]\n",
    "        x = [word_index[word.lower()] for word in story]\n",
    "        xq = [word_index[word.lower()] for word in query]\n",
    "        \n",
    "        y = np.zeros(len(word_index)+1)\n",
    "        \n",
    "        y[word_index[answer]] = 1\n",
    "        \n",
    "        X.append(x)\n",
    "        Xq.append(xq)\n",
    "        Y.append(y)\n",
    "    \n",
    "    return (pad_sequences(X,maxlen=max_story_len),pad_sequences(Xq,maxlen=max_question_len),np.array(Y))"
   ],
   "metadata": {
    "collapsed": false,
    "ExecuteTime": {
     "end_time": "2024-08-13T14:00:19.379981900Z",
     "start_time": "2024-08-13T14:00:19.142617600Z"
    }
   },
   "id": "3847b2a30cca23a5"
  },
  {
   "cell_type": "code",
   "execution_count": 164,
   "outputs": [],
   "source": [
    "inputs_train,queries_train,answers_train = vectorize_stories(train_data)"
   ],
   "metadata": {
    "collapsed": false,
    "ExecuteTime": {
     "end_time": "2024-08-13T14:00:19.575761300Z",
     "start_time": "2024-08-13T14:00:19.263290900Z"
    }
   },
   "id": "301cdc7923927356"
  },
  {
   "cell_type": "code",
   "execution_count": 165,
   "outputs": [],
   "source": [
    "inputs_test,queries_test,answers_test = vectorize_stories(test_data)"
   ],
   "metadata": {
    "collapsed": false,
    "ExecuteTime": {
     "end_time": "2024-08-13T14:00:20.031573500Z",
     "start_time": "2024-08-13T14:00:19.377987600Z"
    }
   },
   "id": "15e9e0751a271bf1"
  },
  {
   "cell_type": "code",
   "execution_count": 166,
   "outputs": [
    {
     "data": {
      "text/plain": "array([[ 0,  0,  0, ..., 13, 36, 11],\n       [ 0,  0,  0, ..., 13, 26, 11],\n       [ 0,  0,  0, ..., 13, 26, 11],\n       ...,\n       [ 0,  0,  0, ..., 13, 31, 11],\n       [ 0,  0,  0, ..., 13, 26, 11],\n       [ 0,  0,  0, ..., 31, 30, 11]])"
     },
     "execution_count": 166,
     "metadata": {},
     "output_type": "execute_result"
    }
   ],
   "source": [
    "inputs_test"
   ],
   "metadata": {
    "collapsed": false,
    "ExecuteTime": {
     "end_time": "2024-08-13T14:00:20.032570500Z",
     "start_time": "2024-08-13T14:00:19.410171900Z"
    }
   },
   "id": "a6902affd48386d9"
  },
  {
   "cell_type": "code",
   "execution_count": 167,
   "outputs": [
    {
     "data": {
      "text/plain": "array([[0., 0., 0., ..., 0., 0., 0.],\n       [0., 0., 0., ..., 0., 0., 0.],\n       [0., 0., 0., ..., 0., 0., 0.],\n       ...,\n       [0., 0., 0., ..., 0., 0., 0.],\n       [0., 0., 0., ..., 0., 0., 0.],\n       [0., 0., 0., ..., 0., 0., 0.]])"
     },
     "execution_count": 167,
     "metadata": {},
     "output_type": "execute_result"
    }
   ],
   "source": [
    "answers_test"
   ],
   "metadata": {
    "collapsed": false,
    "ExecuteTime": {
     "end_time": "2024-08-13T14:00:20.032570500Z",
     "start_time": "2024-08-13T14:00:19.423137Z"
    }
   },
   "id": "b51eb027bff447ea"
  },
  {
   "cell_type": "code",
   "execution_count": 168,
   "outputs": [
    {
     "data": {
      "text/plain": "8"
     },
     "execution_count": 168,
     "metadata": {},
     "output_type": "execute_result"
    }
   ],
   "source": [
    "tokenizer.word_index['yes']"
   ],
   "metadata": {
    "collapsed": false,
    "ExecuteTime": {
     "end_time": "2024-08-13T14:00:20.033567600Z",
     "start_time": "2024-08-13T14:00:19.440091900Z"
    }
   },
   "id": "8062803c5a4378b9"
  },
  {
   "cell_type": "code",
   "execution_count": 169,
   "outputs": [
    {
     "data": {
      "text/plain": "9"
     },
     "execution_count": 169,
     "metadata": {},
     "output_type": "execute_result"
    }
   ],
   "source": [
    "tokenizer.word_index['no']"
   ],
   "metadata": {
    "collapsed": false,
    "ExecuteTime": {
     "end_time": "2024-08-13T14:00:20.033567600Z",
     "start_time": "2024-08-13T14:00:19.459040800Z"
    }
   },
   "id": "b9b7363fc6c417b6"
  },
  {
   "cell_type": "code",
   "execution_count": 170,
   "outputs": [
    {
     "data": {
      "text/plain": "array([  0.,   0.,   0.,   0.,   0.,   0.,   0.,   0., 497., 503.,   0.,\n         0.,   0.,   0.,   0.,   0.,   0.,   0.,   0.,   0.,   0.,   0.,\n         0.,   0.,   0.,   0.,   0.,   0.,   0.,   0.,   0.,   0.,   0.,\n         0.,   0.,   0.,   0.,   0.])"
     },
     "execution_count": 170,
     "metadata": {},
     "output_type": "execute_result"
    }
   ],
   "source": [
    "sum(answers_test)"
   ],
   "metadata": {
    "collapsed": false,
    "ExecuteTime": {
     "end_time": "2024-08-13T14:00:20.034565700Z",
     "start_time": "2024-08-13T14:00:19.479017500Z"
    }
   },
   "id": "4adafa84ae3a1faa"
  },
  {
   "cell_type": "code",
   "execution_count": 171,
   "outputs": [],
   "source": [
    "from keras.models import Sequential,Model"
   ],
   "metadata": {
    "collapsed": false,
    "ExecuteTime": {
     "end_time": "2024-08-13T14:00:20.034565700Z",
     "start_time": "2024-08-13T14:00:19.504927200Z"
    }
   },
   "id": "dc7ae2f83446e113"
  },
  {
   "cell_type": "code",
   "execution_count": 172,
   "outputs": [],
   "source": [
    "from keras.layers import Embedding"
   ],
   "metadata": {
    "collapsed": false,
    "ExecuteTime": {
     "end_time": "2024-08-13T14:00:20.034565700Z",
     "start_time": "2024-08-13T14:00:19.519878300Z"
    }
   },
   "id": "f50b65159b4288d"
  },
  {
   "cell_type": "code",
   "execution_count": 173,
   "outputs": [],
   "source": [
    "from keras.layers import Input,Activation,Dense,Permute,Dropout,add,dot,concatenate,LSTM"
   ],
   "metadata": {
    "collapsed": false,
    "ExecuteTime": {
     "end_time": "2024-08-13T14:00:20.034565700Z",
     "start_time": "2024-08-13T14:00:19.535838Z"
    }
   },
   "id": "a9ef878b2e2062c8"
  },
  {
   "cell_type": "code",
   "execution_count": 174,
   "outputs": [],
   "source": [
    "# PLACEHOLDER shape=(max_story_len,batch_size)\n",
    "input_sequence = Input((max_story_len,))\n",
    "question = Input((max_question_len,))"
   ],
   "metadata": {
    "collapsed": false,
    "ExecuteTime": {
     "end_time": "2024-08-13T14:00:20.034565700Z",
     "start_time": "2024-08-13T14:00:19.549800700Z"
    }
   },
   "id": "db053ffb04f9798c"
  },
  {
   "cell_type": "code",
   "execution_count": 175,
   "outputs": [],
   "source": [
    "# vocab_len\n",
    "vocab_size = len(vocab) + 1"
   ],
   "metadata": {
    "collapsed": false,
    "ExecuteTime": {
     "end_time": "2024-08-13T14:00:20.097415Z",
     "start_time": "2024-08-13T14:00:19.567783700Z"
    }
   },
   "id": "85495124fa220bc2"
  },
  {
   "cell_type": "code",
   "execution_count": 176,
   "outputs": [],
   "source": [
    "# INPUT ENCODER M\n",
    "input_encoder_m = Sequential()\n",
    "input_encoder_m.add(Embedding(input_dim=vocab_size,output_dim=64))\n",
    "input_encoder_m.add(Dropout(0.3))\n",
    "\n",
    "# OUTPUT\n",
    "# (samples,story_maxLen,embedding_dim)"
   ],
   "metadata": {
    "collapsed": false,
    "ExecuteTime": {
     "end_time": "2024-08-13T14:00:20.097415Z",
     "start_time": "2024-08-13T14:00:19.585702800Z"
    }
   },
   "id": "7abcafdae7872d2d"
  },
  {
   "cell_type": "code",
   "execution_count": 177,
   "outputs": [],
   "source": [
    "# INPUT ENCODER C\n",
    "input_encoder_c = Sequential()\n",
    "input_encoder_c.add(Embedding(input_dim=vocab_size,output_dim=max_question_len))\n",
    "input_encoder_c.add(Dropout(0.3))\n",
    "\n",
    "# OUTPUT\n",
    "# (samples,story_maxLen,max_question_Len)"
   ],
   "metadata": {
    "collapsed": false,
    "ExecuteTime": {
     "end_time": "2024-08-13T14:00:20.098397800Z",
     "start_time": "2024-08-13T14:00:19.614660300Z"
    }
   },
   "id": "15d957910f117bb9"
  },
  {
   "cell_type": "code",
   "execution_count": 178,
   "outputs": [],
   "source": [
    "question_encoder = Sequential()\n",
    "question_encoder.add(Embedding(input_dim=vocab_size,output_dim=64,input_length=max_question_len))\n",
    "question_encoder.add(Dropout(0.3))\n",
    "\n",
    "# (samples,query_maxLen,embedding_dim)"
   ],
   "metadata": {
    "collapsed": false,
    "ExecuteTime": {
     "end_time": "2024-08-13T14:00:20.098397800Z",
     "start_time": "2024-08-13T14:00:19.651527800Z"
    }
   },
   "id": "2cbcca8e30c78b3f"
  },
  {
   "cell_type": "code",
   "execution_count": 179,
   "outputs": [],
   "source": [
    "# ENCODED <--- ENCODER(INPUT)\n",
    "input_encoded_m = input_encoder_m(input_sequence)\n",
    "input_encoded_c = input_encoder_c(input_sequence)\n",
    "question_encoded = question_encoder(question)"
   ],
   "metadata": {
    "collapsed": false,
    "ExecuteTime": {
     "end_time": "2024-08-13T14:00:20.100389600Z",
     "start_time": "2024-08-13T14:00:19.690422300Z"
    }
   },
   "id": "d1fb6ef753405998"
  },
  {
   "cell_type": "code",
   "execution_count": 180,
   "outputs": [],
   "source": [
    "match = dot([input_encoded_m,question_encoded],axes=(2,2))\n",
    "match = Activation('softmax')(match)"
   ],
   "metadata": {
    "collapsed": false,
    "ExecuteTime": {
     "end_time": "2024-08-13T14:00:20.100389600Z",
     "start_time": "2024-08-13T14:00:19.728320500Z"
    }
   },
   "id": "dc9fde76887217f6"
  },
  {
   "cell_type": "code",
   "execution_count": 181,
   "outputs": [],
   "source": [
    "response = add([match,input_encoded_c])\n",
    "response = Permute((2,1))(response)"
   ],
   "metadata": {
    "collapsed": false,
    "ExecuteTime": {
     "end_time": "2024-08-13T14:00:20.121335100Z",
     "start_time": "2024-08-13T14:00:19.759241400Z"
    }
   },
   "id": "1a88460536116481"
  },
  {
   "cell_type": "code",
   "execution_count": 182,
   "outputs": [],
   "source": [
    "answer = concatenate([response,question_encoded])"
   ],
   "metadata": {
    "collapsed": false,
    "ExecuteTime": {
     "end_time": "2024-08-13T14:00:20.122333600Z",
     "start_time": "2024-08-13T14:00:19.787164200Z"
    }
   },
   "id": "a9378df5163b26"
  },
  {
   "cell_type": "code",
   "execution_count": 183,
   "outputs": [
    {
     "data": {
      "text/plain": "<KerasTensor: shape=(None, 6, 220) dtype=float32 (created by layer 'concatenate_2')>"
     },
     "execution_count": 183,
     "metadata": {},
     "output_type": "execute_result"
    }
   ],
   "source": [
    "answer"
   ],
   "metadata": {
    "collapsed": false,
    "ExecuteTime": {
     "end_time": "2024-08-13T14:00:20.123330Z",
     "start_time": "2024-08-13T14:00:19.802155500Z"
    }
   },
   "id": "c2b8699254a1101b"
  },
  {
   "cell_type": "code",
   "execution_count": 184,
   "outputs": [],
   "source": [
    "answer = LSTM(32)(answer)"
   ],
   "metadata": {
    "collapsed": false,
    "ExecuteTime": {
     "end_time": "2024-08-13T14:00:20.505305800Z",
     "start_time": "2024-08-13T14:00:19.820104900Z"
    }
   },
   "id": "6b04302f6ac4b466"
  },
  {
   "cell_type": "code",
   "execution_count": 185,
   "outputs": [],
   "source": [
    "answer = Dropout(0.5)(answer)\n",
    "answer = Dense(vocab_size)(answer) # (samples,vocab_size) # YES/ NO 0000"
   ],
   "metadata": {
    "collapsed": false,
    "ExecuteTime": {
     "end_time": "2024-08-13T14:00:20.505305800Z",
     "start_time": "2024-08-13T14:00:20.157238300Z"
    }
   },
   "id": "c64de48b495aa120"
  },
  {
   "cell_type": "code",
   "execution_count": 186,
   "outputs": [],
   "source": [
    "answer = Activation('softmax')(answer)"
   ],
   "metadata": {
    "collapsed": false,
    "ExecuteTime": {
     "end_time": "2024-08-13T14:00:20.505305800Z",
     "start_time": "2024-08-13T14:00:20.197130200Z"
    }
   },
   "id": "c8c15e6480191f63"
  },
  {
   "cell_type": "code",
   "execution_count": 187,
   "outputs": [],
   "source": [
    "model = Model([input_sequence,question],answer)"
   ],
   "metadata": {
    "collapsed": false,
    "ExecuteTime": {
     "end_time": "2024-08-13T14:00:20.505305800Z",
     "start_time": "2024-08-13T14:00:20.216082500Z"
    }
   },
   "id": "793cd3c91bb6ba96"
  },
  {
   "cell_type": "code",
   "execution_count": 188,
   "outputs": [],
   "source": [
    "model.compile(optimizer='rmsprop',loss='categorical_crossentropy',metrics=['accuracy'])"
   ],
   "metadata": {
    "collapsed": false,
    "ExecuteTime": {
     "end_time": "2024-08-13T14:00:20.505305800Z",
     "start_time": "2024-08-13T14:00:20.230042300Z"
    }
   },
   "id": "cb0679d9ca6ff000"
  },
  {
   "cell_type": "code",
   "execution_count": 189,
   "outputs": [
    {
     "name": "stdout",
     "output_type": "stream",
     "text": [
      "Model: \"model_2\"\n",
      "__________________________________________________________________________________________________\n",
      " Layer (type)                Output Shape                 Param #   Connected to                  \n",
      "==================================================================================================\n",
      " input_5 (InputLayer)        [(None, 156)]                0         []                            \n",
      "                                                                                                  \n",
      " input_6 (InputLayer)        [(None, 6)]                  0         []                            \n",
      "                                                                                                  \n",
      " sequential_7 (Sequential)   (None, None, 64)             2432      ['input_5[0][0]']             \n",
      "                                                                                                  \n",
      " sequential_9 (Sequential)   (None, 6, 64)                2432      ['input_6[0][0]']             \n",
      "                                                                                                  \n",
      " dot_2 (Dot)                 (None, 156, 6)               0         ['sequential_7[0][0]',        \n",
      "                                                                     'sequential_9[0][0]']        \n",
      "                                                                                                  \n",
      " activation_4 (Activation)   (None, 156, 6)               0         ['dot_2[0][0]']               \n",
      "                                                                                                  \n",
      " sequential_8 (Sequential)   (None, None, 6)              228       ['input_5[0][0]']             \n",
      "                                                                                                  \n",
      " add_2 (Add)                 (None, 156, 6)               0         ['activation_4[0][0]',        \n",
      "                                                                     'sequential_8[0][0]']        \n",
      "                                                                                                  \n",
      " permute_2 (Permute)         (None, 6, 156)               0         ['add_2[0][0]']               \n",
      "                                                                                                  \n",
      " concatenate_2 (Concatenate  (None, 6, 220)               0         ['permute_2[0][0]',           \n",
      " )                                                                   'sequential_9[0][0]']        \n",
      "                                                                                                  \n",
      " lstm_2 (LSTM)               (None, 32)                   32384     ['concatenate_2[0][0]']       \n",
      "                                                                                                  \n",
      " dropout_12 (Dropout)        (None, 32)                   0         ['lstm_2[0][0]']              \n",
      "                                                                                                  \n",
      " dense_2 (Dense)             (None, 38)                   1254      ['dropout_12[0][0]']          \n",
      "                                                                                                  \n",
      " activation_5 (Activation)   (None, 38)                   0         ['dense_2[0][0]']             \n",
      "                                                                                                  \n",
      "==================================================================================================\n",
      "Total params: 38730 (151.29 KB)\n",
      "Trainable params: 38730 (151.29 KB)\n",
      "Non-trainable params: 0 (0.00 Byte)\n",
      "__________________________________________________________________________________________________\n"
     ]
    }
   ],
   "source": [
    "model.summary()"
   ],
   "metadata": {
    "collapsed": false,
    "ExecuteTime": {
     "end_time": "2024-08-13T14:00:20.523258800Z",
     "start_time": "2024-08-13T14:00:20.245004200Z"
    }
   },
   "id": "218f885687c3785d"
  },
  {
   "cell_type": "code",
   "execution_count": 190,
   "outputs": [
    {
     "name": "stdout",
     "output_type": "stream",
     "text": [
      "Epoch 1/100\n",
      "313/313 [==============================] - 7s 13ms/step - loss: 0.8826 - accuracy: 0.4973 - val_loss: 0.6952 - val_accuracy: 0.5030\n",
      "Epoch 2/100\n",
      "313/313 [==============================] - 4s 12ms/step - loss: 0.7070 - accuracy: 0.5027 - val_loss: 0.6952 - val_accuracy: 0.5030\n",
      "Epoch 3/100\n",
      "313/313 [==============================] - 3s 11ms/step - loss: 0.6988 - accuracy: 0.4973 - val_loss: 0.6939 - val_accuracy: 0.4970\n",
      "Epoch 4/100\n",
      "313/313 [==============================] - 4s 12ms/step - loss: 0.6971 - accuracy: 0.4963 - val_loss: 0.6934 - val_accuracy: 0.4970\n",
      "Epoch 5/100\n",
      "313/313 [==============================] - 4s 11ms/step - loss: 0.6957 - accuracy: 0.5048 - val_loss: 0.6937 - val_accuracy: 0.5030\n",
      "Epoch 6/100\n",
      "313/313 [==============================] - 3s 11ms/step - loss: 0.6955 - accuracy: 0.4972 - val_loss: 0.6932 - val_accuracy: 0.5030\n",
      "Epoch 7/100\n",
      "313/313 [==============================] - 3s 11ms/step - loss: 0.6957 - accuracy: 0.4976 - val_loss: 0.6933 - val_accuracy: 0.5030\n",
      "Epoch 8/100\n",
      "313/313 [==============================] - 3s 11ms/step - loss: 0.6959 - accuracy: 0.4996 - val_loss: 0.6931 - val_accuracy: 0.5030\n",
      "Epoch 9/100\n",
      "313/313 [==============================] - 4s 11ms/step - loss: 0.6955 - accuracy: 0.4974 - val_loss: 0.6943 - val_accuracy: 0.5030\n",
      "Epoch 10/100\n",
      "313/313 [==============================] - 3s 11ms/step - loss: 0.6955 - accuracy: 0.4946 - val_loss: 0.6935 - val_accuracy: 0.4970\n",
      "Epoch 11/100\n",
      "313/313 [==============================] - 4s 11ms/step - loss: 0.6953 - accuracy: 0.4955 - val_loss: 0.6937 - val_accuracy: 0.5030\n",
      "Epoch 12/100\n",
      "313/313 [==============================] - 3s 11ms/step - loss: 0.6937 - accuracy: 0.5078 - val_loss: 0.6967 - val_accuracy: 0.4970\n",
      "Epoch 13/100\n",
      "313/313 [==============================] - 4s 12ms/step - loss: 0.6949 - accuracy: 0.5064 - val_loss: 0.6936 - val_accuracy: 0.4970\n",
      "Epoch 14/100\n",
      "313/313 [==============================] - 3s 11ms/step - loss: 0.6951 - accuracy: 0.4975 - val_loss: 0.6931 - val_accuracy: 0.5030\n",
      "Epoch 15/100\n",
      "313/313 [==============================] - 3s 11ms/step - loss: 0.6952 - accuracy: 0.4970 - val_loss: 0.6947 - val_accuracy: 0.4970\n",
      "Epoch 16/100\n",
      "313/313 [==============================] - 3s 11ms/step - loss: 0.6953 - accuracy: 0.4957 - val_loss: 0.6949 - val_accuracy: 0.4970\n",
      "Epoch 17/100\n",
      "313/313 [==============================] - 3s 11ms/step - loss: 0.6948 - accuracy: 0.5037 - val_loss: 0.6937 - val_accuracy: 0.5030\n",
      "Epoch 18/100\n",
      "313/313 [==============================] - 3s 11ms/step - loss: 0.6952 - accuracy: 0.4924 - val_loss: 0.6934 - val_accuracy: 0.5030\n",
      "Epoch 19/100\n",
      "313/313 [==============================] - 4s 11ms/step - loss: 0.6955 - accuracy: 0.4909 - val_loss: 0.6942 - val_accuracy: 0.4970\n",
      "Epoch 20/100\n",
      "313/313 [==============================] - 3s 11ms/step - loss: 0.6950 - accuracy: 0.4969 - val_loss: 0.6937 - val_accuracy: 0.4970\n",
      "Epoch 21/100\n",
      "313/313 [==============================] - 4s 12ms/step - loss: 0.6948 - accuracy: 0.4995 - val_loss: 0.6932 - val_accuracy: 0.5030\n",
      "Epoch 22/100\n",
      "313/313 [==============================] - 4s 11ms/step - loss: 0.6956 - accuracy: 0.4930 - val_loss: 0.6960 - val_accuracy: 0.4970\n",
      "Epoch 23/100\n",
      "313/313 [==============================] - 3s 11ms/step - loss: 0.6949 - accuracy: 0.5035 - val_loss: 0.6931 - val_accuracy: 0.5030\n",
      "Epoch 24/100\n",
      "313/313 [==============================] - 4s 11ms/step - loss: 0.6950 - accuracy: 0.4920 - val_loss: 0.6973 - val_accuracy: 0.4970\n",
      "Epoch 25/100\n",
      "313/313 [==============================] - 4s 11ms/step - loss: 0.6950 - accuracy: 0.4977 - val_loss: 0.6970 - val_accuracy: 0.4970\n",
      "Epoch 26/100\n",
      "313/313 [==============================] - 4s 11ms/step - loss: 0.6949 - accuracy: 0.5016 - val_loss: 0.6951 - val_accuracy: 0.4970\n",
      "Epoch 27/100\n",
      "313/313 [==============================] - 3s 11ms/step - loss: 0.6949 - accuracy: 0.4989 - val_loss: 0.6935 - val_accuracy: 0.4970\n",
      "Epoch 28/100\n",
      "313/313 [==============================] - 4s 11ms/step - loss: 0.6945 - accuracy: 0.5057 - val_loss: 0.6965 - val_accuracy: 0.4970\n",
      "Epoch 29/100\n",
      "313/313 [==============================] - 3s 11ms/step - loss: 0.6951 - accuracy: 0.5025 - val_loss: 0.6932 - val_accuracy: 0.5030\n",
      "Epoch 30/100\n",
      "313/313 [==============================] - 4s 11ms/step - loss: 0.6943 - accuracy: 0.5060 - val_loss: 0.6940 - val_accuracy: 0.4970\n",
      "Epoch 31/100\n",
      "313/313 [==============================] - 3s 11ms/step - loss: 0.6952 - accuracy: 0.4965 - val_loss: 0.6931 - val_accuracy: 0.5030\n",
      "Epoch 32/100\n",
      "313/313 [==============================] - 3s 11ms/step - loss: 0.6944 - accuracy: 0.5047 - val_loss: 0.6932 - val_accuracy: 0.5030\n",
      "Epoch 33/100\n",
      "313/313 [==============================] - 4s 11ms/step - loss: 0.6947 - accuracy: 0.5049 - val_loss: 0.6961 - val_accuracy: 0.4970\n",
      "Epoch 34/100\n",
      "313/313 [==============================] - 3s 11ms/step - loss: 0.6952 - accuracy: 0.4946 - val_loss: 0.6932 - val_accuracy: 0.4970\n",
      "Epoch 35/100\n",
      "313/313 [==============================] - 3s 11ms/step - loss: 0.6947 - accuracy: 0.5040 - val_loss: 0.6932 - val_accuracy: 0.4970\n",
      "Epoch 36/100\n",
      "313/313 [==============================] - 4s 11ms/step - loss: 0.6948 - accuracy: 0.4982 - val_loss: 0.6932 - val_accuracy: 0.5030\n",
      "Epoch 37/100\n",
      "313/313 [==============================] - 3s 11ms/step - loss: 0.6941 - accuracy: 0.5132 - val_loss: 0.6952 - val_accuracy: 0.4970\n",
      "Epoch 38/100\n",
      "313/313 [==============================] - 4s 11ms/step - loss: 0.6949 - accuracy: 0.5010 - val_loss: 0.6947 - val_accuracy: 0.4970\n",
      "Epoch 39/100\n",
      "313/313 [==============================] - 3s 11ms/step - loss: 0.6941 - accuracy: 0.5008 - val_loss: 0.6934 - val_accuracy: 0.5030\n",
      "Epoch 40/100\n",
      "313/313 [==============================] - 3s 11ms/step - loss: 0.6949 - accuracy: 0.5010 - val_loss: 0.6935 - val_accuracy: 0.4970\n",
      "Epoch 41/100\n",
      "313/313 [==============================] - 3s 11ms/step - loss: 0.6946 - accuracy: 0.5067 - val_loss: 0.6932 - val_accuracy: 0.4970\n",
      "Epoch 42/100\n",
      "313/313 [==============================] - 3s 11ms/step - loss: 0.6948 - accuracy: 0.5057 - val_loss: 0.6932 - val_accuracy: 0.4970\n",
      "Epoch 43/100\n",
      "313/313 [==============================] - 3s 11ms/step - loss: 0.6939 - accuracy: 0.5025 - val_loss: 0.6955 - val_accuracy: 0.5030\n",
      "Epoch 44/100\n",
      "313/313 [==============================] - 3s 11ms/step - loss: 0.6952 - accuracy: 0.4939 - val_loss: 0.6944 - val_accuracy: 0.4970\n",
      "Epoch 45/100\n",
      "313/313 [==============================] - 3s 11ms/step - loss: 0.6951 - accuracy: 0.4913 - val_loss: 0.6932 - val_accuracy: 0.5030\n",
      "Epoch 46/100\n",
      "313/313 [==============================] - 3s 11ms/step - loss: 0.6945 - accuracy: 0.4934 - val_loss: 0.6936 - val_accuracy: 0.5030\n",
      "Epoch 47/100\n",
      "313/313 [==============================] - 3s 11ms/step - loss: 0.6950 - accuracy: 0.4997 - val_loss: 0.6932 - val_accuracy: 0.5030\n",
      "Epoch 48/100\n",
      "313/313 [==============================] - 3s 11ms/step - loss: 0.6948 - accuracy: 0.4970 - val_loss: 0.6938 - val_accuracy: 0.5030\n",
      "Epoch 49/100\n",
      "313/313 [==============================] - 4s 12ms/step - loss: 0.6951 - accuracy: 0.4922 - val_loss: 0.6933 - val_accuracy: 0.4970\n",
      "Epoch 50/100\n",
      "313/313 [==============================] - 4s 11ms/step - loss: 0.6948 - accuracy: 0.4957 - val_loss: 0.6934 - val_accuracy: 0.5030\n",
      "Epoch 51/100\n",
      "313/313 [==============================] - 3s 11ms/step - loss: 0.6948 - accuracy: 0.4943 - val_loss: 0.6936 - val_accuracy: 0.5030\n",
      "Epoch 52/100\n",
      "313/313 [==============================] - 4s 11ms/step - loss: 0.6947 - accuracy: 0.4932 - val_loss: 0.6939 - val_accuracy: 0.5030\n",
      "Epoch 53/100\n",
      "313/313 [==============================] - 3s 11ms/step - loss: 0.6948 - accuracy: 0.5000 - val_loss: 0.6933 - val_accuracy: 0.4830\n",
      "Epoch 54/100\n",
      "313/313 [==============================] - 3s 11ms/step - loss: 0.6945 - accuracy: 0.5030 - val_loss: 0.6956 - val_accuracy: 0.4970\n",
      "Epoch 55/100\n",
      "313/313 [==============================] - 3s 11ms/step - loss: 0.6945 - accuracy: 0.5056 - val_loss: 0.6958 - val_accuracy: 0.4970\n",
      "Epoch 56/100\n",
      "313/313 [==============================] - 3s 11ms/step - loss: 0.6945 - accuracy: 0.4986 - val_loss: 0.6932 - val_accuracy: 0.4850\n",
      "Epoch 57/100\n",
      "313/313 [==============================] - 3s 11ms/step - loss: 0.6943 - accuracy: 0.5047 - val_loss: 0.6930 - val_accuracy: 0.4950\n",
      "Epoch 58/100\n",
      "313/313 [==============================] - 3s 11ms/step - loss: 0.6932 - accuracy: 0.5059 - val_loss: 0.6949 - val_accuracy: 0.5000\n",
      "Epoch 59/100\n",
      "313/313 [==============================] - 3s 11ms/step - loss: 0.6922 - accuracy: 0.5162 - val_loss: 0.6924 - val_accuracy: 0.4970\n",
      "Epoch 60/100\n",
      "313/313 [==============================] - 3s 11ms/step - loss: 0.6904 - accuracy: 0.5180 - val_loss: 0.6903 - val_accuracy: 0.5320\n",
      "Epoch 61/100\n",
      "313/313 [==============================] - 3s 11ms/step - loss: 0.6874 - accuracy: 0.5297 - val_loss: 0.6839 - val_accuracy: 0.5590\n",
      "Epoch 62/100\n",
      "313/313 [==============================] - 4s 11ms/step - loss: 0.6795 - accuracy: 0.5596 - val_loss: 0.6753 - val_accuracy: 0.5660\n",
      "Epoch 63/100\n",
      "313/313 [==============================] - 4s 11ms/step - loss: 0.6686 - accuracy: 0.5928 - val_loss: 0.6493 - val_accuracy: 0.6230\n",
      "Epoch 64/100\n",
      "313/313 [==============================] - 4s 12ms/step - loss: 0.6573 - accuracy: 0.6192 - val_loss: 0.6552 - val_accuracy: 0.6110\n",
      "Epoch 65/100\n",
      "313/313 [==============================] - 3s 11ms/step - loss: 0.6483 - accuracy: 0.6292 - val_loss: 0.6253 - val_accuracy: 0.6620\n",
      "Epoch 66/100\n",
      "313/313 [==============================] - 3s 11ms/step - loss: 0.6352 - accuracy: 0.6413 - val_loss: 0.6225 - val_accuracy: 0.6610\n",
      "Epoch 67/100\n",
      "313/313 [==============================] - 3s 11ms/step - loss: 0.6291 - accuracy: 0.6521 - val_loss: 0.6147 - val_accuracy: 0.6650\n",
      "Epoch 68/100\n",
      "313/313 [==============================] - 3s 11ms/step - loss: 0.6252 - accuracy: 0.6598 - val_loss: 0.6109 - val_accuracy: 0.6640\n",
      "Epoch 69/100\n",
      "313/313 [==============================] - 3s 11ms/step - loss: 0.6149 - accuracy: 0.6623 - val_loss: 0.5969 - val_accuracy: 0.6720\n",
      "Epoch 70/100\n",
      "313/313 [==============================] - 3s 11ms/step - loss: 0.6092 - accuracy: 0.6722 - val_loss: 0.5986 - val_accuracy: 0.6800\n",
      "Epoch 71/100\n",
      "313/313 [==============================] - 3s 11ms/step - loss: 0.5995 - accuracy: 0.6793 - val_loss: 0.5803 - val_accuracy: 0.6960\n",
      "Epoch 72/100\n",
      "313/313 [==============================] - 3s 11ms/step - loss: 0.5847 - accuracy: 0.6954 - val_loss: 0.5756 - val_accuracy: 0.6940\n",
      "Epoch 73/100\n",
      "313/313 [==============================] - 3s 11ms/step - loss: 0.5815 - accuracy: 0.6934 - val_loss: 0.5798 - val_accuracy: 0.6790\n",
      "Epoch 74/100\n",
      "313/313 [==============================] - 3s 11ms/step - loss: 0.5728 - accuracy: 0.7010 - val_loss: 0.5554 - val_accuracy: 0.7060\n",
      "Epoch 75/100\n",
      "313/313 [==============================] - 3s 11ms/step - loss: 0.5681 - accuracy: 0.7028 - val_loss: 0.5568 - val_accuracy: 0.7060\n",
      "Epoch 76/100\n",
      "313/313 [==============================] - 3s 11ms/step - loss: 0.5630 - accuracy: 0.7078 - val_loss: 0.5556 - val_accuracy: 0.7100\n",
      "Epoch 77/100\n",
      "313/313 [==============================] - 3s 11ms/step - loss: 0.5566 - accuracy: 0.7168 - val_loss: 0.5564 - val_accuracy: 0.6940\n",
      "Epoch 78/100\n",
      "313/313 [==============================] - 3s 11ms/step - loss: 0.5517 - accuracy: 0.7123 - val_loss: 0.5562 - val_accuracy: 0.7040\n",
      "Epoch 79/100\n",
      "313/313 [==============================] - 3s 11ms/step - loss: 0.5508 - accuracy: 0.7147 - val_loss: 0.5590 - val_accuracy: 0.6930\n",
      "Epoch 80/100\n",
      "313/313 [==============================] - 3s 11ms/step - loss: 0.5435 - accuracy: 0.7215 - val_loss: 0.5448 - val_accuracy: 0.7130\n",
      "Epoch 81/100\n",
      "313/313 [==============================] - 3s 10ms/step - loss: 0.5419 - accuracy: 0.7239 - val_loss: 0.5415 - val_accuracy: 0.7210\n",
      "Epoch 82/100\n",
      "313/313 [==============================] - 3s 11ms/step - loss: 0.5377 - accuracy: 0.7252 - val_loss: 0.5454 - val_accuracy: 0.7210\n",
      "Epoch 83/100\n",
      "313/313 [==============================] - 3s 11ms/step - loss: 0.5361 - accuracy: 0.7227 - val_loss: 0.5420 - val_accuracy: 0.7110\n",
      "Epoch 84/100\n",
      "313/313 [==============================] - 3s 11ms/step - loss: 0.5268 - accuracy: 0.7307 - val_loss: 0.5355 - val_accuracy: 0.7320\n",
      "Epoch 85/100\n",
      "313/313 [==============================] - 3s 11ms/step - loss: 0.5196 - accuracy: 0.7321 - val_loss: 0.5235 - val_accuracy: 0.7280\n",
      "Epoch 86/100\n",
      "313/313 [==============================] - 3s 11ms/step - loss: 0.5133 - accuracy: 0.7451 - val_loss: 0.5112 - val_accuracy: 0.7280\n",
      "Epoch 87/100\n",
      "313/313 [==============================] - 3s 11ms/step - loss: 0.5135 - accuracy: 0.7411 - val_loss: 0.5138 - val_accuracy: 0.7320\n",
      "Epoch 88/100\n",
      "313/313 [==============================] - 3s 11ms/step - loss: 0.5072 - accuracy: 0.7526 - val_loss: 0.5123 - val_accuracy: 0.7440\n",
      "Epoch 89/100\n",
      "313/313 [==============================] - 3s 11ms/step - loss: 0.4972 - accuracy: 0.7633 - val_loss: 0.4939 - val_accuracy: 0.7510\n",
      "Epoch 90/100\n",
      "313/313 [==============================] - 3s 11ms/step - loss: 0.4914 - accuracy: 0.7587 - val_loss: 0.4860 - val_accuracy: 0.7610\n",
      "Epoch 91/100\n",
      "313/313 [==============================] - 3s 11ms/step - loss: 0.4827 - accuracy: 0.7705 - val_loss: 0.4767 - val_accuracy: 0.7770\n",
      "Epoch 92/100\n",
      "313/313 [==============================] - 3s 11ms/step - loss: 0.4656 - accuracy: 0.7829 - val_loss: 0.4793 - val_accuracy: 0.7860\n",
      "Epoch 93/100\n",
      "313/313 [==============================] - 4s 11ms/step - loss: 0.4678 - accuracy: 0.7832 - val_loss: 0.4671 - val_accuracy: 0.7720\n",
      "Epoch 94/100\n",
      "313/313 [==============================] - 4s 11ms/step - loss: 0.4600 - accuracy: 0.7836 - val_loss: 0.4430 - val_accuracy: 0.7960\n",
      "Epoch 95/100\n",
      "313/313 [==============================] - 3s 11ms/step - loss: 0.4553 - accuracy: 0.7924 - val_loss: 0.4451 - val_accuracy: 0.7980\n",
      "Epoch 96/100\n",
      "313/313 [==============================] - 3s 11ms/step - loss: 0.4374 - accuracy: 0.8090 - val_loss: 0.4475 - val_accuracy: 0.7990\n",
      "Epoch 97/100\n",
      "313/313 [==============================] - 3s 11ms/step - loss: 0.4331 - accuracy: 0.8058 - val_loss: 0.4135 - val_accuracy: 0.8140\n",
      "Epoch 98/100\n",
      "313/313 [==============================] - 3s 11ms/step - loss: 0.4348 - accuracy: 0.8135 - val_loss: 0.4145 - val_accuracy: 0.8140\n",
      "Epoch 99/100\n",
      "313/313 [==============================] - 3s 10ms/step - loss: 0.4208 - accuracy: 0.8134 - val_loss: 0.4209 - val_accuracy: 0.8110\n",
      "Epoch 100/100\n",
      "313/313 [==============================] - 3s 11ms/step - loss: 0.4124 - accuracy: 0.8232 - val_loss: 0.4091 - val_accuracy: 0.8190\n"
     ]
    }
   ],
   "source": [
    "history = model.fit([inputs_train,queries_train],answers_train,batch_size=32,epochs=100,validation_data=([inputs_test,queries_test],answers_test))"
   ],
   "metadata": {
    "collapsed": false,
    "ExecuteTime": {
     "end_time": "2024-08-13T14:06:08.531849700Z",
     "start_time": "2024-08-13T14:00:20.308833200Z"
    }
   },
   "id": "88e5765cac8617f3"
  },
  {
   "cell_type": "code",
   "execution_count": 192,
   "outputs": [
    {
     "name": "stdout",
     "output_type": "stream",
     "text": [
      "dict_keys(['loss', 'accuracy', 'val_loss', 'val_accuracy'])\n"
     ]
    },
    {
     "data": {
      "text/plain": "<Figure size 640x480 with 1 Axes>",
      "image/png": "[encoded data removed]"
     },
     "metadata": {},
     "output_type": "display_data"
    }
   ],
   "source": [
    "import matplotlib.pyplot as plt\n",
    "%matplotlib inline\n",
    "print(history.history.keys())\n",
    "# summarize history for accuracy\n",
    "plt.plot(history.history['accuracy'])\n",
    "plt.plot(history.history['val_accuracy'])\n",
    "plt.title('model accuracy')\n",
    "plt.ylabel('accuracy')\n",
    "plt.xlabel('epoch')\n",
    "plt.legend(['train','test'],loc='upper left')\n",
    "plt.show()"
   ],
   "metadata": {
    "collapsed": false,
    "ExecuteTime": {
     "end_time": "2024-08-13T14:12:07.934438200Z",
     "start_time": "2024-08-13T14:12:07.696937500Z"
    }
   },
   "id": "1dd7e7344478d9c4"
  },
  {
   "cell_type": "code",
   "execution_count": 193,
   "outputs": [
    {
     "name": "stderr",
     "output_type": "stream",
     "text": [
      "C:\\Users\\PC\\anaconda3\\lib\\site-packages\\keras\\src\\engine\\training.py:3103: UserWarning: You are saving your model as an HDF5 file via `model.save()`. This file format is considered legacy. We recommend using instead the native Keras format, e.g. `model.save('my_model.keras')`.\n",
      "  saving_api.save_model(\n"
     ]
    }
   ],
   "source": [
    "model.save('mybrandnewmodel.h5')"
   ],
   "metadata": {
    "collapsed": false,
    "ExecuteTime": {
     "end_time": "2024-08-13T14:13:04.122800Z",
     "start_time": "2024-08-13T14:13:03.769869500Z"
    }
   },
   "id": "d003da2f818c5533"
  },
  {
   "cell_type": "code",
   "execution_count": 194,
   "outputs": [
    {
     "name": "stdout",
     "output_type": "stream",
     "text": [
      "32/32 [==============================] - 1s 4ms/step\n"
     ]
    }
   ],
   "source": [
    "pred_results = model.predict(([inputs_test,queries_test]))"
   ],
   "metadata": {
    "collapsed": false,
    "ExecuteTime": {
     "end_time": "2024-08-13T14:15:02.118972100Z",
     "start_time": "2024-08-13T14:15:00.802405Z"
    }
   },
   "id": "1cb4a06f5d56a992"
  },
  {
   "cell_type": "code",
   "execution_count": 196,
   "outputs": [
    {
     "data": {
      "text/plain": "['Mary',\n 'got',\n 'the',\n 'milk',\n 'there',\n '.',\n 'John',\n 'moved',\n 'to',\n 'the',\n 'bedroom',\n '.']"
     },
     "execution_count": 196,
     "metadata": {},
     "output_type": "execute_result"
    }
   ],
   "source": [
    "test_data[0][0]"
   ],
   "metadata": {
    "collapsed": false,
    "ExecuteTime": {
     "end_time": "2024-08-13T14:15:34.721098100Z",
     "start_time": "2024-08-13T14:15:34.670447700Z"
    }
   },
   "id": "1a3e0da1689a4c1a"
  },
  {
   "cell_type": "code",
   "execution_count": 200,
   "outputs": [
    {
     "data": {
      "text/plain": "['Is', 'John', 'in', 'the', 'kitchen', '?']"
     },
     "execution_count": 200,
     "metadata": {},
     "output_type": "execute_result"
    }
   ],
   "source": [
    "test_data[0][1]"
   ],
   "metadata": {
    "collapsed": false,
    "ExecuteTime": {
     "end_time": "2024-08-13T14:17:09.212807900Z",
     "start_time": "2024-08-13T14:17:09.117844100Z"
    }
   },
   "id": "6d904496c56a63cf"
  },
  {
   "cell_type": "code",
   "execution_count": 201,
   "outputs": [
    {
     "data": {
      "text/plain": "'no'"
     },
     "execution_count": 201,
     "metadata": {},
     "output_type": "execute_result"
    }
   ],
   "source": [
    "test_data[0][2]"
   ],
   "metadata": {
    "collapsed": false,
    "ExecuteTime": {
     "end_time": "2024-08-13T14:17:13.638832100Z",
     "start_time": "2024-08-13T14:17:13.527122400Z"
    }
   },
   "id": "5036cd73da58aa51"
  },
  {
   "cell_type": "code",
   "execution_count": 197,
   "outputs": [
    {
     "data": {
      "text/plain": "array([[5.59161492e-07, 5.73011505e-07, 5.25936230e-07, ...,\n        6.15252475e-07, 6.09021299e-07, 5.77581716e-07],\n       [2.45614956e-07, 2.90022655e-07, 2.67388316e-07, ...,\n        3.30578132e-07, 2.78515216e-07, 2.93948290e-07],\n       [2.87809296e-08, 2.66381228e-08, 2.94232390e-08, ...,\n        2.96783416e-08, 3.43171429e-08, 3.32155423e-08],\n       ...,\n       [2.06570076e-06, 1.85314866e-06, 1.85860699e-06, ...,\n        1.82518909e-06, 1.80717086e-06, 1.97151894e-06],\n       [1.97935819e-08, 1.65115246e-08, 1.92147755e-08, ...,\n        1.88036360e-08, 2.27909212e-08, 2.01673149e-08],\n       [9.85203386e-08, 8.59700791e-08, 9.83018538e-08, ...,\n        8.82996787e-08, 1.19342388e-07, 1.01507055e-07]], dtype=float32)"
     },
     "execution_count": 197,
     "metadata": {},
     "output_type": "execute_result"
    }
   ],
   "source": [
    "pred_results"
   ],
   "metadata": {
    "collapsed": false,
    "ExecuteTime": {
     "end_time": "2024-08-13T14:15:41.671216300Z",
     "start_time": "2024-08-13T14:15:41.595730600Z"
    }
   },
   "id": "16efe985b3022b2a"
  },
  {
   "cell_type": "code",
   "execution_count": 198,
   "outputs": [
    {
     "data": {
      "text/plain": "(1000, 38)"
     },
     "execution_count": 198,
     "metadata": {},
     "output_type": "execute_result"
    }
   ],
   "source": [
    "pred_results.shape"
   ],
   "metadata": {
    "collapsed": false,
    "ExecuteTime": {
     "end_time": "2024-08-13T14:15:56.502391600Z",
     "start_time": "2024-08-13T14:15:56.348218600Z"
    }
   },
   "id": "d0a78d5d2c2452f8"
  },
  {
   "cell_type": "code",
   "execution_count": 199,
   "outputs": [
    {
     "data": {
      "text/plain": "array([5.5916149e-07, 5.7301150e-07, 5.2593623e-07, 5.7900127e-07,\n       4.6452584e-07, 6.2501397e-07, 5.8381966e-07, 4.9468616e-07,\n       1.6013059e-01, 8.3984852e-01, 5.0299030e-07, 6.3289190e-07,\n       5.3946519e-07, 6.7405301e-07, 5.8141268e-07, 5.4978210e-07,\n       6.2918235e-07, 5.8915214e-07, 5.6384266e-07, 5.8792523e-07,\n       5.7852219e-07, 5.5247000e-07, 6.6496989e-07, 5.2786180e-07,\n       5.8907011e-07, 5.4766798e-07, 6.2981752e-07, 6.3475119e-07,\n       5.2489406e-07, 5.5839513e-07, 6.4945812e-07, 6.2553158e-07,\n       5.8909825e-07, 5.7180068e-07, 5.7819784e-07, 6.1525247e-07,\n       6.0902130e-07, 5.7758172e-07], dtype=float32)"
     },
     "execution_count": 199,
     "metadata": {},
     "output_type": "execute_result"
    }
   ],
   "source": [
    "pred_results[0]"
   ],
   "metadata": {
    "collapsed": false,
    "ExecuteTime": {
     "end_time": "2024-08-13T14:16:23.851812200Z",
     "start_time": "2024-08-13T14:16:23.753089200Z"
    }
   },
   "id": "4bb36b9113a56045"
  },
  {
   "cell_type": "code",
   "execution_count": 202,
   "outputs": [],
   "source": [
    "val_max = np.argmax(pred_results[0])"
   ],
   "metadata": {
    "collapsed": false,
    "ExecuteTime": {
     "end_time": "2024-08-13T14:17:57.725893600Z",
     "start_time": "2024-08-13T14:17:57.440245300Z"
    }
   },
   "id": "871ed2d1a02e0d10"
  },
  {
   "cell_type": "code",
   "execution_count": 203,
   "outputs": [],
   "source": [
    "for key,val in tokenizer.word_index.items():\n",
    "    if val == val_max:\n",
    "        k = key"
   ],
   "metadata": {
    "collapsed": false,
    "ExecuteTime": {
     "end_time": "2024-08-13T14:18:53.008404600Z",
     "start_time": "2024-08-13T14:18:52.928445800Z"
    }
   },
   "id": "941597fee91bdd0e"
  },
  {
   "cell_type": "code",
   "execution_count": 204,
   "outputs": [
    {
     "data": {
      "text/plain": "'no'"
     },
     "execution_count": 204,
     "metadata": {},
     "output_type": "execute_result"
    }
   ],
   "source": [
    "k"
   ],
   "metadata": {
    "collapsed": false,
    "ExecuteTime": {
     "end_time": "2024-08-13T14:18:58.827737Z",
     "start_time": "2024-08-13T14:18:58.678672Z"
    }
   },
   "id": "f90da4fdc5b7c915"
  },
  {
   "cell_type": "code",
   "execution_count": 205,
   "outputs": [
    {
     "data": {
      "text/plain": "0.8398485"
     },
     "execution_count": 205,
     "metadata": {},
     "output_type": "execute_result"
    }
   ],
   "source": [
    "pred_results[0][val_max]"
   ],
   "metadata": {
    "collapsed": false,
    "ExecuteTime": {
     "end_time": "2024-08-13T14:20:30.269530Z",
     "start_time": "2024-08-13T14:20:30.140041100Z"
    }
   },
   "id": "ff3f4dc239a3e3b8"
  },
  {
   "cell_type": "code",
   "execution_count": 206,
   "outputs": [
    {
     "data": {
      "text/plain": "{'.',\n '?',\n 'Daniel',\n 'Is',\n 'John',\n 'Mary',\n 'Sandra',\n 'apple',\n 'back',\n 'bathroom',\n 'bedroom',\n 'discarded',\n 'down',\n 'dropped',\n 'football',\n 'garden',\n 'got',\n 'grabbed',\n 'hallway',\n 'in',\n 'journeyed',\n 'kitchen',\n 'left',\n 'milk',\n 'moved',\n 'no',\n 'office',\n 'picked',\n 'put',\n 'the',\n 'there',\n 'to',\n 'took',\n 'travelled',\n 'up',\n 'went',\n 'yes'}"
     },
     "execution_count": 206,
     "metadata": {},
     "output_type": "execute_result"
    }
   ],
   "source": [
    "vocab"
   ],
   "metadata": {
    "collapsed": false,
    "ExecuteTime": {
     "end_time": "2024-08-13T14:20:52.287813400Z",
     "start_time": "2024-08-13T14:20:52.112526200Z"
    }
   },
   "id": "946676a1846dd2ba"
  },
  {
   "cell_type": "code",
   "execution_count": 207,
   "outputs": [],
   "source": [
    "my_story = \"John left the kitchen . Sandra dropped the football in the garden .\""
   ],
   "metadata": {
    "collapsed": false,
    "ExecuteTime": {
     "end_time": "2024-08-13T14:24:46.582048700Z",
     "start_time": "2024-08-13T14:24:46.508242400Z"
    }
   },
   "id": "fba50b8b7266f262"
  },
  {
   "cell_type": "code",
   "execution_count": 208,
   "outputs": [
    {
     "data": {
      "text/plain": "['John',\n 'left',\n 'the',\n 'kitchen',\n '.',\n 'Sandra',\n 'dropped',\n 'the',\n 'football',\n 'in',\n 'the',\n 'garden',\n '.']"
     },
     "execution_count": 208,
     "metadata": {},
     "output_type": "execute_result"
    }
   ],
   "source": [
    "my_story.split()"
   ],
   "metadata": {
    "collapsed": false,
    "ExecuteTime": {
     "end_time": "2024-08-13T14:24:59.795484200Z",
     "start_time": "2024-08-13T14:24:59.625475900Z"
    }
   },
   "id": "55227b81fe76f124"
  },
  {
   "cell_type": "code",
   "execution_count": 209,
   "outputs": [],
   "source": [
    "my_question = \"Is the football in the garden ?\""
   ],
   "metadata": {
    "collapsed": false,
    "ExecuteTime": {
     "end_time": "2024-08-13T14:25:50.842642Z",
     "start_time": "2024-08-13T14:25:50.763849Z"
    }
   },
   "id": "4a7d39d6de623b4d"
  },
  {
   "cell_type": "code",
   "execution_count": 210,
   "outputs": [
    {
     "data": {
      "text/plain": "['Is', 'the', 'football', 'in', 'the', 'garden', '?']"
     },
     "execution_count": 210,
     "metadata": {},
     "output_type": "execute_result"
    }
   ],
   "source": [
    "my_question.split()"
   ],
   "metadata": {
    "collapsed": false,
    "ExecuteTime": {
     "end_time": "2024-08-13T14:26:18.815157200Z",
     "start_time": "2024-08-13T14:26:18.600767800Z"
    }
   },
   "id": "e2a440a53342ea0c"
  },
  {
   "cell_type": "code",
   "execution_count": 211,
   "outputs": [],
   "source": [
    "mydata = [(my_story.split(),my_question.split(),'yes')]"
   ],
   "metadata": {
    "collapsed": false,
    "ExecuteTime": {
     "end_time": "2024-08-13T14:27:24.279664500Z",
     "start_time": "2024-08-13T14:27:24.184921Z"
    }
   },
   "id": "3e2c217706f45754"
  },
  {
   "cell_type": "code",
   "execution_count": 212,
   "outputs": [
    {
     "data": {
      "text/plain": "[(['John',\n   'left',\n   'the',\n   'kitchen',\n   '.',\n   'Sandra',\n   'dropped',\n   'the',\n   'football',\n   'in',\n   'the',\n   'garden',\n   '.'],\n  ['Is', 'the', 'football', 'in', 'the', 'garden', '?'],\n  'yes')]"
     },
     "execution_count": 212,
     "metadata": {},
     "output_type": "execute_result"
    }
   ],
   "source": [
    "mydata"
   ],
   "metadata": {
    "collapsed": false,
    "ExecuteTime": {
     "end_time": "2024-08-13T14:27:32.346857700Z",
     "start_time": "2024-08-13T14:27:32.177654600Z"
    }
   },
   "id": "c2b5bc40275d974b"
  },
  {
   "cell_type": "code",
   "execution_count": 213,
   "outputs": [],
   "source": [
    "my_story,my_ques,my_ans = vectorize_stories(mydata)"
   ],
   "metadata": {
    "collapsed": false,
    "ExecuteTime": {
     "end_time": "2024-08-13T14:28:46.616893500Z",
     "start_time": "2024-08-13T14:28:46.434342300Z"
    }
   },
   "id": "37f0dc0cfdd9690c"
  },
  {
   "cell_type": "code",
   "execution_count": 214,
   "outputs": [
    {
     "data": {
      "text/plain": "array([[ 0,  0,  0,  0,  0,  0,  0,  0,  0,  0,  0,  0,  0,  0,  0,  0,\n         0,  0,  0,  0,  0,  0,  0,  0,  0,  0,  0,  0,  0,  0,  0,  0,\n         0,  0,  0,  0,  0,  0,  0,  0,  0,  0,  0,  0,  0,  0,  0,  0,\n         0,  0,  0,  0,  0,  0,  0,  0,  0,  0,  0,  0,  0,  0,  0,  0,\n         0,  0,  0,  0,  0,  0,  0,  0,  0,  0,  0,  0,  0,  0,  0,  0,\n         0,  0,  0,  0,  0,  0,  0,  0,  0,  0,  0,  0,  0,  0,  0,  0,\n         0,  0,  0,  0,  0,  0,  0,  0,  0,  0,  0,  0,  0,  0,  0,  0,\n         0,  0,  0,  0,  0,  0,  0,  0,  0,  0,  0,  0,  0,  0,  0,  0,\n         0,  0,  0,  0,  0,  0,  0,  0,  0,  0,  0,  0,  0,  0,  0,  5,\n         4, 13,  3, 11, 22, 16, 13, 33, 10, 13, 26, 11]])"
     },
     "execution_count": 214,
     "metadata": {},
     "output_type": "execute_result"
    }
   ],
   "source": [
    "my_story"
   ],
   "metadata": {
    "collapsed": false,
    "ExecuteTime": {
     "end_time": "2024-08-13T14:28:48.500711500Z",
     "start_time": "2024-08-13T14:28:48.426023800Z"
    }
   },
   "id": "88b614cc52f50cbb"
  },
  {
   "cell_type": "code",
   "execution_count": 215,
   "outputs": [
    {
     "data": {
      "text/plain": "array([[0., 0., 0., 0., 0., 0., 0., 0., 1., 0., 0., 0., 0., 0., 0., 0.,\n        0., 0., 0., 0., 0., 0., 0., 0., 0., 0., 0., 0., 0., 0., 0., 0.,\n        0., 0., 0., 0., 0., 0.]])"
     },
     "execution_count": 215,
     "metadata": {},
     "output_type": "execute_result"
    }
   ],
   "source": [
    "my_ans"
   ],
   "metadata": {
    "collapsed": false,
    "ExecuteTime": {
     "end_time": "2024-08-13T14:29:09.733899100Z",
     "start_time": "2024-08-13T14:29:09.591409400Z"
    }
   },
   "id": "4bd8bd030d1eec8f"
  },
  {
   "cell_type": "code",
   "execution_count": 216,
   "outputs": [
    {
     "name": "stdout",
     "output_type": "stream",
     "text": [
      "1/1 [==============================] - 0s 60ms/step\n"
     ]
    }
   ],
   "source": [
    "pred_results = model.predict(([my_story,my_ques]))"
   ],
   "metadata": {
    "collapsed": false,
    "ExecuteTime": {
     "end_time": "2024-08-13T14:30:17.749987800Z",
     "start_time": "2024-08-13T14:30:17.544307500Z"
    }
   },
   "id": "4ad952d96f9a012a"
  },
  {
   "cell_type": "code",
   "execution_count": 217,
   "outputs": [],
   "source": [
    "val_max = np.argmax(pred_results[0])"
   ],
   "metadata": {
    "collapsed": false,
    "ExecuteTime": {
     "end_time": "2024-08-13T14:30:34.271317600Z",
     "start_time": "2024-08-13T14:30:33.906682700Z"
    }
   },
   "id": "a7ed6a34fc362941"
  },
  {
   "cell_type": "code",
   "execution_count": 218,
   "outputs": [],
   "source": [
    "for key,val in tokenizer.word_index.items():\n",
    "    if val == val_max:\n",
    "        k = key"
   ],
   "metadata": {
    "collapsed": false,
    "ExecuteTime": {
     "end_time": "2024-08-13T14:31:00.423342300Z",
     "start_time": "2024-08-13T14:31:00.321103700Z"
    }
   },
   "id": "ac5bbfc8401e4e50"
  },
  {
   "cell_type": "code",
   "execution_count": 219,
   "outputs": [
    {
     "data": {
      "text/plain": "'yes'"
     },
     "execution_count": 219,
     "metadata": {},
     "output_type": "execute_result"
    }
   ],
   "source": [
    "k"
   ],
   "metadata": {
    "collapsed": false,
    "ExecuteTime": {
     "end_time": "2024-08-13T14:31:05.325368700Z",
     "start_time": "2024-08-13T14:31:04.951910500Z"
    }
   },
   "id": "55ac2da6ea025504"
  },
  {
   "cell_type": "code",
   "execution_count": 220,
   "outputs": [
    {
     "data": {
      "text/plain": "0.94495314"
     },
     "execution_count": 220,
     "metadata": {},
     "output_type": "execute_result"
    }
   ],
   "source": [
    "pred_results[0][val_max]"
   ],
   "metadata": {
    "collapsed": false,
    "ExecuteTime": {
     "end_time": "2024-08-13T14:31:38.885135600Z",
     "start_time": "2024-08-13T14:31:38.715340300Z"
    }
   },
   "id": "fcdf3d321c524044"
  },
  {
   "cell_type": "code",
   "execution_count": null,
   "outputs": [],
   "source": [],
   "metadata": {
    "collapsed": false
   },
   "id": "57a6b912273db2a9"
  }
 ],
 "metadata": {
  "kernelspec": {
   "display_name": "Python 3",
   "language": "python",
   "name": "python3"
  },
  "language_info": {
   "codemirror_mode": {
    "name": "ipython",
    "version": 2
   },
   "file_extension": ".py",
   "mimetype": "text/x-python",
   "name": "python",
   "nbconvert_exporter": "python",
   "pygments_lexer": "ipython2",
   "version": "2.7.6"
  }
 },
 "nbformat": 4,
 "nbformat_minor": 5
}
