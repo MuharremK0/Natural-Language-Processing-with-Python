{
 "cells": [
  {
   "cell_type": "code",
   "execution_count": 1,
   "id": "initial_id",
   "metadata": {
    "collapsed": true,
    "ExecuteTime": {
     "end_time": "2024-07-22T10:34:54.997104400Z",
     "start_time": "2024-07-22T10:34:53.447219800Z"
    }
   },
   "outputs": [],
   "source": [
    "import spacy"
   ]
  },
  {
   "cell_type": "code",
   "execution_count": 2,
   "outputs": [],
   "source": [
    "nlp = spacy.load('en_core_web_sm')"
   ],
   "metadata": {
    "collapsed": false,
    "ExecuteTime": {
     "end_time": "2024-07-22T10:35:04.639199900Z",
     "start_time": "2024-07-22T10:35:03.833335900Z"
    }
   },
   "id": "b221e9711d2e70c2"
  },
  {
   "cell_type": "code",
   "execution_count": 3,
   "outputs": [
    {
     "name": "stdout",
     "output_type": "stream",
     "text": [
      "{'ten', 'now', 'we', 'us', 'on', 'beside', '’m', 'never', 'not', 'a', 'few', 'formerly', 'over', 'back', 'eight', 'so', 'almost', 'seem', \"'s\", 'also', 'been', 'under', 'an', 'much', 'here', 'three', 'off', 'during', 'done', 'per', 'show', 'who', 'often', 'all', 'they', 'hence', 'can', 'be', 'still', 'might', 'none', 'your', 'mostly', 'nevertheless', 'up', 'that', 'why', 'either', 'each', 'across', 'what', 'another', 'yourself', 'whereby', 'empty', 'is', 'via', 'keep', '‘re', 'himself', 'something', 'whereas', 'most', 'always', 'these', 'toward', 'below', 'therefore', 'anyhow', 'ourselves', 'him', 'my', 'whoever', 'somewhere', 'has', 'how', '‘ve', 'however', 'becoming', 'becomes', 'else', 'nine', 'neither', 'except', 'namely', 'thereafter', 'whence', 'own', 'side', 'could', 'the', 'several', 'anyway', 'i', 'well', 'where', 'alone', 'hereupon', 'latter', 'those', 'such', 'whither', 'have', 'fifteen', 'nowhere', 'hundred', 'among', 'through', 'after', 'than', 'give', '’ll', 'twenty', \"'ve\", 'n’t', 'somehow', 'its', 'would', 'move', 'see', 'take', 'along', 'thus', 'onto', 'together', 'both', 'latterly', '’s', 'doing', 'further', 'his', 'unless', 'least', \"'re\", 'nobody', 'throughout', 'seems', \"'ll\", 'and', 'in', 'sixty', 'every', 'hereafter', 'someone', 'whole', 'although', 'rather', 'whatever', 'put', 'behind', 'less', 'indeed', 'out', 'cannot', '’ve', 'first', 'whereafter', 'one', 'third', 'are', 'whom', 'to', 'into', 'name', '‘s', 'otherwise', 'itself', 'elsewhere', 'two', 'seeming', 'various', 'regarding', 'eleven', 'some', 'whereupon', 'though', 'using', 'thereupon', 'wherein', 'former', 'myself', 'other', 'amount', 'even', 'moreover', 'say', 'thence', 'besides', 'everywhere', 'whose', 'thereby', 'from', 'sometime', \"'d\", 'had', 're', 'last', 'ca', 'did', 'hereby', 'no', 'everyone', 'nor', 'me', 'he', 'just', 'anything', 'made', 'too', 'due', 'again', 'front', 'she', '‘ll', 'towards', 'anywhere', 'was', 'meanwhile', 'more', 'this', 'anyone', 'yourselves', 'perhaps', 'once', 'while', 'really', 'their', 'five', 'noone', 'beforehand', 'should', 'everything', 'without', 'full', 'top', 'nothing', 'were', 'thru', 'herself', 'become', 'bottom', 'part', 'yet', 'herein', 'or', 'whether', 'forty', 'only', 'by', 'sometimes', 'fifty', 'but', '’re', 'go', 'next', 'at', 'because', 'within', 'of', 'enough', 'am', 'it', \"'m\", 'very', 'until', 'yours', 'may', 'used', 'amongst', 'around', 'before', 'ours', 'please', 'make', 'as', 'hers', 'others', 'n‘t', 'seemed', 'beyond', 'call', 'then', 'already', 'since', 'being', 'down', 'became', 'against', 'must', 'about', 'above', 'many', 'any', 'ever', 'themselves', 'will', 'if', 'same', '’d', 'twelve', 'four', \"n't\", 'you', 'serious', '‘d', 'six', 'our', 'there', 'upon', 'get', 'wherever', 'which', '‘m', 'for', 'quite', 'between', 'with', 'when', 'afterwards', 'therein', 'do', 'them', 'whenever', 'her', 'does', 'mine'}\n"
     ]
    }
   ],
   "source": [
    "print(nlp.Defaults.stop_words)"
   ],
   "metadata": {
    "collapsed": false,
    "ExecuteTime": {
     "end_time": "2024-07-22T10:35:39.069733800Z",
     "start_time": "2024-07-22T10:35:39.035794600Z"
    }
   },
   "id": "b66291efb66fc916"
  },
  {
   "cell_type": "code",
   "execution_count": 4,
   "outputs": [
    {
     "data": {
      "text/plain": "326"
     },
     "execution_count": 4,
     "metadata": {},
     "output_type": "execute_result"
    }
   ],
   "source": [
    "len(nlp.Defaults.stop_words)"
   ],
   "metadata": {
    "collapsed": false,
    "ExecuteTime": {
     "end_time": "2024-07-22T10:36:18.570079700Z",
     "start_time": "2024-07-22T10:36:18.479536800Z"
    }
   },
   "id": "e000ea1c60b0258e"
  },
  {
   "cell_type": "code",
   "execution_count": 5,
   "outputs": [
    {
     "data": {
      "text/plain": "True"
     },
     "execution_count": 5,
     "metadata": {},
     "output_type": "execute_result"
    }
   ],
   "source": [
    "nlp.vocab['is'].is_stop"
   ],
   "metadata": {
    "collapsed": false,
    "ExecuteTime": {
     "end_time": "2024-07-22T10:36:39.290464Z",
     "start_time": "2024-07-22T10:36:39.198664900Z"
    }
   },
   "id": "8ed1b91fb76f6282"
  },
  {
   "cell_type": "code",
   "execution_count": 6,
   "outputs": [
    {
     "data": {
      "text/plain": "False"
     },
     "execution_count": 6,
     "metadata": {},
     "output_type": "execute_result"
    }
   ],
   "source": [
    "nlp.vocab['mystery'].is_stop"
   ],
   "metadata": {
    "collapsed": false,
    "ExecuteTime": {
     "end_time": "2024-07-22T10:36:52.913977800Z",
     "start_time": "2024-07-22T10:36:52.900991900Z"
    }
   },
   "id": "40be40454aa8f8b7"
  },
  {
   "cell_type": "code",
   "execution_count": 7,
   "outputs": [],
   "source": [
    "nlp.Defaults.stop_words.add('btw')"
   ],
   "metadata": {
    "collapsed": false,
    "ExecuteTime": {
     "end_time": "2024-07-22T10:37:55.783690400Z",
     "start_time": "2024-07-22T10:37:55.754133200Z"
    }
   },
   "id": "660ab4eff1de5586"
  },
  {
   "cell_type": "code",
   "execution_count": 8,
   "outputs": [],
   "source": [
    "nlp.vocab['btw'].is_stop = True"
   ],
   "metadata": {
    "collapsed": false,
    "ExecuteTime": {
     "end_time": "2024-07-22T10:38:08.488831100Z",
     "start_time": "2024-07-22T10:38:08.457901700Z"
    }
   },
   "id": "559ad2beef2c114e"
  },
  {
   "cell_type": "code",
   "execution_count": 9,
   "outputs": [
    {
     "data": {
      "text/plain": "327"
     },
     "execution_count": 9,
     "metadata": {},
     "output_type": "execute_result"
    }
   ],
   "source": [
    "len(nlp.Defaults.stop_words)"
   ],
   "metadata": {
    "collapsed": false,
    "ExecuteTime": {
     "end_time": "2024-07-22T10:38:15.428532800Z",
     "start_time": "2024-07-22T10:38:15.392165600Z"
    }
   },
   "id": "e931e7856b3d613b"
  },
  {
   "cell_type": "code",
   "execution_count": 10,
   "outputs": [
    {
     "data": {
      "text/plain": "True"
     },
     "execution_count": 10,
     "metadata": {},
     "output_type": "execute_result"
    }
   ],
   "source": [
    "nlp.vocab['btw'].is_stop"
   ],
   "metadata": {
    "collapsed": false,
    "ExecuteTime": {
     "end_time": "2024-07-22T10:38:38.119937Z",
     "start_time": "2024-07-22T10:38:38.053688400Z"
    }
   },
   "id": "b2f7a0661497f5f5"
  },
  {
   "cell_type": "code",
   "execution_count": 11,
   "outputs": [],
   "source": [
    "nlp.Defaults.stop_words.remove('beyond')"
   ],
   "metadata": {
    "collapsed": false,
    "ExecuteTime": {
     "end_time": "2024-07-22T10:39:07.119969200Z",
     "start_time": "2024-07-22T10:39:07.104784600Z"
    }
   },
   "id": "c5e5bc5da7ac8ab3"
  },
  {
   "cell_type": "code",
   "execution_count": 12,
   "outputs": [],
   "source": [
    "nlp.vocab['beyond'].is_stop = False"
   ],
   "metadata": {
    "collapsed": false,
    "ExecuteTime": {
     "end_time": "2024-07-22T10:39:18.880708500Z",
     "start_time": "2024-07-22T10:39:18.847628800Z"
    }
   },
   "id": "7879a5f1ac3c9345"
  },
  {
   "cell_type": "code",
   "execution_count": 13,
   "outputs": [
    {
     "data": {
      "text/plain": "False"
     },
     "execution_count": 13,
     "metadata": {},
     "output_type": "execute_result"
    }
   ],
   "source": [
    "nlp.vocab['beyond'].is_stop"
   ],
   "metadata": {
    "collapsed": false,
    "ExecuteTime": {
     "end_time": "2024-07-22T10:39:26.428807900Z",
     "start_time": "2024-07-22T10:39:26.400092700Z"
    }
   },
   "id": "cc2b9f7f4c641613"
  },
  {
   "cell_type": "code",
   "execution_count": null,
   "outputs": [],
   "source": [],
   "metadata": {
    "collapsed": false
   },
   "id": "994d758a72c2dcc8"
  }
 ],
 "metadata": {
  "kernelspec": {
   "display_name": "Python 3",
   "language": "python",
   "name": "python3"
  },
  "language_info": {
   "codemirror_mode": {
    "name": "ipython",
    "version": 2
   },
   "file_extension": ".py",
   "mimetype": "text/x-python",
   "name": "python",
   "nbconvert_exporter": "python",
   "pygments_lexer": "ipython2",
   "version": "2.7.6"
  }
 },
 "nbformat": 4,
 "nbformat_minor": 5
}
