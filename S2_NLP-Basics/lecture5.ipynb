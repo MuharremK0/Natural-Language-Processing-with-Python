{
 "cells": [
  {
   "cell_type": "code",
   "execution_count": 1,
   "id": "initial_id",
   "metadata": {
    "collapsed": true,
    "ExecuteTime": {
     "end_time": "2024-07-22T10:40:36.245438800Z",
     "start_time": "2024-07-22T10:40:35.172951Z"
    }
   },
   "outputs": [],
   "source": [
    "import spacy"
   ]
  },
  {
   "cell_type": "code",
   "execution_count": 2,
   "outputs": [],
   "source": [
    "nlp = spacy.load('en_core_web_sm')"
   ],
   "metadata": {
    "collapsed": false,
    "ExecuteTime": {
     "end_time": "2024-07-22T10:40:47.332413900Z",
     "start_time": "2024-07-22T10:40:46.743162500Z"
    }
   },
   "id": "9c7f99a9bf84a59b"
  },
  {
   "cell_type": "code",
   "execution_count": 3,
   "outputs": [],
   "source": [
    "from spacy.matcher import Matcher"
   ],
   "metadata": {
    "collapsed": false,
    "ExecuteTime": {
     "end_time": "2024-07-22T10:42:21.945721300Z",
     "start_time": "2024-07-22T10:42:21.920563300Z"
    }
   },
   "id": "2e4a3e6322ca9fbf"
  },
  {
   "cell_type": "code",
   "execution_count": 4,
   "outputs": [],
   "source": [
    "matcher = Matcher(nlp.vocab)"
   ],
   "metadata": {
    "collapsed": false,
    "ExecuteTime": {
     "end_time": "2024-07-22T10:43:30.448122Z",
     "start_time": "2024-07-22T10:43:30.428131600Z"
    }
   },
   "id": "500660d2c8727a02"
  },
  {
   "cell_type": "code",
   "execution_count": 5,
   "outputs": [],
   "source": [
    "# SoLarPower\n",
    "pattern1 = [{'LOWER' : 'solarpower'}]\n",
    "# SoLar-power\n",
    "pattern2 = [{'LOWER' : 'solar'},{'IS_PUNCT' : True},{'LOWER' : 'power'}]\n",
    "# Solar power\n",
    "pattern3 = [{'LOWER' : 'solar'},{'LOWER' : 'power'}]"
   ],
   "metadata": {
    "collapsed": false,
    "ExecuteTime": {
     "end_time": "2024-07-22T11:02:17.543491900Z",
     "start_time": "2024-07-22T11:02:17.518880800Z"
    }
   },
   "id": "6b92f4c3a483115d"
  },
  {
   "cell_type": "code",
   "execution_count": 8,
   "outputs": [],
   "source": [
    "matcher.add('SolarPower',[pattern1,pattern2,pattern3])"
   ],
   "metadata": {
    "collapsed": false,
    "ExecuteTime": {
     "end_time": "2024-07-22T11:47:08.929393500Z",
     "start_time": "2024-07-22T11:47:08.920418900Z"
    }
   },
   "id": "ccdf075f4102911b"
  },
  {
   "cell_type": "code",
   "execution_count": 9,
   "outputs": [],
   "source": [
    "doc = nlp(u\"The Solar Power industry continues to grow a solarpower increases. Solar-power is amazing.\")"
   ],
   "metadata": {
    "collapsed": false,
    "ExecuteTime": {
     "end_time": "2024-07-22T11:52:48.426166500Z",
     "start_time": "2024-07-22T11:52:48.133110Z"
    }
   },
   "id": "3c41582a788caeae"
  },
  {
   "cell_type": "code",
   "execution_count": 10,
   "outputs": [],
   "source": [
    "found_matches = matcher(doc)"
   ],
   "metadata": {
    "collapsed": false,
    "ExecuteTime": {
     "end_time": "2024-07-22T11:53:09.118883500Z",
     "start_time": "2024-07-22T11:53:09.079665Z"
    }
   },
   "id": "747d757cdf59ca4e"
  },
  {
   "cell_type": "code",
   "execution_count": 11,
   "outputs": [
    {
     "name": "stdout",
     "output_type": "stream",
     "text": [
      "[(8656102463236116519, 1, 3), (8656102463236116519, 8, 9), (8656102463236116519, 11, 14)]\n"
     ]
    }
   ],
   "source": [
    "print(found_matches)"
   ],
   "metadata": {
    "collapsed": false,
    "ExecuteTime": {
     "end_time": "2024-07-22T11:53:13.856670400Z",
     "start_time": "2024-07-22T11:53:13.833558900Z"
    }
   },
   "id": "99b05879064f95ed"
  },
  {
   "cell_type": "code",
   "execution_count": 12,
   "outputs": [
    {
     "name": "stdout",
     "output_type": "stream",
     "text": [
      "8656102463236116519 SolarPower 1 3 Solar Power\n",
      "8656102463236116519 SolarPower 8 9 solarpower\n",
      "8656102463236116519 SolarPower 11 14 Solar-power\n"
     ]
    }
   ],
   "source": [
    "for match_id,start,end in found_matches:\n",
    "    string_id = nlp.vocab.strings[match_id] # get string representation\n",
    "    span = doc[start:end] # get the matched span\n",
    "    print(match_id,string_id,start,end,span.text)"
   ],
   "metadata": {
    "collapsed": false,
    "ExecuteTime": {
     "end_time": "2024-07-22T12:00:12.020974100Z",
     "start_time": "2024-07-22T12:00:11.989455100Z"
    }
   },
   "id": "ba5d8542e7670e49"
  },
  {
   "cell_type": "code",
   "execution_count": 14,
   "outputs": [],
   "source": [
    "matcher.remove('SolarPower')"
   ],
   "metadata": {
    "collapsed": false,
    "ExecuteTime": {
     "end_time": "2024-07-22T12:08:01.281497100Z",
     "start_time": "2024-07-22T12:08:01.251214600Z"
    }
   },
   "id": "42a4aa698c8de762"
  },
  {
   "cell_type": "code",
   "execution_count": 16,
   "outputs": [],
   "source": [
    "#solarpower SolarPower\n",
    "pattern1 = [{'LOWER' : 'solarpower'}]\n",
    "#solar.power\n",
    "pattern2 = [{'LOWER' : 'solar'},{'IS_PUNCT' : True , 'OP' : '*'},{'LOWER' : 'power'}]"
   ],
   "metadata": {
    "collapsed": false,
    "ExecuteTime": {
     "end_time": "2024-07-22T12:09:14.856818500Z",
     "start_time": "2024-07-22T12:09:14.846843500Z"
    }
   },
   "id": "812fe623a6417ddf"
  },
  {
   "cell_type": "code",
   "execution_count": 17,
   "outputs": [],
   "source": [
    "matcher.add('SolarPower',[pattern1,pattern2])"
   ],
   "metadata": {
    "collapsed": false,
    "ExecuteTime": {
     "end_time": "2024-07-22T12:09:24.409513400Z",
     "start_time": "2024-07-22T12:09:24.374070100Z"
    }
   },
   "id": "6741e644d971c91"
  },
  {
   "cell_type": "code",
   "execution_count": 18,
   "outputs": [],
   "source": [
    "doc2 = nlp(u\"Solar--power is solarpower yay!\")"
   ],
   "metadata": {
    "collapsed": false,
    "ExecuteTime": {
     "end_time": "2024-07-22T12:09:55.006991300Z",
     "start_time": "2024-07-22T12:09:54.876875500Z"
    }
   },
   "id": "b4b1de74b6a1dab"
  },
  {
   "cell_type": "code",
   "execution_count": 19,
   "outputs": [],
   "source": [
    "found_matches = matcher(doc2)"
   ],
   "metadata": {
    "collapsed": false,
    "ExecuteTime": {
     "end_time": "2024-07-22T12:10:09.400540500Z",
     "start_time": "2024-07-22T12:10:09.383504300Z"
    }
   },
   "id": "6f4cb47b7ec35d0a"
  },
  {
   "cell_type": "code",
   "execution_count": 20,
   "outputs": [
    {
     "name": "stdout",
     "output_type": "stream",
     "text": [
      "[(8656102463236116519, 0, 3), (8656102463236116519, 4, 5)]\n"
     ]
    }
   ],
   "source": [
    "print(found_matches)"
   ],
   "metadata": {
    "collapsed": false,
    "ExecuteTime": {
     "end_time": "2024-07-22T12:10:12.909184700Z",
     "start_time": "2024-07-22T12:10:12.842055300Z"
    }
   },
   "id": "5b98a6c646056c39"
  },
  {
   "cell_type": "code",
   "execution_count": 23,
   "outputs": [],
   "source": [
    "from spacy.matcher import PhraseMatcher"
   ],
   "metadata": {
    "collapsed": false,
    "ExecuteTime": {
     "end_time": "2024-07-22T12:17:17.186802500Z",
     "start_time": "2024-07-22T12:17:17.174832Z"
    }
   },
   "id": "13aea9fb104cc387"
  },
  {
   "cell_type": "code",
   "execution_count": 24,
   "outputs": [],
   "source": [
    "matcher = PhraseMatcher(nlp.vocab)"
   ],
   "metadata": {
    "collapsed": false,
    "ExecuteTime": {
     "end_time": "2024-07-22T12:17:26.256729100Z",
     "start_time": "2024-07-22T12:17:26.240740400Z"
    }
   },
   "id": "b958c42cbc3a4cb"
  },
  {
   "cell_type": "code",
   "execution_count": 25,
   "outputs": [],
   "source": [
    "with open('../TextFiles/reaganomics.txt') as f:\n",
    "    doc3 = nlp(f.read())"
   ],
   "metadata": {
    "collapsed": false,
    "ExecuteTime": {
     "end_time": "2024-07-22T12:20:50.002874600Z",
     "start_time": "2024-07-22T12:20:48.123891700Z"
    }
   },
   "id": "9d6cfdb7b2a695a4"
  },
  {
   "cell_type": "code",
   "execution_count": 34,
   "outputs": [],
   "source": [
    "phrase_list = ['voodoo economics','supply-side economics','trickle-down economics','free-market economics']"
   ],
   "metadata": {
    "collapsed": false,
    "ExecuteTime": {
     "end_time": "2024-07-22T12:28:07.782543900Z",
     "start_time": "2024-07-22T12:28:07.760399200Z"
    }
   },
   "id": "81b64be5de9e29bc"
  },
  {
   "cell_type": "code",
   "execution_count": 35,
   "outputs": [],
   "source": [
    "phrase_patterns = [nlp(text) for text in phrase_list]"
   ],
   "metadata": {
    "collapsed": false,
    "ExecuteTime": {
     "end_time": "2024-07-22T12:28:08.434485600Z",
     "start_time": "2024-07-22T12:28:08.336028100Z"
    }
   },
   "id": "df35ac7a09e62f32"
  },
  {
   "cell_type": "code",
   "execution_count": 36,
   "outputs": [
    {
     "data": {
      "text/plain": "[voodoo economics,\n supply-side economics,\n trickle-down economics,\n free-market economics]"
     },
     "execution_count": 36,
     "metadata": {},
     "output_type": "execute_result"
    }
   ],
   "source": [
    "phrase_patterns"
   ],
   "metadata": {
    "collapsed": false,
    "ExecuteTime": {
     "end_time": "2024-07-22T12:28:08.835046500Z",
     "start_time": "2024-07-22T12:28:08.726796700Z"
    }
   },
   "id": "3deb949f5cf7f578"
  },
  {
   "cell_type": "code",
   "execution_count": 37,
   "outputs": [],
   "source": [
    "matcher.add('EconMatcher',phrase_patterns)"
   ],
   "metadata": {
    "collapsed": false,
    "ExecuteTime": {
     "end_time": "2024-07-22T12:28:10.986910900Z",
     "start_time": "2024-07-22T12:28:10.955919700Z"
    }
   },
   "id": "6459dc8c66529add"
  },
  {
   "cell_type": "code",
   "execution_count": 38,
   "outputs": [],
   "source": [
    "found_matches  = matcher(doc3)"
   ],
   "metadata": {
    "collapsed": false,
    "ExecuteTime": {
     "end_time": "2024-07-22T12:28:11.914538100Z",
     "start_time": "2024-07-22T12:28:11.904562600Z"
    }
   },
   "id": "9bbe42148dcc902f"
  },
  {
   "cell_type": "code",
   "execution_count": 39,
   "outputs": [
    {
     "data": {
      "text/plain": "[(3680293220734633682, 41, 45),\n (3680293220734633682, 49, 53),\n (3680293220734633682, 54, 56),\n (3680293220734633682, 61, 65),\n (3680293220734633682, 673, 677),\n (3680293220734633682, 2987, 2991)]"
     },
     "execution_count": 39,
     "metadata": {},
     "output_type": "execute_result"
    }
   ],
   "source": [
    "found_matches"
   ],
   "metadata": {
    "collapsed": false,
    "ExecuteTime": {
     "end_time": "2024-07-22T12:28:12.412751900Z",
     "start_time": "2024-07-22T12:28:12.401782800Z"
    }
   },
   "id": "cb440fb45ebfa728"
  },
  {
   "cell_type": "code",
   "execution_count": 41,
   "outputs": [
    {
     "name": "stdout",
     "output_type": "stream",
     "text": [
      "3680293220734633682 EconMatcher 41 45 policies are commonly associated with supply-side economics, referred to as trickle\n",
      "3680293220734633682 EconMatcher 49 53 economics, referred to as trickle-down economics or voodoo economics by political\n",
      "3680293220734633682 EconMatcher 54 56 trickle-down economics or voodoo economics by political opponents, and\n",
      "3680293220734633682 EconMatcher 61 65 by political opponents, and free-market economics by political advocates.\n",
      "\n",
      "\n",
      "3680293220734633682 EconMatcher 673 677 attracted a following from the supply-side economics movement, which formed in\n",
      "3680293220734633682 EconMatcher 2987 2991 became widely known as \"trickle-down economics\", due to the\n"
     ]
    }
   ],
   "source": [
    "for match_id,start,end in found_matches:\n",
    "    string_id = nlp.vocab.strings[match_id] # get string representation\n",
    "    span = doc3[start-5:end+5] # get the matched span\n",
    "    print(match_id,string_id,start,end,span.text)"
   ],
   "metadata": {
    "collapsed": false,
    "ExecuteTime": {
     "end_time": "2024-07-22T12:28:50.499527800Z",
     "start_time": "2024-07-22T12:28:50.484636600Z"
    }
   },
   "id": "5998a14b277b256"
  },
  {
   "cell_type": "code",
   "execution_count": null,
   "outputs": [],
   "source": [],
   "metadata": {
    "collapsed": false
   },
   "id": "4bb6643b24bbff9"
  }
 ],
 "metadata": {
  "kernelspec": {
   "display_name": "Python 3",
   "language": "python",
   "name": "python3"
  },
  "language_info": {
   "codemirror_mode": {
    "name": "ipython",
    "version": 2
   },
   "file_extension": ".py",
   "mimetype": "text/x-python",
   "name": "python",
   "nbconvert_exporter": "python",
   "pygments_lexer": "ipython2",
   "version": "2.7.6"
  }
 },
 "nbformat": 4,
 "nbformat_minor": 5
}
