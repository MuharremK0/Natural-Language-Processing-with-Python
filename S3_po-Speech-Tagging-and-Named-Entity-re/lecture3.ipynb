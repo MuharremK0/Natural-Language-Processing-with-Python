{
 "cells": [
  {
   "cell_type": "code",
   "execution_count": 6,
   "id": "initial_id",
   "metadata": {
    "collapsed": true,
    "ExecuteTime": {
     "end_time": "2024-07-30T07:08:25.657718600Z",
     "start_time": "2024-07-30T07:08:25.621557200Z"
    }
   },
   "outputs": [],
   "source": [
    "import spacy"
   ]
  },
  {
   "cell_type": "code",
   "execution_count": 7,
   "outputs": [],
   "source": [
    "nlp = spacy.load('en_core_web_sm')"
   ],
   "metadata": {
    "collapsed": false,
    "ExecuteTime": {
     "end_time": "2024-07-30T07:08:27.823973200Z",
     "start_time": "2024-07-30T07:08:26.909467400Z"
    }
   },
   "id": "dfc2c68f57726cb9"
  },
  {
   "cell_type": "code",
   "execution_count": 8,
   "outputs": [],
   "source": [
    "def show_ents(doc):\n",
    "    if doc.ents:\n",
    "        for ent in doc.ents:\n",
    "            print(ent.text+' - '+ent.label_+' - '+str(spacy.explain(ent.label_)))\n",
    "    else:\n",
    "        print('No entities found')"
   ],
   "metadata": {
    "collapsed": false,
    "ExecuteTime": {
     "end_time": "2024-07-30T07:08:28.414800100Z",
     "start_time": "2024-07-30T07:08:28.385322200Z"
    }
   },
   "id": "944de3461a0176f0"
  },
  {
   "cell_type": "code",
   "execution_count": 9,
   "outputs": [],
   "source": [
    "doc = nlp(u'Hi how are you?')"
   ],
   "metadata": {
    "collapsed": false,
    "ExecuteTime": {
     "end_time": "2024-07-30T07:08:29.256328900Z",
     "start_time": "2024-07-30T07:08:29.205454200Z"
    }
   },
   "id": "52c8600db289f734"
  },
  {
   "cell_type": "code",
   "execution_count": 10,
   "outputs": [
    {
     "name": "stdout",
     "output_type": "stream",
     "text": [
      "No entities found\n"
     ]
    }
   ],
   "source": [
    "show_ents(doc)"
   ],
   "metadata": {
    "collapsed": false,
    "ExecuteTime": {
     "end_time": "2024-07-30T07:08:29.777943500Z",
     "start_time": "2024-07-30T07:08:29.761452700Z"
    }
   },
   "id": "dd1aa47913e499e3"
  },
  {
   "cell_type": "code",
   "execution_count": 11,
   "outputs": [],
   "source": [
    "doc = nlp(u\"May I go to Washington, DC next May to see the Washington Monument?\")"
   ],
   "metadata": {
    "collapsed": false,
    "ExecuteTime": {
     "end_time": "2024-07-30T07:09:15.581098600Z",
     "start_time": "2024-07-30T07:09:15.480443400Z"
    }
   },
   "id": "1fa0c135f61b0fd1"
  },
  {
   "cell_type": "code",
   "execution_count": 12,
   "outputs": [
    {
     "name": "stdout",
     "output_type": "stream",
     "text": [
      "Washington, DC - GPE - Countries, cities, states\n",
      "next May - DATE - Absolute or relative dates or periods\n",
      "the Washington Monument - ORG - Companies, agencies, institutions, etc.\n"
     ]
    }
   ],
   "source": [
    "show_ents(doc)"
   ],
   "metadata": {
    "collapsed": false,
    "ExecuteTime": {
     "end_time": "2024-07-30T07:09:26.880669400Z",
     "start_time": "2024-07-30T07:09:26.841521400Z"
    }
   },
   "id": "114a55315c6f9f4d"
  },
  {
   "cell_type": "code",
   "execution_count": 13,
   "outputs": [],
   "source": [
    "doc = nlp(u\"Can I please have 500 dollars of Microsoft stock?\")"
   ],
   "metadata": {
    "collapsed": false,
    "ExecuteTime": {
     "end_time": "2024-07-30T07:13:28.290403200Z",
     "start_time": "2024-07-30T07:13:28.192874700Z"
    }
   },
   "id": "a4a46ea33fd3d8c9"
  },
  {
   "cell_type": "code",
   "execution_count": 14,
   "outputs": [
    {
     "name": "stdout",
     "output_type": "stream",
     "text": [
      "500 dollars - MONEY - Monetary values, including unit\n",
      "Microsoft - ORG - Companies, agencies, institutions, etc.\n"
     ]
    }
   ],
   "source": [
    "show_ents(doc)"
   ],
   "metadata": {
    "collapsed": false,
    "ExecuteTime": {
     "end_time": "2024-07-30T07:13:32.347536900Z",
     "start_time": "2024-07-30T07:13:32.322604300Z"
    }
   },
   "id": "d76fc6b5098cb02c"
  },
  {
   "cell_type": "code",
   "execution_count": 15,
   "outputs": [],
   "source": [
    "doc = nlp(u\"Tesla to build a U.K. factory for 6$ million\")"
   ],
   "metadata": {
    "collapsed": false,
    "ExecuteTime": {
     "end_time": "2024-07-30T07:14:02.576335600Z",
     "start_time": "2024-07-30T07:14:02.451134400Z"
    }
   },
   "id": "9adea93bf1d142b4"
  },
  {
   "cell_type": "code",
   "execution_count": 16,
   "outputs": [
    {
     "name": "stdout",
     "output_type": "stream",
     "text": [
      "U.K. - GPE - Countries, cities, states\n",
      "6$ million - MONEY - Monetary values, including unit\n"
     ]
    }
   ],
   "source": [
    "show_ents(doc)"
   ],
   "metadata": {
    "collapsed": false,
    "ExecuteTime": {
     "end_time": "2024-07-30T07:14:06.239692400Z",
     "start_time": "2024-07-30T07:14:06.151263700Z"
    }
   },
   "id": "cc3b34bf33cee546"
  },
  {
   "cell_type": "code",
   "execution_count": 17,
   "outputs": [],
   "source": [
    "# It didn't recognize Tesla"
   ],
   "metadata": {
    "collapsed": false,
    "ExecuteTime": {
     "end_time": "2024-07-30T07:14:17.850721200Z",
     "start_time": "2024-07-30T07:14:17.830983300Z"
    }
   },
   "id": "c6b67f03e0a86ac7"
  },
  {
   "cell_type": "code",
   "execution_count": 18,
   "outputs": [],
   "source": [
    "from spacy.tokens import Span"
   ],
   "metadata": {
    "collapsed": false,
    "ExecuteTime": {
     "end_time": "2024-07-30T07:15:22.250517500Z",
     "start_time": "2024-07-30T07:15:22.183781100Z"
    }
   },
   "id": "8038663c6ea2d0d2"
  },
  {
   "cell_type": "code",
   "execution_count": 19,
   "outputs": [],
   "source": [
    "ORG = doc.vocab.strings[u\"ORG\"]"
   ],
   "metadata": {
    "collapsed": false,
    "ExecuteTime": {
     "end_time": "2024-07-30T07:15:38.708451300Z",
     "start_time": "2024-07-30T07:15:38.646874600Z"
    }
   },
   "id": "9a5e652269b7068e"
  },
  {
   "cell_type": "code",
   "execution_count": 20,
   "outputs": [
    {
     "data": {
      "text/plain": "383"
     },
     "execution_count": 20,
     "metadata": {},
     "output_type": "execute_result"
    }
   ],
   "source": [
    "ORG"
   ],
   "metadata": {
    "collapsed": false,
    "ExecuteTime": {
     "end_time": "2024-07-30T07:15:41.097140Z",
     "start_time": "2024-07-30T07:15:40.954653800Z"
    }
   },
   "id": "656221ee3f9c593e"
  },
  {
   "cell_type": "code",
   "execution_count": 21,
   "outputs": [],
   "source": [
    "new_ent = Span(doc,0,1,label=ORG)"
   ],
   "metadata": {
    "collapsed": false,
    "ExecuteTime": {
     "end_time": "2024-07-30T07:17:20.664046400Z",
     "start_time": "2024-07-30T07:17:20.582876200Z"
    }
   },
   "id": "690186482b11d314"
  },
  {
   "cell_type": "code",
   "execution_count": 22,
   "outputs": [],
   "source": [
    "doc.ents = list(doc.ents) + [new_ent]"
   ],
   "metadata": {
    "collapsed": false,
    "ExecuteTime": {
     "end_time": "2024-07-30T07:17:41.988507600Z",
     "start_time": "2024-07-30T07:17:41.944598500Z"
    }
   },
   "id": "fb4171eb6c4444ae"
  },
  {
   "cell_type": "code",
   "execution_count": 23,
   "outputs": [
    {
     "name": "stdout",
     "output_type": "stream",
     "text": [
      "Tesla - ORG - Companies, agencies, institutions, etc.\n",
      "U.K. - GPE - Countries, cities, states\n",
      "6$ million - MONEY - Monetary values, including unit\n"
     ]
    }
   ],
   "source": [
    "show_ents(doc)"
   ],
   "metadata": {
    "collapsed": false,
    "ExecuteTime": {
     "end_time": "2024-07-30T07:17:46.951333200Z",
     "start_time": "2024-07-30T07:17:46.888631400Z"
    }
   },
   "id": "b60e37b204ebae66"
  },
  {
   "cell_type": "code",
   "execution_count": 25,
   "outputs": [],
   "source": [
    "# PART 2 : If we have multiple options"
   ],
   "metadata": {
    "collapsed": false,
    "ExecuteTime": {
     "end_time": "2024-07-30T07:20:45.342970900Z",
     "start_time": "2024-07-30T07:20:45.328954Z"
    }
   },
   "id": "9cccb9ba4d052cb3"
  },
  {
   "cell_type": "code",
   "execution_count": 26,
   "outputs": [],
   "source": [
    "doc = nlp(u\"Our company created a brand new vacuum cleaner.\"\n",
    "          u\"This new vacuum-cleaner is the best in show.\")"
   ],
   "metadata": {
    "collapsed": false,
    "ExecuteTime": {
     "end_time": "2024-07-30T07:22:52.410155200Z",
     "start_time": "2024-07-30T07:22:52.331862300Z"
    }
   },
   "id": "2c9462be08f17fe3"
  },
  {
   "cell_type": "code",
   "execution_count": 27,
   "outputs": [
    {
     "name": "stdout",
     "output_type": "stream",
     "text": [
      "No entities found\n"
     ]
    }
   ],
   "source": [
    "show_ents(doc)"
   ],
   "metadata": {
    "collapsed": false,
    "ExecuteTime": {
     "end_time": "2024-07-30T07:23:02.979015200Z",
     "start_time": "2024-07-30T07:23:02.765493600Z"
    }
   },
   "id": "e09ddd0d91a5a1e8"
  },
  {
   "cell_type": "code",
   "execution_count": 28,
   "outputs": [],
   "source": [
    "from spacy.matcher import PhraseMatcher"
   ],
   "metadata": {
    "collapsed": false,
    "ExecuteTime": {
     "end_time": "2024-07-30T07:23:21.360647900Z",
     "start_time": "2024-07-30T07:23:21.283846800Z"
    }
   },
   "id": "e445192b1b010f68"
  },
  {
   "cell_type": "code",
   "execution_count": 29,
   "outputs": [],
   "source": [
    "matcher = PhraseMatcher(nlp.vocab)"
   ],
   "metadata": {
    "collapsed": false,
    "ExecuteTime": {
     "end_time": "2024-07-30T07:26:18.646244500Z",
     "start_time": "2024-07-30T07:26:18.575864800Z"
    }
   },
   "id": "5e6c7064f31b614a"
  },
  {
   "cell_type": "code",
   "execution_count": 30,
   "outputs": [],
   "source": [
    "phrase_list = ['vacuum cleaner','vacuum-cleaner']"
   ],
   "metadata": {
    "collapsed": false,
    "ExecuteTime": {
     "end_time": "2024-07-30T07:26:35.424554800Z",
     "start_time": "2024-07-30T07:26:35.352712Z"
    }
   },
   "id": "c49d9d837a3dc271"
  },
  {
   "cell_type": "code",
   "execution_count": 31,
   "outputs": [],
   "source": [
    "phrase_patterns = [nlp(text) for text in phrase_list]"
   ],
   "metadata": {
    "collapsed": false,
    "ExecuteTime": {
     "end_time": "2024-07-30T07:27:02.804979400Z",
     "start_time": "2024-07-30T07:27:02.668066400Z"
    }
   },
   "id": "144b25ef7b46a7fc"
  },
  {
   "cell_type": "code",
   "execution_count": 35,
   "outputs": [],
   "source": [
    "matcher.add('newproduct',phrase_patterns)"
   ],
   "metadata": {
    "collapsed": false,
    "ExecuteTime": {
     "end_time": "2024-07-30T07:28:19.257624600Z",
     "start_time": "2024-07-30T07:28:19.209293700Z"
    }
   },
   "id": "671bfec336ac7a08"
  },
  {
   "cell_type": "code",
   "execution_count": 36,
   "outputs": [],
   "source": [
    "found_matches = matcher(doc)"
   ],
   "metadata": {
    "collapsed": false,
    "ExecuteTime": {
     "end_time": "2024-07-30T07:40:53.652092900Z",
     "start_time": "2024-07-30T07:40:53.568039700Z"
    }
   },
   "id": "970eb6b59b115c5f"
  },
  {
   "cell_type": "code",
   "execution_count": 37,
   "outputs": [
    {
     "data": {
      "text/plain": "[(2689272359382549672, 6, 8), (2689272359382549672, 11, 14)]"
     },
     "execution_count": 37,
     "metadata": {},
     "output_type": "execute_result"
    }
   ],
   "source": [
    "found_matches"
   ],
   "metadata": {
    "collapsed": false,
    "ExecuteTime": {
     "end_time": "2024-07-30T07:40:55.169031900Z",
     "start_time": "2024-07-30T07:40:55.044902500Z"
    }
   },
   "id": "a92fe3ffc6213f52"
  },
  {
   "cell_type": "code",
   "execution_count": 38,
   "outputs": [],
   "source": [
    "from spacy.tokens import Span"
   ],
   "metadata": {
    "collapsed": false,
    "ExecuteTime": {
     "end_time": "2024-07-30T07:44:18.410256200Z",
     "start_time": "2024-07-30T07:44:18.356145500Z"
    }
   },
   "id": "4d5aba8ce9814dd0"
  },
  {
   "cell_type": "code",
   "execution_count": 39,
   "outputs": [],
   "source": [
    "PROD = doc.vocab.strings[u\"PRODUCT\"]"
   ],
   "metadata": {
    "collapsed": false,
    "ExecuteTime": {
     "end_time": "2024-07-30T07:44:50.147974500Z",
     "start_time": "2024-07-30T07:44:50.042515900Z"
    }
   },
   "id": "6d435b5dcf71dab5"
  },
  {
   "cell_type": "code",
   "execution_count": 40,
   "outputs": [
    {
     "data": {
      "text/plain": "[(2689272359382549672, 6, 8), (2689272359382549672, 11, 14)]"
     },
     "execution_count": 40,
     "metadata": {},
     "output_type": "execute_result"
    }
   ],
   "source": [
    "found_matches"
   ],
   "metadata": {
    "collapsed": false,
    "ExecuteTime": {
     "end_time": "2024-07-30T07:44:59.302697200Z",
     "start_time": "2024-07-30T07:44:59.133522800Z"
    }
   },
   "id": "2e978aea30599462"
  },
  {
   "cell_type": "code",
   "execution_count": 41,
   "outputs": [],
   "source": [
    "new_ents = [Span(doc,match[1],match[2],label=PROD) for match in found_matches]"
   ],
   "metadata": {
    "collapsed": false,
    "ExecuteTime": {
     "end_time": "2024-07-30T07:47:25.269861100Z",
     "start_time": "2024-07-30T07:47:25.142937800Z"
    }
   },
   "id": "1b1b1188f6fe0a97"
  },
  {
   "cell_type": "code",
   "execution_count": 42,
   "outputs": [],
   "source": [
    "doc.ents = list(doc.ents) + new_ents"
   ],
   "metadata": {
    "collapsed": false,
    "ExecuteTime": {
     "end_time": "2024-07-30T07:48:04.576008800Z",
     "start_time": "2024-07-30T07:48:04.397054800Z"
    }
   },
   "id": "132ba084ca47002e"
  },
  {
   "cell_type": "code",
   "execution_count": 43,
   "outputs": [
    {
     "name": "stdout",
     "output_type": "stream",
     "text": [
      "vacuum cleaner - PRODUCT - Objects, vehicles, foods, etc. (not services)\n",
      "vacuum-cleaner - PRODUCT - Objects, vehicles, foods, etc. (not services)\n"
     ]
    }
   ],
   "source": [
    "show_ents(doc)"
   ],
   "metadata": {
    "collapsed": false,
    "ExecuteTime": {
     "end_time": "2024-07-30T07:48:08.609093700Z",
     "start_time": "2024-07-30T07:48:08.554434800Z"
    }
   },
   "id": "51d4b99be44b865a"
  },
  {
   "cell_type": "code",
   "execution_count": 44,
   "outputs": [],
   "source": [
    "doc = nlp(u\"Originally I paid $29.95 for this car toy, but now it is marked down by 10 dollars.\")"
   ],
   "metadata": {
    "collapsed": false,
    "ExecuteTime": {
     "end_time": "2024-07-30T07:49:47.580665900Z",
     "start_time": "2024-07-30T07:49:47.405551900Z"
    }
   },
   "id": "dd6125c252fa6481"
  },
  {
   "cell_type": "code",
   "execution_count": 46,
   "outputs": [
    {
     "data": {
      "text/plain": "2"
     },
     "execution_count": 46,
     "metadata": {},
     "output_type": "execute_result"
    }
   ],
   "source": [
    "len([ent for ent in doc.ents if ent.label_ == \"MONEY\"])"
   ],
   "metadata": {
    "collapsed": false,
    "ExecuteTime": {
     "end_time": "2024-07-30T07:50:47.903943500Z",
     "start_time": "2024-07-30T07:50:47.827797200Z"
    }
   },
   "id": "42e5dd061097f8ba"
  }
 ],
 "metadata": {
  "kernelspec": {
   "display_name": "Python 3",
   "language": "python",
   "name": "python3"
  },
  "language_info": {
   "codemirror_mode": {
    "name": "ipython",
    "version": 2
   },
   "file_extension": ".py",
   "mimetype": "text/x-python",
   "name": "python",
   "nbconvert_exporter": "python",
   "pygments_lexer": "ipython2",
   "version": "2.7.6"
  }
 },
 "nbformat": 4,
 "nbformat_minor": 5
}
