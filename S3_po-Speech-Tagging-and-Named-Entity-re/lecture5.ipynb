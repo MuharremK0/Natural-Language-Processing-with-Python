{
 "cells": [
  {
   "cell_type": "code",
   "execution_count": 19,
   "id": "initial_id",
   "metadata": {
    "collapsed": true,
    "ExecuteTime": {
     "end_time": "2024-07-30T09:05:08.740438500Z",
     "start_time": "2024-07-30T09:05:08.227967Z"
    }
   },
   "outputs": [],
   "source": [
    "import spacy\n",
    "nlp = spacy.load('en_core_web_sm')"
   ]
  },
  {
   "cell_type": "code",
   "execution_count": 20,
   "outputs": [],
   "source": [
    "doc = nlp(u'This is the first sentence. This is another sentence. This is the last sentence.')"
   ],
   "metadata": {
    "collapsed": false,
    "ExecuteTime": {
     "end_time": "2024-07-30T09:05:08.780847400Z",
     "start_time": "2024-07-30T09:05:08.743974500Z"
    }
   },
   "id": "c67f6c49d9bb65fa"
  },
  {
   "cell_type": "code",
   "execution_count": 21,
   "outputs": [
    {
     "name": "stdout",
     "output_type": "stream",
     "text": [
      "This is the first sentence.\n",
      "This is another sentence.\n",
      "This is the last sentence.\n"
     ]
    }
   ],
   "source": [
    "for sent in doc.sents:\n",
    "    print(sent)"
   ],
   "metadata": {
    "collapsed": false,
    "ExecuteTime": {
     "end_time": "2024-07-30T09:05:08.788826100Z",
     "start_time": "2024-07-30T09:05:08.773866300Z"
    }
   },
   "id": "88f44095624051ab"
  },
  {
   "cell_type": "code",
   "execution_count": 22,
   "outputs": [
    {
     "data": {
      "text/plain": "This is the first sentence."
     },
     "execution_count": 22,
     "metadata": {},
     "output_type": "execute_result"
    }
   ],
   "source": [
    "list(doc.sents)[0]"
   ],
   "metadata": {
    "collapsed": false,
    "ExecuteTime": {
     "end_time": "2024-07-30T09:05:08.802788400Z",
     "start_time": "2024-07-30T09:05:08.790824800Z"
    }
   },
   "id": "2b955be86c38f544"
  },
  {
   "cell_type": "code",
   "execution_count": 23,
   "outputs": [],
   "source": [
    "doc = nlp(u'\"Management is doing the right things; leadership is doing the right things.\" -Peter Drucker')"
   ],
   "metadata": {
    "collapsed": false,
    "ExecuteTime": {
     "end_time": "2024-07-30T09:05:08.879248Z",
     "start_time": "2024-07-30T09:05:08.813762Z"
    }
   },
   "id": "94cdc29edf6a4bb7"
  },
  {
   "cell_type": "code",
   "execution_count": 24,
   "outputs": [
    {
     "data": {
      "text/plain": "'\"Management is doing the right things; leadership is doing the right things.\" -Peter Drucker'"
     },
     "execution_count": 24,
     "metadata": {},
     "output_type": "execute_result"
    }
   ],
   "source": [
    "doc.text"
   ],
   "metadata": {
    "collapsed": false,
    "ExecuteTime": {
     "end_time": "2024-07-30T09:05:08.890190900Z",
     "start_time": "2024-07-30T09:05:08.838820900Z"
    }
   },
   "id": "bb7e15882da746bc"
  },
  {
   "cell_type": "code",
   "execution_count": 25,
   "outputs": [
    {
     "name": "stdout",
     "output_type": "stream",
     "text": [
      "\"Management is doing the right things; leadership is doing the right things.\"\n",
      "\n",
      "\n",
      "-Peter Drucker\n",
      "\n"
     ]
    }
   ],
   "source": [
    "for sent in doc.sents:\n",
    "    print(sent)\n",
    "    print('\\n')"
   ],
   "metadata": {
    "collapsed": false,
    "ExecuteTime": {
     "end_time": "2024-07-30T09:05:08.891196300Z",
     "start_time": "2024-07-30T09:05:08.851293300Z"
    }
   },
   "id": "8531b36027ae5d83"
  },
  {
   "cell_type": "code",
   "execution_count": 26,
   "outputs": [],
   "source": [
    "#ADD A SEGMENTATION RULE"
   ],
   "metadata": {
    "collapsed": false,
    "ExecuteTime": {
     "end_time": "2024-07-30T09:05:08.892184700Z",
     "start_time": "2024-07-30T09:05:08.871254500Z"
    }
   },
   "id": "89d3e53d6986541b"
  },
  {
   "cell_type": "code",
   "execution_count": 27,
   "outputs": [],
   "source": [
    "from spacy.language import Language"
   ],
   "metadata": {
    "collapsed": false,
    "ExecuteTime": {
     "end_time": "2024-07-30T09:05:08.910135600Z",
     "start_time": "2024-07-30T09:05:08.888196300Z"
    }
   },
   "id": "27d9359f4ce1737f"
  },
  {
   "cell_type": "code",
   "execution_count": 28,
   "outputs": [],
   "source": [
    "@Language.component(\"set_custom_boundaries\")\n",
    "def set_custom_boundaries(doc):\n",
    "    for token in doc[:-1]:\n",
    "        if token.text == ';':\n",
    "            doc[token.i+1].is_sent_start = True\n",
    "    return doc"
   ],
   "metadata": {
    "collapsed": false,
    "ExecuteTime": {
     "end_time": "2024-07-30T09:05:08.972491100Z",
     "start_time": "2024-07-30T09:05:08.902160200Z"
    }
   },
   "id": "730be56d6b621c42"
  },
  {
   "cell_type": "code",
   "execution_count": 29,
   "outputs": [
    {
     "data": {
      "text/plain": "['tok2vec',\n 'tagger',\n 'set_custom_boundaries',\n 'parser',\n 'attribute_ruler',\n 'lemmatizer',\n 'ner']"
     },
     "execution_count": 29,
     "metadata": {},
     "output_type": "execute_result"
    }
   ],
   "source": [
    "nlp.add_pipe(\"set_custom_boundaries\",before=\"parser\")\n",
    "nlp.pipe_names"
   ],
   "metadata": {
    "collapsed": false,
    "ExecuteTime": {
     "end_time": "2024-07-30T09:05:08.993684700Z",
     "start_time": "2024-07-30T09:05:08.916127100Z"
    }
   },
   "id": "2bcc4fc3dbf51965"
  },
  {
   "cell_type": "code",
   "execution_count": 30,
   "outputs": [
    {
     "data": {
      "text/plain": "\"Management is doing the right things; leadership is doing the right things.\" -Peter"
     },
     "execution_count": 30,
     "metadata": {},
     "output_type": "execute_result"
    }
   ],
   "source": [
    "doc[:-1]"
   ],
   "metadata": {
    "collapsed": false,
    "ExecuteTime": {
     "end_time": "2024-07-30T09:05:45.158069700Z",
     "start_time": "2024-07-30T09:05:45.123976900Z"
    }
   },
   "id": "89e57d0863fec9e4"
  },
  {
   "cell_type": "code",
   "execution_count": 31,
   "outputs": [],
   "source": [
    "doc4 = nlp(u'\"Management is doing the right things; leadership is doing the right things.\" -Peter Drucker')"
   ],
   "metadata": {
    "collapsed": false,
    "ExecuteTime": {
     "end_time": "2024-07-30T09:11:23.069607Z",
     "start_time": "2024-07-30T09:11:23.043931Z"
    }
   },
   "id": "6de83d7ce6b3ccce"
  },
  {
   "cell_type": "code",
   "execution_count": 32,
   "outputs": [
    {
     "name": "stdout",
     "output_type": "stream",
     "text": [
      "\"Management is doing the right things;\n",
      "leadership is doing the right things.\"\n",
      "-Peter Drucker\n"
     ]
    }
   ],
   "source": [
    "for sent in doc4.sents:\n",
    "    print(sent)"
   ],
   "metadata": {
    "collapsed": false,
    "ExecuteTime": {
     "end_time": "2024-07-30T09:11:38.919886900Z",
     "start_time": "2024-07-30T09:11:38.896348900Z"
    }
   },
   "id": "77f011f0c92218b7"
  },
  {
   "cell_type": "code",
   "execution_count": 33,
   "outputs": [],
   "source": [
    "#CHANGE SEGMENTATION RULES"
   ],
   "metadata": {
    "collapsed": false,
    "ExecuteTime": {
     "end_time": "2024-07-30T09:13:08.222623200Z",
     "start_time": "2024-07-30T09:13:08.198609400Z"
    }
   },
   "id": "df30007594a1c13f"
  },
  {
   "cell_type": "code",
   "execution_count": 34,
   "outputs": [],
   "source": [
    "nlp = spacy.load('en_core_web_sm')"
   ],
   "metadata": {
    "collapsed": false,
    "ExecuteTime": {
     "end_time": "2024-07-30T09:13:24.045132300Z",
     "start_time": "2024-07-30T09:13:23.364806300Z"
    }
   },
   "id": "481d86a53f1a5937"
  },
  {
   "cell_type": "code",
   "execution_count": 35,
   "outputs": [],
   "source": [
    "mystring = u\"This is a sentence. This is another.\\n\\nThis is a \\nthird sentence.\""
   ],
   "metadata": {
    "collapsed": false,
    "ExecuteTime": {
     "end_time": "2024-07-30T19:35:54.546137800Z",
     "start_time": "2024-07-30T19:35:54.534172700Z"
    }
   },
   "id": "5a99052b6e6ff8f9"
  },
  {
   "cell_type": "code",
   "execution_count": 36,
   "outputs": [
    {
     "name": "stdout",
     "output_type": "stream",
     "text": [
      "This is a sentence. This is another.\n",
      "\n",
      "This is a \n",
      "third sentence.\n"
     ]
    }
   ],
   "source": [
    "print(mystring)"
   ],
   "metadata": {
    "collapsed": false,
    "ExecuteTime": {
     "end_time": "2024-07-30T19:45:32.019227500Z",
     "start_time": "2024-07-30T19:45:31.896442800Z"
    }
   },
   "id": "12ba8d5932cbfc64"
  },
  {
   "cell_type": "code",
   "execution_count": 37,
   "outputs": [],
   "source": [
    "doc = nlp(mystring)"
   ],
   "metadata": {
    "collapsed": false,
    "ExecuteTime": {
     "end_time": "2024-07-30T19:46:27.486744800Z",
     "start_time": "2024-07-30T19:46:27.118110800Z"
    }
   },
   "id": "c4235e01692cb53"
  },
  {
   "cell_type": "code",
   "execution_count": 38,
   "outputs": [
    {
     "name": "stdout",
     "output_type": "stream",
     "text": [
      "This is a sentence.\n",
      "This is another.\n",
      "\n",
      "\n",
      "This is a \n",
      "third sentence.\n"
     ]
    }
   ],
   "source": [
    "for sentence in doc.sents:\n",
    "    print(sentence)"
   ],
   "metadata": {
    "collapsed": false,
    "ExecuteTime": {
     "end_time": "2024-07-30T19:46:37.714054800Z",
     "start_time": "2024-07-30T19:46:37.654240900Z"
    }
   },
   "id": "647f1ba0bb282487"
  },
  {
   "cell_type": "code",
   "execution_count": 42,
   "outputs": [],
   "source": [
    "from spacy.pipeline import Sentencizer # I didnt find SentenceSegmenter"
   ],
   "metadata": {
    "collapsed": false,
    "ExecuteTime": {
     "end_time": "2024-07-30T20:00:04.231112800Z",
     "start_time": "2024-07-30T20:00:04.217634900Z"
    }
   },
   "id": "cd8e5879ec8f7f86"
  },
  {
   "cell_type": "code",
   "execution_count": 44,
   "outputs": [],
   "source": [
    "@Language.component(\"split_on_newlines\")\n",
    "def split_on_newlines(doc):\n",
    "    start = 0\n",
    "    seen_newline = False\n",
    "    \n",
    "    for word in doc:\n",
    "        if seen_newline:\n",
    "            yield doc[start:word.i]\n",
    "            start = word.i\n",
    "            seen_newline = False\n",
    "        elif word.text.startswith('\\n'):\n",
    "            seen_newline = True\n",
    "        \n",
    "    yield doc[start:]"
   ],
   "metadata": {
    "collapsed": false,
    "ExecuteTime": {
     "end_time": "2024-07-30T20:04:00.110053900Z",
     "start_time": "2024-07-30T20:04:00.009542700Z"
    }
   },
   "id": "cd39b2e6e04a6622"
  },
  {
   "cell_type": "code",
   "execution_count": 47,
   "outputs": [],
   "source": [
    "#Sürüm farklılığından dolayı üstteki fonksiyonu kullanamıyorum. "
   ],
   "metadata": {
    "collapsed": false,
    "ExecuteTime": {
     "end_time": "2024-07-30T20:07:15.130735400Z",
     "start_time": "2024-07-30T20:07:15.062132700Z"
    }
   },
   "id": "f844c914c08ec7f7"
  },
  {
   "cell_type": "code",
   "execution_count": 48,
   "outputs": [
    {
     "data": {
      "text/plain": "<spacy.pipeline.sentencizer.Sentencizer at 0x21131d86e00>"
     },
     "execution_count": 48,
     "metadata": {},
     "output_type": "execute_result"
    }
   ],
   "source": [
    "punct_marks = [\"\\n\"]\n",
    "config = {\"punct_chars\":punct_marks}\n",
    "nlp.add_pipe('sentencizer',config=config,before='parser')"
   ],
   "metadata": {
    "collapsed": false,
    "ExecuteTime": {
     "end_time": "2024-07-30T20:08:12.361139900Z",
     "start_time": "2024-07-30T20:08:12.154948900Z"
    }
   },
   "id": "9dc8f13e30b07e19"
  },
  {
   "cell_type": "code",
   "execution_count": 51,
   "outputs": [
    {
     "name": "stdout",
     "output_type": "stream",
     "text": [
      "This is a sentence. This is another.\n",
      "\n",
      "This is a \n",
      "\n",
      "third sentence.\n"
     ]
    }
   ],
   "source": [
    "doc = nlp(mystring)\n",
    "for s in doc.sents:\n",
    "    print(s)"
   ],
   "metadata": {
    "collapsed": false,
    "ExecuteTime": {
     "end_time": "2024-07-30T20:09:43.329098700Z",
     "start_time": "2024-07-30T20:09:43.293598500Z"
    }
   },
   "id": "6293928159332f4"
  },
  {
   "cell_type": "code",
   "execution_count": null,
   "outputs": [],
   "source": [],
   "metadata": {
    "collapsed": false
   },
   "id": "baf56edeca98e8e1"
  }
 ],
 "metadata": {
  "kernelspec": {
   "display_name": "Python 3",
   "language": "python",
   "name": "python3"
  },
  "language_info": {
   "codemirror_mode": {
    "name": "ipython",
    "version": 2
   },
   "file_extension": ".py",
   "mimetype": "text/x-python",
   "name": "python",
   "nbconvert_exporter": "python",
   "pygments_lexer": "ipython2",
   "version": "2.7.6"
  }
 },
 "nbformat": 4,
 "nbformat_minor": 5
}
